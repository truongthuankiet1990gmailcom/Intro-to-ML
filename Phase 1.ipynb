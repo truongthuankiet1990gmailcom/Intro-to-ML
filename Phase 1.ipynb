{
 "cells": [
  {
   "cell_type": "markdown",
   "metadata": {},
   "source": [
    "# Phase 1"
   ]
  },
  {
   "cell_type": "markdown",
   "metadata": {},
   "source": [
    "## Libraries"
   ]
  },
  {
   "cell_type": "code",
   "execution_count": 1,
   "metadata": {},
   "outputs": [
    {
     "name": "stderr",
     "output_type": "stream",
     "text": [
      "c:\\Users\\Welcome\\AppData\\Local\\Programs\\Python\\Python313\\Lib\\site-packages\\tqdm\\auto.py:21: TqdmWarning: IProgress not found. Please update jupyter and ipywidgets. See https://ipywidgets.readthedocs.io/en/stable/user_install.html\n",
      "  from .autonotebook import tqdm as notebook_tqdm\n"
     ]
    }
   ],
   "source": [
    "import pandas as pd \n",
    "import numpy as np\n",
    "import matplotlib.pyplot as plt\n",
    "import seaborn as sns\n",
    "\n",
    "import optuna\n",
    "from sklearn.metrics import mean_squared_error, r2_score, root_mean_squared_log_error\n",
    "from joblib import parallel_backend\n",
    "import joblib\n",
    "import time\n",
    "from scipy.special import inv_boxcox"
   ]
  },
  {
   "cell_type": "markdown",
   "metadata": {},
   "source": [
    "## Data Preprocessing"
   ]
  },
  {
   "cell_type": "markdown",
   "metadata": {},
   "source": [
    "### Feature Engineering\n",
    "- From previous EDA notebook, we already knew that `feature_12` is time-related features, therefore, we would extract `day`, `month`, `year`, ... and create periodic features with sin and cos of month and day. \n",
    "- Then, we gotta drop the `id` and `feature_12` since these are no longer useful."
   ]
  },
  {
   "cell_type": "code",
   "execution_count": 2,
   "metadata": {},
   "outputs": [],
   "source": [
    "train = pd.read_csv('data/train.csv')\n",
    "test = pd.read_csv('data/test.csv')\n",
    "train['feature_12'] = pd.to_datetime(train['feature_12'])\n",
    "train['year'] = (train['feature_12']).dt.year\n",
    "train['month'] = (train['feature_12']).dt.month\n",
    "train['day'] = (train['feature_12']).dt.day\n",
    "train['dow'] = (train['feature_12']).dt.dayofweek\n",
    "train['week'] = train['feature_12'].dt.isocalendar().week\n",
    "\n",
    "train['month_sin'] = np.sin(2 * np.pi * (train['month'] - 1) / 12)\n",
    "train['month_cos'] = np.cos(2 * np.pi * (train['month'] - 1) / 12)\n",
    "train['day_sin'] = np.sin(2 * np.pi * (train['day'] - 1) / 31)\n",
    "train['day_cos'] = np.cos(2 * np.pi * (train['day'] - 1) / 31)\n",
    "\n",
    "test['feature_12'] = pd.to_datetime(test['feature_12'])\n",
    "test['year'] = (test['feature_12']).dt.year\n",
    "test['month'] = (test['feature_12']).dt.month\n",
    "test['day'] = (test['feature_12']).dt.day\n",
    "test['dow'] = (test['feature_12']).dt.dayofweek\n",
    "test['week'] = (test['feature_12']).dt.isocalendar().week\n",
    "\n",
    "test['month_sin'] = np.sin(2 * np.pi * (test['month'] - 1) / 12)\n",
    "test['month_cos'] = np.cos(2 * np.pi * (test['month'] - 1) / 12)\n",
    "test['day_sin'] = np.sin(2 * np.pi * (test['day'] - 1) / 31)\n",
    "test['day_cos'] = np.cos(2 * np.pi * (test['day'] - 1) / 31)\n",
    "\n",
    "train = train.drop(columns=['feature_12'])\n",
    "test = test.drop(columns=['feature_12'])\n",
    "train = train.drop(columns=['id'])\n",
    "test = test.drop(columns=['id'])"
   ]
  },
  {
   "cell_type": "markdown",
   "metadata": {},
   "source": [
    "### Handle Missing Values"
   ]
  },
  {
   "cell_type": "code",
   "execution_count": 3,
   "metadata": {},
   "outputs": [
    {
     "data": {
      "text/html": [
       "<div>\n",
       "<style scoped>\n",
       "    .dataframe tbody tr th:only-of-type {\n",
       "        vertical-align: middle;\n",
       "    }\n",
       "\n",
       "    .dataframe tbody tr th {\n",
       "        vertical-align: top;\n",
       "    }\n",
       "\n",
       "    .dataframe thead th {\n",
       "        text-align: right;\n",
       "    }\n",
       "</style>\n",
       "<table border=\"1\" class=\"dataframe\">\n",
       "  <thead>\n",
       "    <tr style=\"text-align: right;\">\n",
       "      <th></th>\n",
       "      <th>Total</th>\n",
       "      <th>Ratio</th>\n",
       "    </tr>\n",
       "  </thead>\n",
       "  <tbody>\n",
       "    <tr>\n",
       "      <th>feature_11</th>\n",
       "      <td>1</td>\n",
       "      <td>0.000083</td>\n",
       "    </tr>\n",
       "    <tr>\n",
       "      <th>feature_9</th>\n",
       "      <td>6</td>\n",
       "      <td>0.000500</td>\n",
       "    </tr>\n",
       "    <tr>\n",
       "      <th>feature_1</th>\n",
       "      <td>18529</td>\n",
       "      <td>1.544083</td>\n",
       "    </tr>\n",
       "    <tr>\n",
       "      <th>Age</th>\n",
       "      <td>18705</td>\n",
       "      <td>1.558750</td>\n",
       "    </tr>\n",
       "    <tr>\n",
       "      <th>feature_0</th>\n",
       "      <td>44949</td>\n",
       "      <td>3.745750</td>\n",
       "    </tr>\n",
       "    <tr>\n",
       "      <th>feature_5</th>\n",
       "      <td>74076</td>\n",
       "      <td>6.173000</td>\n",
       "    </tr>\n",
       "    <tr>\n",
       "      <th>feature_13</th>\n",
       "      <td>77824</td>\n",
       "      <td>6.485333</td>\n",
       "    </tr>\n",
       "    <tr>\n",
       "      <th>feature_2</th>\n",
       "      <td>109672</td>\n",
       "      <td>9.139333</td>\n",
       "    </tr>\n",
       "    <tr>\n",
       "      <th>feature_10</th>\n",
       "      <td>137882</td>\n",
       "      <td>11.490167</td>\n",
       "    </tr>\n",
       "    <tr>\n",
       "      <th>feature_4</th>\n",
       "      <td>358075</td>\n",
       "      <td>29.839583</td>\n",
       "    </tr>\n",
       "    <tr>\n",
       "      <th>feature_8</th>\n",
       "      <td>364029</td>\n",
       "      <td>30.335750</td>\n",
       "    </tr>\n",
       "  </tbody>\n",
       "</table>\n",
       "</div>"
      ],
      "text/plain": [
       "             Total      Ratio\n",
       "feature_11       1   0.000083\n",
       "feature_9        6   0.000500\n",
       "feature_1    18529   1.544083\n",
       "Age          18705   1.558750\n",
       "feature_0    44949   3.745750\n",
       "feature_5    74076   6.173000\n",
       "feature_13   77824   6.485333\n",
       "feature_2   109672   9.139333\n",
       "feature_10  137882  11.490167\n",
       "feature_4   358075  29.839583\n",
       "feature_8   364029  30.335750"
      ]
     },
     "execution_count": 3,
     "metadata": {},
     "output_type": "execute_result"
    }
   ],
   "source": [
    "# Check for missing values\n",
    "missing_values = train.isnull().sum()\n",
    "missing_values = missing_values[missing_values > 0]\n",
    "missing_values.sort_values(inplace=True)\n",
    "missing_ratio = missing_values / len(train) * 100\n",
    "missing_values = pd.concat([missing_values, missing_ratio], axis=1, keys=['Total', 'Ratio'])\n",
    "missing_values"
   ]
  },
  {
   "cell_type": "markdown",
   "metadata": {},
   "source": [
    "Since from EDA notebook, we already knew that `nan` values has relationship with `target`, therefore we will try imputing `median` to fill missing values in numerical features and `Unknown` for categorical features."
   ]
  },
  {
   "cell_type": "code",
   "execution_count": 4,
   "metadata": {},
   "outputs": [
    {
     "data": {
      "text/plain": [
       "['numerical_imputer_phase1.joblib']"
      ]
     },
     "execution_count": 4,
     "metadata": {},
     "output_type": "execute_result"
    }
   ],
   "source": [
    "# Use simple imputer to fill missing values\n",
    "from sklearn.impute import SimpleImputer\n",
    "\n",
    "numerical_missing_vals = ['Age', 'feature_0', 'feature_2', 'feature_5', 'feature_8', 'feature_9', 'feature_10', 'feature_11']\n",
    "categorical_missing_vals = ['feature_1', 'feature_4', 'feature_13']\n",
    "\n",
    "numerical_imputer = SimpleImputer(strategy='median')\n",
    "\n",
    "\n",
    "train[numerical_missing_vals] = numerical_imputer.fit_transform(train[numerical_missing_vals])\n",
    "train[categorical_missing_vals] = train[categorical_missing_vals].fillna('Unknown')\n",
    "\n",
    "test[numerical_missing_vals] = numerical_imputer.transform(test[numerical_missing_vals])\n",
    "test[categorical_missing_vals] = test[categorical_missing_vals].fillna('Unknown')\n",
    "\n",
    "joblib.dump(numerical_imputer, 'numerical_imputer_phase1.joblib')"
   ]
  },
  {
   "cell_type": "markdown",
   "metadata": {},
   "source": [
    "### Encoding\n",
    "- Since from the EDA, we already knew that which one should get one-hot encoded, label encoded and ordinal encoded."
   ]
  },
  {
   "cell_type": "code",
   "execution_count": 5,
   "metadata": {},
   "outputs": [
    {
     "data": {
      "text/plain": [
       "['ordinal_encoders.joblib']"
      ]
     },
     "execution_count": 5,
     "metadata": {},
     "output_type": "execute_result"
    }
   ],
   "source": [
    "from sklearn.preprocessing import LabelEncoder, OrdinalEncoder\n",
    "\n",
    "features_for_one_hot = ['Gender', 'feature_1', 'feature_4', 'feature_6', 'feature_16']\n",
    "features_for_label = ['feature_14']\n",
    "features_for_ordinal = ['feature_3', 'feature_7', 'feature_13', 'feature_15']\n",
    "\n",
    "ordinal_features = {\n",
    "    'feature_3': ['High School', \"Bachelor's\", \"Master's\", 'PhD'],\n",
    "    'feature_7': ['Basic', 'Comprehensive', 'Premium'],\n",
    "    'feature_13': ['Poor', 'Average', 'Good'],\n",
    "    'feature_15': ['Rarely', 'Monthly', 'Weekly', 'Daily'],\n",
    "}\n",
    "\n",
    "# One-hot encoding\n",
    "for feature in features_for_one_hot:\n",
    "    train = pd.get_dummies(train, columns=[feature], prefix=[feature], dtype=int)\n",
    "    test = pd.get_dummies(test, columns=[feature], prefix=[feature], dtype=int)\n",
    "\n",
    "# Label encoding\n",
    "label_encoders = {}\n",
    "for feature in features_for_label:\n",
    "    le = LabelEncoder()\n",
    "    train[feature] = le.fit_transform(train[feature])\n",
    "    test[feature] = le.transform(test[feature])\n",
    "    label_encoders[feature] = le\n",
    "\n",
    "# Save label encoders\n",
    "joblib.dump(label_encoders, 'label_encoders.joblib')\n",
    "\n",
    "# Ordinal encoding\n",
    "ordinal_encoders = {}\n",
    "for feature, order in ordinal_features.items():\n",
    "    oe = OrdinalEncoder(categories=[order], handle_unknown='use_encoded_value', unknown_value=-1)\n",
    "    train[feature] = oe.fit_transform(train[[feature]]).flatten()\n",
    "    test[feature] = oe.transform(test[[feature]]).flatten()\n",
    "    ordinal_encoders[feature] = oe\n",
    "\n",
    "# Save ordinal encoders\n",
    "joblib.dump(ordinal_encoders, 'ordinal_encoders.joblib')"
   ]
  },
  {
   "cell_type": "markdown",
   "metadata": {},
   "source": [
    "- For skewed feature like `feature_0`, we also used log-transformation (although we tried other methods like `box-cox` and `sqrt-transformation` but the result is not quite good therefore, we still sticked to `log-transformation`)."
   ]
  },
  {
   "cell_type": "code",
   "execution_count": 6,
   "metadata": {},
   "outputs": [],
   "source": [
    "features_for_robust = ['feature_0']\n",
    "for feature in features_for_robust:\n",
    "    train[feature] = np.log1p(train[feature])\n",
    "    test[feature] = np.log1p(test[feature])\n"
   ]
  },
  {
   "cell_type": "code",
   "execution_count": 7,
   "metadata": {},
   "outputs": [],
   "source": [
    "X_train = train.drop(columns=['target'])\n",
    "y_train = train['target']"
   ]
  },
  {
   "cell_type": "markdown",
   "metadata": {},
   "source": [
    "### Distribution of Target"
   ]
  },
  {
   "cell_type": "code",
   "execution_count": 8,
   "metadata": {},
   "outputs": [
    {
     "data": {
      "image/png": "[encoded data removed]",
      "text/plain": [
       "<Figure size 1200x600 with 1 Axes>"
      ]
     },
     "metadata": {},
     "output_type": "display_data"
    }
   ],
   "source": [
    "# Plot the distribution of the target variable\n",
    "plt.figure(figsize=(12, 6))\n",
    "sns.histplot(y_train, kde=True)\n",
    "plt.show()"
   ]
  },
  {
   "cell_type": "code",
   "execution_count": 9,
   "metadata": {},
   "outputs": [],
   "source": [
    "from scipy import stats"
   ]
  },
  {
   "cell_type": "code",
   "execution_count": 10,
   "metadata": {},
   "outputs": [
    {
     "name": "stderr",
     "output_type": "stream",
     "text": [
      "C:\\Users\\Welcome\\AppData\\Local\\Temp\\ipykernel_34328\\700068326.py:12: FutureWarning: Series.ravel is deprecated. The underlying array is already 1D, so ravel is not necessary.  Use `to_numpy()` for conversion to a numpy array instead.\n",
      "  y_box_cox, boxcox_lambda = stats.boxcox(y_train_shifted.ravel())  # Store lambda_ as boxcox_lambda\n"
     ]
    },
    {
     "name": "stdout",
     "output_type": "stream",
     "text": [
      "Skewness of the target variable after box cox transformation: -0.05840454699577999\n",
      "Skewness of the target variable after log transformation: -1.2558873578553627\n",
      "Skewness of the target variable after sqrt transformation: 0.1992705885494774\n"
     ]
    },
    {
     "name": "stderr",
     "output_type": "stream",
     "text": [
      "C:\\Users\\Welcome\\AppData\\Local\\Temp\\ipykernel_34328\\700068326.py:13: FutureWarning: Series.ravel is deprecated. The underlying array is already 1D, so ravel is not necessary.  Use `to_numpy()` for conversion to a numpy array instead.\n",
      "  y_log = np.log1p(y_train_array.ravel())\n",
      "C:\\Users\\Welcome\\AppData\\Local\\Temp\\ipykernel_34328\\700068326.py:14: FutureWarning: Series.ravel is deprecated. The underlying array is already 1D, so ravel is not necessary.  Use `to_numpy()` for conversion to a numpy array instead.\n",
      "  y_sqrt = np.sqrt(y_train_array.ravel())\n"
     ]
    }
   ],
   "source": [
    "y_train_array = y_train.values if isinstance(y_train, pd.DataFrame) else y_train\n",
    "\n",
    "# Handle non-positive values for Box-Cox transformation\n",
    "if (y_train_array <= 0).any():\n",
    "    boxcox_shift = -y_train_array.min() + 1  # Shift to make all values positive\n",
    "    y_train_shifted = y_train_array + boxcox_shift\n",
    "else:\n",
    "    y_train_shifted = y_train_array\n",
    "    boxcox_shift = 0\n",
    "\n",
    "# Apply transformations\n",
    "y_box_cox, boxcox_lambda = stats.boxcox(y_train_shifted.ravel())  # Store lambda_ as boxcox_lambda\n",
    "y_log = np.log1p(y_train_array.ravel())\n",
    "y_sqrt = np.sqrt(y_train_array.ravel())\n",
    "\n",
    "# Check skewness of the target variable\n",
    "skewness_box_cox = stats.skew(y_box_cox)\n",
    "skewness_log = stats.skew(y_log)\n",
    "skewness_sqrt = stats.skew(y_sqrt)\n",
    "\n",
    "print(f'Skewness of the target variable after box cox transformation: {skewness_box_cox}')\n",
    "print(f'Skewness of the target variable after log transformation: {skewness_log}')\n",
    "print(f'Skewness of the target variable after sqrt transformation: {skewness_sqrt}')\n",
    "\n",
    "# Set y_train to the Box-Cox transformed values\n",
    "y_train = y_log"
   ]
  },
  {
   "cell_type": "markdown",
   "metadata": {},
   "source": [
    "Since we already knew that the metric was evaluated is `RMSLE`, therefore using `log-transformation` on target is the best:\n",
    "- Alignment with the Metric: RMSLE measures errors in the log space (log(1+y)). By taking the mean in the log space and exponentiating back, you’re finding the value that minimizes the squared logarithmic differences, which is exactly what RMSLE evaluates.\n",
    "- Relative Errors: RMSLE cares about relative errors (e.g., a 10% error is the same whether the true value is 100 or 10,000). The log transformation converts relative errors into additive differences, and the mean in this space corresponds to the geometric mean in the original space, which aligns with RMSLE’s focus on relative errors."
   ]
  },
  {
   "cell_type": "code",
   "execution_count": 11,
   "metadata": {},
   "outputs": [
    {
     "data": {
      "text/plain": [
       "array([7.96206731, 7.30249642, 6.34212142, ..., 5.91889385, 6.39191711,\n",
       "       7.81641698])"
      ]
     },
     "execution_count": 11,
     "metadata": {},
     "output_type": "execute_result"
    }
   ],
   "source": [
    "y_train"
   ]
  },
  {
   "cell_type": "markdown",
   "metadata": {},
   "source": [
    "### Retyping\n",
    "- To save the training time, we decreased the storage unit for data type."
   ]
  },
  {
   "cell_type": "code",
   "execution_count": 12,
   "metadata": {},
   "outputs": [],
   "source": [
    "# Optimize data types to reduce memory usage\n",
    "\n",
    "def optimize_dtypes(df):\n",
    "    for col in df.columns:\n",
    "        if df[col].dtype == 'float64':\n",
    "            df[col] = df[col].astype('float32')\n",
    "        elif df[col].dtype == 'int64' or df[col].dtype == 'int32':\n",
    "            df[col] = df[col].astype('int8')\n",
    "    return df\n",
    "\n",
    "# Apply optimization if using pandas\n",
    "if isinstance(X_train, pd.DataFrame):\n",
    "    X_train = optimize_dtypes(X_train)\n",
    "    y_train = optimize_dtypes(pd.DataFrame(y_train))\n",
    "    test = optimize_dtypes(test)\n"
   ]
  },
  {
   "cell_type": "markdown",
   "metadata": {},
   "source": [
    "## Models"
   ]
  },
  {
   "cell_type": "code",
   "execution_count": 13,
   "metadata": {},
   "outputs": [],
   "source": [
    "from sklearn.model_selection import train_test_split\n",
    "from sklearn.ensemble import RandomForestRegressor\n"
   ]
  },
  {
   "cell_type": "code",
   "execution_count": 14,
   "metadata": {},
   "outputs": [],
   "source": [
    "from sklearn.model_selection import KFold\n",
    "kf = KFold(n_splits=5, shuffle=True, random_state=42)\n"
   ]
  },
  {
   "cell_type": "markdown",
   "metadata": {},
   "source": [
    "- In this dataset, we used `parallel_backend` for the purpose that: It controls how joblib (used by scikit-learn) parallelizes tasks, using separate processes (not threads) to avoid Python’s GIL and enable true parallelism. `'loky'` is robust and efficient, especially for large datasets, as it manages memory and processes well and we don't use other methods because:\n",
    "    - `'threading'`\n",
    "        - Pros:\n",
    "            - Lower memory usage since threads share memory.\n",
    "            - Faster startup time compared to processes.\n",
    "        - Cons:\n",
    "            - Limited by Python’s GIL, so it doesn’t provide true parallelism for CPU-bound tasks like training a decision tree or Random Forest. This makes it slower for most machine learning workloads.\n",
    "            - Not suitable for nested parallelization (e.g., if Optuna is also parallelizing trials).\n",
    "\n",
    "    - `'multiprocessing'`\n",
    "        - Pros:\n",
    "            - Provides true parallelism by avoiding the GIL.\n",
    "        - Cons:\n",
    "            - Less robust than 'loky'. Can lead to issues like deadlocks, especially in Jupyter notebooks or complex environments.\n",
    "            - Not as well-optimized for machine learning workloads as 'loky'.\n",
    "- Also to have better training process, we used `KFOLD` with **n_splits = 5**, to ensure that models can be evaluated by most of the training set."
   ]
  },
  {
   "cell_type": "markdown",
   "metadata": {},
   "source": [
    "#### Random Forest"
   ]
  },
  {
   "cell_type": "code",
   "execution_count": 15,
   "metadata": {},
   "outputs": [],
   "source": [
    "metrics = {\n",
    "    'RMSLE': [],\n",
    "    'RMSE': [],\n",
    "    'Model': [],\n",
    "    'R2': [],\n",
    "    'Fold': [],\n",
    "    'Training Time': [],\n",
    "}"
   ]
  },
  {
   "cell_type": "markdown",
   "metadata": {},
   "source": [
    "First, we used `Optuna` to hypertune parameters of Random Forest:\n",
    "- `n_estimators`: More trees can help stabilize predictions, reducing the likelihood of extreme under- or over-predictions, which lowers RMSLE.\n",
    "- `max_depth`: Deeper trees might better capture non-linear relationships in the log-transformed target, but too much depth can lead to overfitting, causing large errors on the validation set.\n",
    "- `min_samples_split`: Increasing this can prevent the model from overfitting to outliers in the training data, which might otherwise lead to large RMSLE errors on the validation set.\n",
    "- `max_features`: A smaller max_features increases randomness, which can prevent the model from overfitting to noisy features, potentially reducing RMSLE."
   ]
  },
  {
   "cell_type": "code",
   "execution_count": 16,
   "metadata": {},
   "outputs": [],
   "source": [
    "import optuna\n",
    "from sklearn.ensemble import RandomForestRegressor\n",
    "from joblib import parallel_backend\n",
    "import time\n"
   ]
  },
  {
   "cell_type": "code",
   "execution_count": 17,
   "metadata": {},
   "outputs": [
    {
     "name": "stdout",
     "output_type": "stream",
     "text": [
      "Fold 1 - RMSLE: 1.0616, RMSE: 930.4888, R²: -0.1586, Training Time: 35.70 seconds\n",
      "Fold 2 - RMSLE: 1.0597, RMSE: 929.0859, R²: -0.1570, Training Time: 32.65 seconds\n",
      "Fold 3 - RMSLE: 1.0600, RMSE: 934.7757, R²: -0.1637, Training Time: 31.87 seconds\n",
      "Fold 4 - RMSLE: 1.0598, RMSE: 930.3893, R²: -0.1577, Training Time: 32.57 seconds\n",
      "Fold 5 - RMSLE: 1.0605, RMSE: 930.6812, R²: -0.1563, Training Time: 32.01 seconds\n"
     ]
    },
    {
     "data": {
      "text/plain": [
       "['rf_model.joblib']"
      ]
     },
     "execution_count": 17,
     "metadata": {},
     "output_type": "execute_result"
    }
   ],
   "source": [
    "params_for_rf = {'n_estimators': 55, 'max_depth': 14, 'min_samples_split': 12, 'max_features': 'sqrt'}\n",
    "for fold, ( train_idx, val_idx) in enumerate(kf.split(X_train)):\n",
    "    X_train_fold = X_train.iloc[train_idx] if isinstance(X_train, pd.DataFrame) else X_train[train_idx]\n",
    "    y_train_fold = y_train[train_idx].ravel() if isinstance(y_train, np.ndarray) else y_train.to_numpy()[train_idx].ravel()\n",
    "    X_val_fold = X_train.iloc[val_idx] if isinstance(X_train, pd.DataFrame) else X_train[val_idx]\n",
    "    y_val_fold = y_train[val_idx].ravel() if isinstance(y_train, np.ndarray) else y_train.to_numpy()[val_idx].ravel()\n",
    "    rf = RandomForestRegressor(**params_for_rf, random_state=42, n_jobs=-1)\n",
    "\n",
    "        # Train the model and measure time\n",
    "    start_time = time.time()\n",
    "    with parallel_backend('loky'):\n",
    "        rf.fit(X_train_fold, y_train_fold)\n",
    "    training_time = time.time() - start_time\n",
    "\n",
    "        # Predict on the transformed scale\n",
    "    y_pred_transformed = rf.predict(X_val_fold)\n",
    "\n",
    "    y_pred_original = np.expm1(y_pred_transformed)\n",
    "    y_val_original = np.expm1(y_val_fold)\n",
    "        \n",
    "        # Calculate metrics on the original scale\n",
    "    fold_rmsle = root_mean_squared_log_error(y_val_original, y_pred_original)\n",
    "    fold_rmse = np.sqrt(mean_squared_error(y_val_original, y_pred_original))\n",
    "    fold_r2 = r2_score(y_val_original, y_pred_original)\n",
    "\n",
    "        # Store fold metrics\n",
    "    metrics['RMSLE'].append(fold_rmsle)\n",
    "    metrics['RMSE'].append(fold_rmse)\n",
    "    metrics['R2'].append(fold_r2)\n",
    "    metrics['Training Time'].append(training_time)\n",
    "    metrics['Fold'].append(fold + 1)\n",
    "    metrics['Model'].append('RandomForest')\n",
    "    print(f\"Fold {fold + 1} - RMSLE: {fold_rmsle:.4f}, RMSE: {fold_rmse:.4f}, R²: {fold_r2:.4f}, Training Time: {training_time:.2f} seconds\")\n",
    "\n",
    "rf_model = RandomForestRegressor(**params_for_rf, random_state=42, n_jobs=-1)\n",
    "with parallel_backend('loky'):\n",
    "    rf_model.fit(X_train, y_train.ravel() if isinstance(y_train, np.ndarray) else y_train.to_numpy().ravel())\n",
    "\n",
    "joblib.dump(rf_model, 'rf_model.joblib')"
   ]
  },
  {
   "cell_type": "code",
   "execution_count": 18,
   "metadata": {},
   "outputs": [],
   "source": [
    "# def objective(trial):\n",
    "#     # Define hyperparameter search space\n",
    "#     params = {\n",
    "#         'n_estimators': trial.suggest_int('n_estimators', 10, 100),\n",
    "#         'max_depth': trial.suggest_int('max_depth', 5, 20),\n",
    "#         'min_samples_split': trial.suggest_int('min_samples_split', 2, 20),\n",
    "#         'max_features': trial.suggest_categorical('max_features', ['sqrt', 'log2']),\n",
    "#         'random_state': 42,\n",
    "#         'n_jobs': -1\n",
    "#     }\n",
    "\n",
    "#     # Initialize the model with trial parameters\n",
    "\n",
    "#     # Lists to store fold-wise metrics for this trial\n",
    "#     fold_metrics = []\n",
    "\n",
    "#     # Perform k-fold cross-validation\n",
    "#     for fold, (train_idx, val_idx) in enumerate(kf.split(X_train)):\n",
    "#         # Split data\n",
    "#         rf = RandomForestRegressor(**params)\n",
    "\n",
    "#         X_train_fold = X_train.iloc[train_idx] if isinstance(X_train, pd.DataFrame) else X_train[train_idx]\n",
    "#         y_train_fold = y_train[train_idx].ravel() if isinstance(y_train, np.ndarray) else y_train.to_numpy()[train_idx].ravel()\n",
    "#         X_val_fold = X_train.iloc[val_idx] if isinstance(X_train, pd.DataFrame) else X_train[val_idx]\n",
    "#         y_val_fold = y_train[val_idx].ravel() if isinstance(y_train, np.ndarray) else y_train.to_numpy()[val_idx].ravel()\n",
    "\n",
    "#         # Train the model and measure time\n",
    "#         start_time = time.time()\n",
    "#         with parallel_backend('loky'):\n",
    "#             rf.fit(X_train_fold, y_train_fold)\n",
    "#         training_time = time.time() - start_time\n",
    "\n",
    "#         # Predict on the transformed scale\n",
    "#         y_pred_transformed = rf.predict(X_val_fold)\n",
    "\n",
    "#         y_pred_original = np.expm1(y_pred_transformed)\n",
    "#         y_val_original = np.expm1(y_val_fold)\n",
    "        \n",
    "#         # Calculate metrics on the original scale\n",
    "#         fold_rmsle = root_mean_squared_log_error(y_val_original, y_pred_original)\n",
    "#         fold_rmse = np.sqrt(mean_squared_error(y_val_original, y_pred_original))\n",
    "#         fold_r2 = r2_score(y_val_original, y_pred_original)\n",
    "\n",
    "#         # Store fold metrics\n",
    "#         fold_metrics.append({\n",
    "#             'RMSLE': fold_rmsle,\n",
    "#             'RMSE': fold_rmse,\n",
    "#             'R2': fold_r2,\n",
    "#             'Training Time': training_time,\n",
    "#             'Model': 'RandomForest'\n",
    "#         })\n",
    "\n",
    "#     # Store fold metrics in trial for later retrieval\n",
    "#     trial.set_user_attr('fold_metrics', fold_metrics)\n",
    "\n",
    "#     # Return the mean RMSLE across folds (Optuna minimizes this)\n",
    "#     return np.mean([fm['RMSLE'] for fm in fold_metrics])\n",
    "\n",
    "# # Create an Optuna study and optimize\n",
    "# study = optuna.create_study(direction='minimize')\n",
    "# study.optimize(objective, n_trials=5)\n",
    "\n",
    "# # Print the best parameters and score\n",
    "# print(\"Best Parameters:\", study.best_params)\n",
    "# print(\"Best Mean RMSLE:\", study.best_value)\n",
    "\n",
    "# # Append metrics from the best trial's folds to the global metrics dictionary\n",
    "# best_trial = study.best_trial\n",
    "# best_fold_metrics = best_trial.user_attrs['fold_metrics']\n",
    "# for fold_metric in best_fold_metrics:\n",
    "#     metrics['RMSLE'].append(fold_metric['RMSLE'])\n",
    "#     metrics['RMSE'].append(fold_metric['RMSE'])\n",
    "#     metrics['R2'].append(fold_metric['R2'])\n",
    "#     metrics['Training Time'].append(fold_metric['Training Time'])\n",
    "#     metrics['Model'].append(fold_metric['Model'])\n",
    "\n",
    "# # Print fold-wise metrics for the best trial\n",
    "# print(\"\\nBest Trial Fold-wise Metrics:\")\n",
    "# for i, fm in enumerate(best_fold_metrics):\n",
    "#     print(f\"Fold {i+1}: RMSLE={fm['RMSLE']:.4f}, RMSE={fm['RMSE']:.4f}, R²={fm['R2']:.4f}, Training Time={fm['Training Time']:.2f} seconds\")\n",
    "\n",
    "# # Print updated metrics dictionary\n",
    "# print(\"Updated Metrics Dictionary:\", metrics)\n",
    "\n",
    "# # Train the final model with the best parameters\n",
    "# best_rf = RandomForestRegressor(**study.best_params, n_jobs=-1)\n"
   ]
  },
  {
   "cell_type": "code",
   "execution_count": 19,
   "metadata": {},
   "outputs": [],
   "source": [
    "# with parallel_backend('loky'):\n",
    "#     best_rf.fit(X_train, y_train.ravel() if isinstance(y_train, np.ndarray) else y_train.to_numpy().ravel())\n"
   ]
  },
  {
   "cell_type": "markdown",
   "metadata": {},
   "source": [
    "Best Parameters: {'n_estimators': 55, 'max_depth': 14, 'min_samples_split': 12, 'max_features': 'sqrt'}\n",
    "Best Mean RMSLE: 1.0603079973447636"
   ]
  },
  {
   "cell_type": "markdown",
   "metadata": {},
   "source": [
    "## Decision Tree Regressor\n",
    "- `max_depth`: A deeper tree might better capture non-linear relationships in the log-transformed target, but too much depth can lead to overfitting, causing large errors on the validation set.\n",
    "- `min_samples_split`: Increasing this can prevent the tree from overfitting to outliers or noise in the training data, which might otherwise lead to large RMSLE errors on the validation set.\n",
    "- `min_samples_leaf`: A higher value smooths predictions by ensuring each leaf’s prediction is based on more samples, reducing the likelihood of extreme predictions that could inflate RMSLE."
   ]
  },
  {
   "cell_type": "code",
   "execution_count": 20,
   "metadata": {},
   "outputs": [
    {
     "name": "stdout",
     "output_type": "stream",
     "text": [
      "Fold 1 - RMSLE: 1.0500, RMSE: 921.0106, R²: -0.1351, Training Time: 11.22 seconds\n",
      "Fold 2 - RMSLE: 1.0493, RMSE: 920.3324, R²: -0.1353, Training Time: 10.82 seconds\n",
      "Fold 3 - RMSLE: 1.0497, RMSE: 925.8523, R²: -0.1416, Training Time: 11.06 seconds\n",
      "Fold 4 - RMSLE: 1.0474, RMSE: 920.9309, R²: -0.1342, Training Time: 10.84 seconds\n",
      "Fold 5 - RMSLE: 1.0492, RMSE: 921.2720, R²: -0.1330, Training Time: 10.82 seconds\n"
     ]
    },
    {
     "data": {
      "text/plain": [
       "['decision_tree.joblib']"
      ]
     },
     "execution_count": 20,
     "metadata": {},
     "output_type": "execute_result"
    }
   ],
   "source": [
    "from sklearn.tree import DecisionTreeRegressor  \n",
    "params_for_dt = {'max_depth': 9, 'min_samples_split': 7, 'min_samples_leaf': 8}\n",
    "\n",
    "for fold, ( train_idx, val_idx) in enumerate(kf.split(X_train)):\n",
    "    X_train_fold = X_train.iloc[train_idx] if isinstance(X_train, pd.DataFrame) else X_train[train_idx]\n",
    "    y_train_fold = y_train[train_idx].ravel() if isinstance(y_train, np.ndarray) else y_train.to_numpy()[train_idx].ravel()\n",
    "    X_val_fold = X_train.iloc[val_idx] if isinstance(X_train, pd.DataFrame) else X_train[val_idx]\n",
    "    y_val_fold = y_train[val_idx].ravel() if isinstance(y_train, np.ndarray) else y_train.to_numpy()[val_idx].ravel()\n",
    "    dt = DecisionTreeRegressor(**params_for_dt, random_state=42)\n",
    "\n",
    "    # Train the model and measure time\n",
    "    start_time = time.time()\n",
    "    with parallel_backend('loky'):\n",
    "        dt.fit(X_train_fold, y_train_fold)\n",
    "    training_time = time.time() - start_time\n",
    "\n",
    "    # Predict on the transformed scale\n",
    "    y_pred_transformed = dt.predict(X_val_fold)\n",
    "    y_pred_original = np.expm1(y_pred_transformed)\n",
    "    y_val_original = np.expm1(y_val_fold)\n",
    "        \n",
    "    # Calculate metrics on the original scale\n",
    "    fold_rmsle = root_mean_squared_log_error(y_val_original, y_pred_original)\n",
    "    fold_rmse = np.sqrt(mean_squared_error(y_val_original, y_pred_original))\n",
    "    fold_r2 = r2_score(y_val_original, y_pred_original)\n",
    "\n",
    "    # Store fold metrics\n",
    "    metrics['RMSLE'].append(fold_rmsle)\n",
    "    metrics['RMSE'].append(fold_rmse)\n",
    "    metrics['R2'].append(fold_r2)\n",
    "    metrics['Training Time'].append(training_time)\n",
    "    metrics['Fold'].append(fold + 1)\n",
    "    metrics['Model'].append('DecisionTree')\n",
    "\n",
    "    # Print fold results\n",
    "    print(f\"Fold {fold + 1} - RMSLE: {fold_rmsle:.4f}, RMSE: {fold_rmse:.4f}, R²: {fold_r2:.4f}, Training Time: {training_time:.2f} seconds\")\n",
    "\n",
    "dt = DecisionTreeRegressor(**params_for_dt, random_state=42)\n",
    "with parallel_backend('loky'):\n",
    "    dt.fit(X_train, y_train.ravel() if isinstance(y_train, np.ndarray) else y_train.to_numpy().ravel())\n",
    "\n",
    "joblib.dump(dt, 'decision_tree.joblib')"
   ]
  },
  {
   "cell_type": "code",
   "execution_count": 21,
   "metadata": {},
   "outputs": [],
   "source": [
    "\n",
    "# def objective(trial):\n",
    "#     # Define hyperparameter search space for DecisionTreeRegressor\n",
    "#     params = {\n",
    "#         'max_depth': trial.suggest_int('max_depth', 5, 20),           # Maximum tree depth\n",
    "#         'min_samples_split': trial.suggest_int('min_samples_split', 2, 20),  # Min samples to split\n",
    "#         'min_samples_leaf': trial.suggest_int('min_samples_leaf', 1, 10),    # Min samples per leaf\n",
    "#         'random_state': 42\n",
    "#     }\n",
    "\n",
    "#     # Initialize the model with trial parameters\n",
    "\n",
    "#     # Lists to store fold-wise metrics for this trial\n",
    "#     fold_metrics = []\n",
    "\n",
    "#     # Perform k-fold cross-validation\n",
    "#     for fold, (train_idx, val_idx) in enumerate(kf.split(X_train)):\n",
    "#         # Split data\n",
    "#         X_train_fold = X_train.iloc[train_idx] if isinstance(X_train, pd.DataFrame) else X_train[train_idx]\n",
    "#         y_train_fold = y_train[train_idx].ravel() if isinstance(y_train, np.ndarray) else y_train.to_numpy()[train_idx].ravel()\n",
    "#         X_val_fold = X_train.iloc[val_idx] if isinstance(X_train, pd.DataFrame) else X_train[val_idx]\n",
    "#         y_val_fold = y_train[val_idx].ravel() if isinstance(y_train, np.ndarray) else y_train.to_numpy()[val_idx].ravel()\n",
    "#         dt = DecisionTreeRegressor(**params)\n",
    "\n",
    "#         # Train the model and measure time\n",
    "#         start_time = time.time()\n",
    "#         with parallel_backend('loky'):\n",
    "#             dt.fit(X_train_fold, y_train_fold)\n",
    "#         training_time = time.time() - start_time\n",
    "\n",
    "#         # Predict on the transformed scale\n",
    "#         y_pred_transformed = dt.predict(X_val_fold)\n",
    "\n",
    "#         y_pred_original = np.expm1(y_pred_transformed)\n",
    "#         y_val_original = np.expm1(y_val_fold)\n",
    "        \n",
    "#         # Calculate metrics on the original scale\n",
    "#         fold_rmsle = root_mean_squared_log_error(y_val_original, y_pred_original)\n",
    "#         fold_rmse = np.sqrt(mean_squared_error(y_val_original, y_pred_original))\n",
    "#         fold_r2 = r2_score(y_val_original, y_pred_original)\n",
    "\n",
    "#         # Store fold metrics\n",
    "#         fold_metrics.append({\n",
    "#             'RMSLE': fold_rmsle,\n",
    "#             'RMSE': fold_rmse,\n",
    "#             'R2': fold_r2,\n",
    "#             'Training Time': training_time,\n",
    "#             'Model': 'DecisionTree'\n",
    "#         })\n",
    "\n",
    "#     # Store fold metrics in trial for later retrieval\n",
    "#     trial.set_user_attr('fold_metrics', fold_metrics)\n",
    "\n",
    "#     # Return the mean RMSLE across folds (Optuna minimizes this)\n",
    "#     return np.mean([fm['RMSLE'] for fm in fold_metrics])\n",
    "\n",
    "# # Create an Optuna study and optimize\n",
    "# study = optuna.create_study(direction='minimize')\n",
    "# study.optimize(objective, n_trials=15)  # Adjust n_trials based on time/resources\n",
    "\n",
    "# # Print the best parameters and score\n",
    "# print(\"Best Parameters:\", study.best_params)\n",
    "# print(\"Best Mean RMSLE:\", study.best_value)\n",
    "\n",
    "# # Append metrics from the best trial's folds to the global metrics dictionary\n",
    "# best_trial = study.best_trial\n",
    "# best_fold_metrics = best_trial.user_attrs['fold_metrics']\n",
    "# for fold_metric in best_fold_metrics:\n",
    "#     metrics['RMSLE'].append(fold_metric['RMSLE'])\n",
    "#     metrics['RMSE'].append(fold_metric['RMSE'])\n",
    "#     metrics['R2'].append(fold_metric['R2'])\n",
    "#     metrics['Training Time'].append(fold_metric['Training Time'])\n",
    "#     metrics['Model'].append(fold_metric['Model'])\n",
    "\n",
    "# # Print fold-wise metrics for the best trial\n",
    "# print(\"\\nBest Trial Fold-wise Metrics:\")\n",
    "# for i, fm in enumerate(best_fold_metrics):\n",
    "#     print(f\"Fold {i+1}: RMSLE={fm['RMSLE']:.4f}, RMSE={fm['RMSE']:.4f}, R²={fm['R2']:.4f}, Training Time={fm['Training Time']:.2f} seconds\")\n",
    "\n",
    "# # Print updated metrics dictionary\n",
    "# print(\"Updated Metrics Dictionary:\", metrics)\n",
    "\n",
    "# # Train the final model with the best parameters\n",
    "# best_dt = DecisionTreeRegressor(**study.best_params)\n",
    "# with parallel_backend('loky'):\n",
    "#     best_dt.fit(X_train, y_train.ravel() if isinstance(y_train, np.ndarray) else y_train.to_numpy().ravel())\n"
   ]
  },
  {
   "cell_type": "markdown",
   "metadata": {},
   "source": [
    "Best Parameters: {'max_depth': 9, 'min_samples_split': 7, 'min_samples_leaf': 8}\n",
    "Best Mean RMSLE: 1.0491140285066543\n"
   ]
  },
  {
   "cell_type": "markdown",
   "metadata": {},
   "source": [
    "## Evaluation"
   ]
  },
  {
   "cell_type": "code",
   "execution_count": 22,
   "metadata": {},
   "outputs": [
    {
     "data": {
      "text/html": [
       "<div>\n",
       "<style scoped>\n",
       "    .dataframe tbody tr th:only-of-type {\n",
       "        vertical-align: middle;\n",
       "    }\n",
       "\n",
       "    .dataframe tbody tr th {\n",
       "        vertical-align: top;\n",
       "    }\n",
       "\n",
       "    .dataframe thead th {\n",
       "        text-align: right;\n",
       "    }\n",
       "</style>\n",
       "<table border=\"1\" class=\"dataframe\">\n",
       "  <thead>\n",
       "    <tr style=\"text-align: right;\">\n",
       "      <th></th>\n",
       "      <th>Model</th>\n",
       "      <th>Average RMSLE</th>\n",
       "      <th>Average RMSE</th>\n",
       "      <th>Average R²</th>\n",
       "      <th>Average Training Time</th>\n",
       "    </tr>\n",
       "  </thead>\n",
       "  <tbody>\n",
       "    <tr>\n",
       "      <th>0</th>\n",
       "      <td>DecisionTree</td>\n",
       "      <td>1.049114</td>\n",
       "      <td>921.879663</td>\n",
       "      <td>-0.135853</td>\n",
       "      <td>10.954569</td>\n",
       "    </tr>\n",
       "    <tr>\n",
       "      <th>1</th>\n",
       "      <td>RandomForest</td>\n",
       "      <td>1.060308</td>\n",
       "      <td>931.084165</td>\n",
       "      <td>-0.158647</td>\n",
       "      <td>32.959982</td>\n",
       "    </tr>\n",
       "  </tbody>\n",
       "</table>\n",
       "</div>"
      ],
      "text/plain": [
       "          Model  Average RMSLE  Average RMSE  Average R²  \\\n",
       "0  DecisionTree       1.049114    921.879663   -0.135853   \n",
       "1  RandomForest       1.060308    931.084165   -0.158647   \n",
       "\n",
       "   Average Training Time  \n",
       "0              10.954569  \n",
       "1              32.959982  "
      ]
     },
     "execution_count": 22,
     "metadata": {},
     "output_type": "execute_result"
    }
   ],
   "source": [
    "# import defaultdict\n",
    "from collections import defaultdict\n",
    "average_metrics = defaultdict(dict)\n",
    "unique_models = set(metrics['Model'])\n",
    "\n",
    "for model in unique_models:\n",
    "    model_indices = [i for i, m in enumerate(metrics['Model']) if m == model]\n",
    "    average_metrics[model]['Average RMSLE'] = np.mean([metrics['RMSLE'][i] for i in model_indices])\n",
    "    average_metrics[model]['Average RMSE'] = np.mean([metrics['RMSE'][i] for i in model_indices])\n",
    "    average_metrics[model]['Average R²'] = np.mean([metrics['R2'][i] for i in model_indices])\n",
    "    average_metrics[model]['Average Training Time'] = np.mean([metrics['Training Time'][i] for i in model_indices])\n",
    "\n",
    "# Create dataframe of average metrics for each model\n",
    "average_metrics_df = pd.DataFrame(average_metrics).T\n",
    "average_metrics_df = average_metrics_df.sort_values(by='Average RMSLE')\n",
    "average_metrics_df.reset_index(inplace=True)\n",
    "average_metrics_df.columns = ['Model', 'Average RMSLE', 'Average RMSE', 'Average R²', 'Average Training Time']\n",
    "average_metrics_df\n"
   ]
  },
  {
   "cell_type": "markdown",
   "metadata": {},
   "source": [
    "### Training time"
   ]
  },
  {
   "cell_type": "code",
   "execution_count": 23,
   "metadata": {},
   "outputs": [
    {
     "data": {
      "text/plain": [
       "<matplotlib.legend.Legend at 0x217b6bcf610>"
      ]
     },
     "execution_count": 23,
     "metadata": {},
     "output_type": "execute_result"
    },
    {
     "data": {
      "image/png": "[encoded data removed]",
      "text/plain": [
       "<Figure size 1200x600 with 1 Axes>"
      ]
     },
     "metadata": {},
     "output_type": "display_data"
    }
   ],
   "source": [
    "# Plot the training time for each fold of each model\n",
    "plt.figure(figsize=(12, 6))\n",
    "sns.lineplot(x='Fold', y='Training Time', hue='Model', data=pd.DataFrame(metrics))\n",
    "plt.title('Training Time for Each Fold of Each Model')\n",
    "plt.xlabel('Fold')\n",
    "plt.ylabel('Training Time (seconds)')\n",
    "plt.legend(title='Model')"
   ]
  },
  {
   "cell_type": "markdown",
   "metadata": {},
   "source": [
    "1. **RandomForest**\n",
    "- **Training Time:**\n",
    "\n",
    "    - The training time for RandomForest is significantly higher than DecisionTree, ranging from approximately 35 to 42 seconds per fold.\n",
    "    - There is a slight variation in training time across folds, with the highest time in Fold 1  and the lowest in Fold 2 .\n",
    "    - The increase in training time in Folds 3 and 4 could be due to variations in data distribution or computational overhead.\n",
    "- **Observation:**\n",
    "\n",
    "    - RandomForest is an ensemble method that trains multiple decision trees, which explains the higher training time compared to DecisionTree.\n",
    "    - The variation in training time across folds is expected due to differences in the size and complexity of the training subsets.\n",
    "2. **DecisionTree**\n",
    "- **Training Time:**\n",
    "\n",
    "    - The training time for DecisionTree is consistently low, around 10 to 11 seconds per fold.\n",
    "    - There is minimal variation in training time across folds, indicating that the model is computationally efficient.\n",
    "- **Observation:**\n",
    "\n",
    "    - DecisionTree is a single-tree model, which is computationally less expensive compared to ensemble methods like RandomForest.\n",
    "    - The consistent training time suggests that the complexity of the training subsets does not significantly impact the model's training process."
   ]
  },
  {
   "cell_type": "markdown",
   "metadata": {},
   "source": [
    "### RMSLE and RMSE"
   ]
  },
  {
   "cell_type": "code",
   "execution_count": 24,
   "metadata": {},
   "outputs": [
    {
     "data": {
      "image/png": "[encoded data removed]",
      "text/plain": [
       "<Figure size 1200x500 with 2 Axes>"
      ]
     },
     "metadata": {},
     "output_type": "display_data"
    }
   ],
   "source": [
    "# Plot RMSLE and RMSE for each fold of each model\n",
    "fig, axes = plt.subplots(1, 2, figsize=(12, 5))\n",
    "sns.barplot(x='Fold', y='RMSLE', hue='Model', data=pd.DataFrame(metrics), ax=axes[0])\n",
    "axes[0].set_title('RMSLE for Each Fold of Each Model')\n",
    "axes[0].set_xlabel('Fold')\n",
    "axes[0].set_ylabel('RMSLE')\n",
    "sns.barplot(x='Fold', y='RMSE', hue='Model', data=pd.DataFrame(metrics), ax=axes[1])\n",
    "axes[1].set_title('RMSE for Each Fold of Each Model')\n",
    "axes[1].set_xlabel('Fold')\n",
    "axes[1].set_ylabel('RMSE')\n",
    "plt.tight_layout()\n",
    "plt.show()"
   ]
  },
  {
   "cell_type": "markdown",
   "metadata": {},
   "source": [
    "1. **RMSLE**\n",
    "- **RandomForest:**\n",
    "\n",
    "    - The RMSLE values are consistently around 1.06 across all 5 folds.\n",
    "    - This indicates that the RandomForest model struggles to predict logarithmic-scaled values accurately, with no significant improvement across folds.\n",
    "- **DecisionTree:**\n",
    "\n",
    "    - The RMSLE values are slightly better than RandomForest, consistently around 1.05 across all folds.\n",
    "    While DecisionTree performs marginally better than RandomForest in terms of RMSLE, the difference is minimal.\n",
    "- **Comparison:**\n",
    "\n",
    "    - Both models have high RMSLE values, indicating poor performance in predicting logarithmic-scaled values.\n",
    "    - DecisionTree slightly outperforms RandomForest in RMSLE, but the improvement is not substantial.\n",
    "2. **RMSE**\n",
    "- **RandomForest:**\n",
    "\n",
    "    - The RMSE values are consistently around 930 across all 5 folds.\n",
    "    - This high RMSE indicates that RandomForest struggles to predict the actual scale of the target variable accurately.\n",
    "- **DecisionTree:**\n",
    "\n",
    "    - The RMSE values are slightly lower than RandomForest, consistently around 920 across all folds.\n",
    "    - Similar to RMSLE, DecisionTree performs marginally better than RandomForest in RMSE.\n",
    "\n",
    "3. **Comparison:**\n",
    "\n",
    "    - Both models have high RMSE values, indicating poor predictive performance.\n",
    "    - DecisionTree slightly outperforms RandomForest in RMSE, but the difference is negligible.\n",
    "-----\n",
    "**Key Observations**\n",
    "- **Consistency Across Folds:**\n",
    "\n",
    "    - Both models show consistent performance across all 5 folds, with minimal variation in RMSLE and RMSE values.\n",
    "    - This suggests that the models are stable but consistently underperforming.\n",
    "- **Poor Predictive Performance:**\n",
    "\n",
    "    - Both RMSLE and RMSE values are high for both models, indicating poor predictive performance.\n",
    "    - The negative R² values (from earlier analysis) further confirm that these models are not suitable for this dataset in their current configurations.\n",
    "- **DecisionTree vs. RandomForest:**\n",
    "\n",
    "    - DecisionTree slightly outperforms RandomForest in both RMSLE and RMSE, but the difference is minimal.\n",
    "    - RandomForest, being an ensemble method, is expected to perform better with proper hyperparameter tuning."
   ]
  },
  {
   "cell_type": "markdown",
   "metadata": {},
   "source": [
    "### R2"
   ]
  },
  {
   "cell_type": "code",
   "execution_count": 25,
   "metadata": {},
   "outputs": [
    {
     "data": {
      "image/png": "[encoded data removed]",
      "text/plain": [
       "<Figure size 1200x600 with 1 Axes>"
      ]
     },
     "metadata": {},
     "output_type": "display_data"
    }
   ],
   "source": [
    "# Plot R² for each fold of each model\n",
    "plt.figure(figsize=(12, 6))\n",
    "sns.lineplot(x='Fold', y='R2', hue='Model', data=pd.DataFrame(metrics))\n",
    "plt.title('R² for Each Fold of Each Model')\n",
    "plt.xlabel('Fold')\n",
    "plt.ylabel('R²')\n",
    "plt.legend(title='Model')\n",
    "plt.show()"
   ]
  },
  {
   "cell_type": "markdown",
   "metadata": {},
   "source": [
    "1. **RandomForest**\n",
    "- **R² Values:**\n",
    "\n",
    "    - The R² values for RandomForest are consistently negative across all folds, ranging from approximately -0.165 to -0.155.\n",
    "    - The lowest R² value is observed in Fold 3, while the highest is in Fold 5.\n",
    "- **Observation:**\n",
    "\n",
    "    - Negative R² values indicate that the RandomForest model performs worse than a simple mean-based prediction.\n",
    "    - The variation in R² across folds suggests that the model's performance is slightly sensitive to the training and validation splits.\n",
    "2. **DecisionTree**\n",
    "- **R² Values:**\n",
    "\n",
    "    - The R² values for DecisionTree are also consistently negative but slightly better than RandomForest, ranging from approximately -0.145 to -0.135.\n",
    "    - The lowest R² value is observed in Fold 3, while the highest is in Fold 5.\n",
    "- **Observation:**\n",
    "\n",
    "    - Similar to RandomForest, the negative R² values indicate poor performance, with the model failing to explain the variance in the target variable.\n",
    "    - DecisionTree shows slightly better performance compared to RandomForest in all folds.\n",
    "3. **Comparison Between Models**\n",
    "- **Performance:**\n",
    "\n",
    "    - DecisionTree consistently outperforms RandomForest in terms of R² across all folds, but the difference is minimal.\n",
    "    - Both models have negative R² values, indicating that neither model is suitable for this dataset in its current configuration.\n",
    "- **Stability:**\n",
    "\n",
    "    - Both models show consistent trends across folds, with Fold 3 being the worst-performing fold for both models.\n",
    "    - This suggests that Fold 3 might have a challenging data distribution or outliers affecting the models' performance."
   ]
  },
  {
   "cell_type": "markdown",
   "metadata": {},
   "source": [
    "## Voting Regressor\n",
    "- In order to utilize the sklearn models, we used Voting to combine all models to have the most comprehensive models"
   ]
  },
  {
   "cell_type": "code",
   "execution_count": 26,
   "metadata": {},
   "outputs": [],
   "source": [
    "# Use voteregressor to combine predictions\n",
    "from sklearn.ensemble import VotingRegressor\n",
    "best_dt = DecisionTreeRegressor(**params_for_dt, random_state=42)\n",
    "best_rf = RandomForestRegressor(**params_for_rf, random_state=42, n_jobs=-1)\n",
    "voting_model = VotingRegressor(\n",
    "    estimators=[\n",
    "        ('dt', best_dt),\n",
    "        ('rf', best_rf)\n",
    "    ]\n",
    ")\n",
    "\n",
    "# Train the voting model\n",
    "with parallel_backend('loky'):\n",
    "    voting_model.fit(X_train, y_train.ravel() if isinstance(y_train, np.ndarray) else y_train.to_numpy().ravel())\n",
    "joblib.dump(voting_model, 'voting_phase1.joblib')\n",
    "\n",
    "# Make predictions on the test set\n",
    "y_pred_transformed_voting = voting_model.predict(test)\n",
    "y_pred_original_voting = np.expm1(y_pred_transformed_voting)\n",
    "sub = pd.read_csv('data/sample_submission.csv')\n",
    "sub['target'] = y_pred_original_voting\n",
    "sub.to_csv('data/submission_voting_tree.csv', index=False)"
   ]
  },
  {
   "cell_type": "markdown",
   "metadata": {},
   "source": [
    "## Limitation Analysis: Erroneous Cases and Their Properties\n",
    "\n",
    "1. **Erroneous Cases**\n",
    "- **High RMSLE Values:**\n",
    "\n",
    "    - RMSLE penalizes large relative errors in the logarithmic space. The high RMSLE values indicate that the models struggle to predict small target values accurately, as even small absolute errors in the original scale can lead to large relative errors in the log-transformed space.\n",
    "    - This suggests that the models fail to capture the underlying patterns for low-value targets.\n",
    "- **High RMSE Values:**\n",
    "\n",
    "    - High RMSE values indicate that the models are making large absolute errors in predicting the target variable. This suggests that the models are not capturing the overall distribution of the target variable effectively.\n",
    "- **Negative R² Values:**\n",
    "\n",
    "    - Negative R² values indicate that the models perform worse than a simple mean-based prediction. This suggests that the models fail to explain the variance in the target variable and are not generalizing well to the validation data.\n",
    "2. **Properties of Erroneous Cases**\n",
    "- **Skewed Target Distribution:**\n",
    "\n",
    "    - The target variable has a highly skewed distribution, as observed in the histogram. This skewness makes it challenging for the models to predict extreme values (both very low and very high).\n",
    "    - The log transformation partially addresses this issue, but the models still struggle with the relative errors for small target values.\n",
    "- **Outliers:**\n",
    "\n",
    "    - The dataset likely contains outliers in the target variable, which can influence the models' predictions. Outliers can lead to overfitting in DecisionTree and instability in RandomForest.\n",
    "- **Feature-Target Relationships:**\n",
    "\n",
    "    - The models may fail to capture complex, non-linear relationships between features and the target variable. This is particularly evident in DecisionTree, which has limited depth and splits the data into coarse regions.\n",
    "- **Feature Importance:**\n",
    "\n",
    "    - Some features may have low predictive power or introduce noise, leading to poor model performance. The models may not effectively differentiate between informative and non-informative features.\n",
    "\n",
    "3. **Reasons for Inaccuracy**\n",
    "- **Model Complexity:**\n",
    "\n",
    "    - DecisionTree has limited depth (max_depth=9), which restricts its ability to capture complex patterns in the data.\n",
    "    - RandomForest, while more robust, may still struggle with the skewed target distribution and outliers due to its reliance on individual decision trees.\n",
    "\n"
   ]
  }
 ],
 "metadata": {
  "kernelspec": {
   "display_name": "Python 3",
   "language": "python",
   "name": "python3"
  },
  "language_info": {
   "codemirror_mode": {
    "name": "ipython",
    "version": 3
   },
   "file_extension": ".py",
   "mimetype": "text/x-python",
   "name": "python",
   "nbconvert_exporter": "python",
   "pygments_lexer": "ipython3",
   "version": "3.13.2"
  }
 },
 "nbformat": 4,
 "nbformat_minor": 2
}
