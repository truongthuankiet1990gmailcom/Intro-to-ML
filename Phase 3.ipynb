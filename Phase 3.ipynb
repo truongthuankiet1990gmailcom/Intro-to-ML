{
 "cells": [
  {
   "cell_type": "markdown",
   "metadata": {},
   "source": [
    "# Phase 3\n"
   ]
  },
  {
   "cell_type": "markdown",
   "metadata": {},
   "source": [
    "## Libraries"
   ]
  },
  {
   "cell_type": "code",
   "execution_count": 1,
   "metadata": {
    "execution": {
     "iopub.execute_input": "2025-04-19T08:18:46.888038Z",
     "iopub.status.busy": "2025-04-19T08:18:46.887798Z",
     "iopub.status.idle": "2025-04-19T08:20:12.105085Z",
     "shell.execute_reply": "2025-04-19T08:20:12.104176Z",
     "shell.execute_reply.started": "2025-04-19T08:18:46.888016Z"
    },
    "trusted": true
   },
   "outputs": [
    {
     "name": "stdout",
     "output_type": "stream",
     "text": [
      "Collecting pytorch-tabnet\n",
      "  Downloading pytorch_tabnet-4.1.0-py3-none-any.whl.metadata (15 kB)\n",
      "Requirement already satisfied: numpy>=1.17 in /usr/local/lib/python3.11/dist-packages (from pytorch-tabnet) (1.26.4)\n",
      "Requirement already satisfied: scikit_learn>0.21 in /usr/local/lib/python3.11/dist-packages (from pytorch-tabnet) (1.2.2)\n",
      "Requirement already satisfied: scipy>1.4 in /usr/local/lib/python3.11/dist-packages (from pytorch-tabnet) (1.15.2)\n",
      "Requirement already satisfied: torch>=1.3 in /usr/local/lib/python3.11/dist-packages (from pytorch-tabnet) (2.5.1+cu124)\n",
      "Requirement already satisfied: tqdm>=4.36 in /usr/local/lib/python3.11/dist-packages (from pytorch-tabnet) (4.67.1)\n",
      "Requirement already satisfied: mkl_fft in /usr/local/lib/python3.11/dist-packages (from numpy>=1.17->pytorch-tabnet) (1.3.8)\n",
      "Requirement already satisfied: mkl_random in /usr/local/lib/python3.11/dist-packages (from numpy>=1.17->pytorch-tabnet) (1.2.4)\n",
      "Requirement already satisfied: mkl_umath in /usr/local/lib/python3.11/dist-packages (from numpy>=1.17->pytorch-tabnet) (0.1.1)\n",
      "Requirement already satisfied: mkl in /usr/local/lib/python3.11/dist-packages (from numpy>=1.17->pytorch-tabnet) (2025.1.0)\n",
      "Requirement already satisfied: tbb4py in /usr/local/lib/python3.11/dist-packages (from numpy>=1.17->pytorch-tabnet) (2022.1.0)\n",
      "Requirement already satisfied: mkl-service in /usr/local/lib/python3.11/dist-packages (from numpy>=1.17->pytorch-tabnet) (2.4.1)\n",
      "Requirement already satisfied: joblib>=1.1.1 in /usr/local/lib/python3.11/dist-packages (from scikit_learn>0.21->pytorch-tabnet) (1.4.2)\n",
      "Requirement already satisfied: threadpoolctl>=2.0.0 in /usr/local/lib/python3.11/dist-packages (from scikit_learn>0.21->pytorch-tabnet) (3.6.0)\n",
      "Requirement already satisfied: filelock in /usr/local/lib/python3.11/dist-packages (from torch>=1.3->pytorch-tabnet) (3.18.0)\n",
      "Requirement already satisfied: typing-extensions>=4.8.0 in /usr/local/lib/python3.11/dist-packages (from torch>=1.3->pytorch-tabnet) (4.13.1)\n",
      "Requirement already satisfied: networkx in /usr/local/lib/python3.11/dist-packages (from torch>=1.3->pytorch-tabnet) (3.4.2)\n",
      "Requirement already satisfied: jinja2 in /usr/local/lib/python3.11/dist-packages (from torch>=1.3->pytorch-tabnet) (3.1.6)\n",
      "Requirement already satisfied: fsspec in /usr/local/lib/python3.11/dist-packages (from torch>=1.3->pytorch-tabnet) (2025.3.2)\n",
      "Requirement already satisfied: nvidia-cuda-nvrtc-cu12==12.4.127 in /usr/local/lib/python3.11/dist-packages (from torch>=1.3->pytorch-tabnet) (12.4.127)\n",
      "Requirement already satisfied: nvidia-cuda-runtime-cu12==12.4.127 in /usr/local/lib/python3.11/dist-packages (from torch>=1.3->pytorch-tabnet) (12.4.127)\n",
      "Requirement already satisfied: nvidia-cuda-cupti-cu12==12.4.127 in /usr/local/lib/python3.11/dist-packages (from torch>=1.3->pytorch-tabnet) (12.4.127)\n",
      "Collecting nvidia-cudnn-cu12==9.1.0.70 (from torch>=1.3->pytorch-tabnet)\n",
      "  Downloading nvidia_cudnn_cu12-9.1.0.70-py3-none-manylinux2014_x86_64.whl.metadata (1.6 kB)\n",
      "Collecting nvidia-cublas-cu12==12.4.5.8 (from torch>=1.3->pytorch-tabnet)\n",
      "  Downloading nvidia_cublas_cu12-12.4.5.8-py3-none-manylinux2014_x86_64.whl.metadata (1.5 kB)\n",
      "Collecting nvidia-cufft-cu12==11.2.1.3 (from torch>=1.3->pytorch-tabnet)\n",
      "  Downloading nvidia_cufft_cu12-11.2.1.3-py3-none-manylinux2014_x86_64.whl.metadata (1.5 kB)\n",
      "Collecting nvidia-curand-cu12==10.3.5.147 (from torch>=1.3->pytorch-tabnet)\n",
      "  Downloading nvidia_curand_cu12-10.3.5.147-py3-none-manylinux2014_x86_64.whl.metadata (1.5 kB)\n",
      "Collecting nvidia-cusolver-cu12==11.6.1.9 (from torch>=1.3->pytorch-tabnet)\n",
      "  Downloading nvidia_cusolver_cu12-11.6.1.9-py3-none-manylinux2014_x86_64.whl.metadata (1.6 kB)\n",
      "Collecting nvidia-cusparse-cu12==12.3.1.170 (from torch>=1.3->pytorch-tabnet)\n",
      "  Downloading nvidia_cusparse_cu12-12.3.1.170-py3-none-manylinux2014_x86_64.whl.metadata (1.6 kB)\n",
      "Requirement already satisfied: nvidia-nccl-cu12==2.21.5 in /usr/local/lib/python3.11/dist-packages (from torch>=1.3->pytorch-tabnet) (2.21.5)\n",
      "Requirement already satisfied: nvidia-nvtx-cu12==12.4.127 in /usr/local/lib/python3.11/dist-packages (from torch>=1.3->pytorch-tabnet) (12.4.127)\n",
      "Collecting nvidia-nvjitlink-cu12==12.4.127 (from torch>=1.3->pytorch-tabnet)\n",
      "  Downloading nvidia_nvjitlink_cu12-12.4.127-py3-none-manylinux2014_x86_64.whl.metadata (1.5 kB)\n",
      "Requirement already satisfied: triton==3.1.0 in /usr/local/lib/python3.11/dist-packages (from torch>=1.3->pytorch-tabnet) (3.1.0)\n",
      "Requirement already satisfied: sympy==1.13.1 in /usr/local/lib/python3.11/dist-packages (from torch>=1.3->pytorch-tabnet) (1.13.1)\n",
      "Requirement already satisfied: mpmath<1.4,>=1.1.0 in /usr/local/lib/python3.11/dist-packages (from sympy==1.13.1->torch>=1.3->pytorch-tabnet) (1.3.0)\n",
      "Requirement already satisfied: MarkupSafe>=2.0 in /usr/local/lib/python3.11/dist-packages (from jinja2->torch>=1.3->pytorch-tabnet) (3.0.2)\n",
      "Requirement already satisfied: intel-openmp<2026,>=2024 in /usr/local/lib/python3.11/dist-packages (from mkl->numpy>=1.17->pytorch-tabnet) (2024.2.0)\n",
      "Requirement already satisfied: tbb==2022.* in /usr/local/lib/python3.11/dist-packages (from mkl->numpy>=1.17->pytorch-tabnet) (2022.1.0)\n",
      "Requirement already satisfied: tcmlib==1.* in /usr/local/lib/python3.11/dist-packages (from tbb==2022.*->mkl->numpy>=1.17->pytorch-tabnet) (1.2.0)\n",
      "Requirement already satisfied: intel-cmplr-lib-rt in /usr/local/lib/python3.11/dist-packages (from mkl_umath->numpy>=1.17->pytorch-tabnet) (2024.2.0)\n",
      "Requirement already satisfied: intel-cmplr-lib-ur==2024.2.0 in /usr/local/lib/python3.11/dist-packages (from intel-openmp<2026,>=2024->mkl->numpy>=1.17->pytorch-tabnet) (2024.2.0)\n",
      "Downloading pytorch_tabnet-4.1.0-py3-none-any.whl (44 kB)\n",
      "\u001b[2K   \u001b[90m━━━━━━━━━━━━━━━━━━━━━━━━━━━━━━━━━━━━━━━━\u001b[0m \u001b[32m44.5/44.5 kB\u001b[0m \u001b[31m1.5 MB/s\u001b[0m eta \u001b[36m0:00:00\u001b[0m\n",
      "\u001b[?25hDownloading nvidia_cublas_cu12-12.4.5.8-py3-none-manylinux2014_x86_64.whl (363.4 MB)\n",
      "\u001b[2K   \u001b[90m━━━━━━━━━━━━━━━━━━━━━━━━━━━━━━━━━━━━━━━━\u001b[0m \u001b[32m363.4/363.4 MB\u001b[0m \u001b[31m4.5 MB/s\u001b[0m eta \u001b[36m0:00:00\u001b[0m0:00:01\u001b[0m00:01\u001b[0m\n",
      "\u001b[?25hDownloading nvidia_cudnn_cu12-9.1.0.70-py3-none-manylinux2014_x86_64.whl (664.8 MB)\n",
      "\u001b[2K   \u001b[90m━━━━━━━━━━━━━━━━━━━━━━━━━━━━━━━━━━━━━━━━\u001b[0m \u001b[32m664.8/664.8 MB\u001b[0m \u001b[31m1.9 MB/s\u001b[0m eta \u001b[36m0:00:00\u001b[0m0:00:01\u001b[0m00:01\u001b[0m\n",
      "\u001b[?25hDownloading nvidia_cufft_cu12-11.2.1.3-py3-none-manylinux2014_x86_64.whl (211.5 MB)\n",
      "\u001b[2K   \u001b[90m━━━━━━━━━━━━━━━━━━━━━━━━━━━━━━━━━━━━━━━━\u001b[0m \u001b[32m211.5/211.5 MB\u001b[0m \u001b[31m8.0 MB/s\u001b[0m eta \u001b[36m0:00:00\u001b[0m0:00:01\u001b[0m00:01\u001b[0m\n",
      "\u001b[?25hDownloading nvidia_curand_cu12-10.3.5.147-py3-none-manylinux2014_x86_64.whl (56.3 MB)\n",
      "\u001b[2K   \u001b[90m━━━━━━━━━━━━━━━━━━━━━━━━━━━━━━━━━━━━━━━━\u001b[0m \u001b[32m56.3/56.3 MB\u001b[0m \u001b[31m30.5 MB/s\u001b[0m eta \u001b[36m0:00:00\u001b[0m:00:01\u001b[0m00:01\u001b[0m\n",
      "\u001b[?25hDownloading nvidia_cusolver_cu12-11.6.1.9-py3-none-manylinux2014_x86_64.whl (127.9 MB)\n",
      "\u001b[2K   \u001b[90m━━━━━━━━━━━━━━━━━━━━━━━━━━━━━━━━━━━━━━━━\u001b[0m \u001b[32m127.9/127.9 MB\u001b[0m \u001b[31m13.2 MB/s\u001b[0m eta \u001b[36m0:00:00\u001b[0m:00:01\u001b[0m00:01\u001b[0m\n",
      "\u001b[?25hDownloading nvidia_cusparse_cu12-12.3.1.170-py3-none-manylinux2014_x86_64.whl (207.5 MB)\n",
      "\u001b[2K   \u001b[90m━━━━━━━━━━━━━━━━━━━━━━━━━━━━━━━━━━━━━━━━\u001b[0m \u001b[32m207.5/207.5 MB\u001b[0m \u001b[31m8.1 MB/s\u001b[0m eta \u001b[36m0:00:00\u001b[0m0:00:01\u001b[0m00:01\u001b[0m\n",
      "\u001b[?25hDownloading nvidia_nvjitlink_cu12-12.4.127-py3-none-manylinux2014_x86_64.whl (21.1 MB)\n",
      "\u001b[2K   \u001b[90m━━━━━━━━━━━━━━━━━━━━━━━━━━━━━━━━━━━━━━━━\u001b[0m \u001b[32m21.1/21.1 MB\u001b[0m \u001b[31m81.5 MB/s\u001b[0m eta \u001b[36m0:00:00\u001b[0m:00:01\u001b[0m00:01\u001b[0m\n",
      "\u001b[?25hInstalling collected packages: nvidia-nvjitlink-cu12, nvidia-curand-cu12, nvidia-cufft-cu12, nvidia-cublas-cu12, nvidia-cusparse-cu12, nvidia-cudnn-cu12, nvidia-cusolver-cu12, pytorch-tabnet\n",
      "  Attempting uninstall: nvidia-nvjitlink-cu12\n",
      "    Found existing installation: nvidia-nvjitlink-cu12 12.8.93\n",
      "    Uninstalling nvidia-nvjitlink-cu12-12.8.93:\n",
      "      Successfully uninstalled nvidia-nvjitlink-cu12-12.8.93\n",
      "  Attempting uninstall: nvidia-curand-cu12\n",
      "    Found existing installation: nvidia-curand-cu12 10.3.9.90\n",
      "    Uninstalling nvidia-curand-cu12-10.3.9.90:\n",
      "      Successfully uninstalled nvidia-curand-cu12-10.3.9.90\n",
      "  Attempting uninstall: nvidia-cufft-cu12\n",
      "    Found existing installation: nvidia-cufft-cu12 11.3.3.83\n",
      "    Uninstalling nvidia-cufft-cu12-11.3.3.83:\n",
      "      Successfully uninstalled nvidia-cufft-cu12-11.3.3.83\n",
      "  Attempting uninstall: nvidia-cublas-cu12\n",
      "    Found existing installation: nvidia-cublas-cu12 12.8.4.1\n",
      "    Uninstalling nvidia-cublas-cu12-12.8.4.1:\n",
      "      Successfully uninstalled nvidia-cublas-cu12-12.8.4.1\n",
      "  Attempting uninstall: nvidia-cusparse-cu12\n",
      "    Found existing installation: nvidia-cusparse-cu12 12.5.8.93\n",
      "    Uninstalling nvidia-cusparse-cu12-12.5.8.93:\n",
      "      Successfully uninstalled nvidia-cusparse-cu12-12.5.8.93\n",
      "  Attempting uninstall: nvidia-cudnn-cu12\n",
      "    Found existing installation: nvidia-cudnn-cu12 9.3.0.75\n",
      "    Uninstalling nvidia-cudnn-cu12-9.3.0.75:\n",
      "      Successfully uninstalled nvidia-cudnn-cu12-9.3.0.75\n",
      "  Attempting uninstall: nvidia-cusolver-cu12\n",
      "    Found existing installation: nvidia-cusolver-cu12 11.7.3.90\n",
      "    Uninstalling nvidia-cusolver-cu12-11.7.3.90:\n",
      "      Successfully uninstalled nvidia-cusolver-cu12-11.7.3.90\n",
      "\u001b[31mERROR: pip's dependency resolver does not currently take into account all the packages that are installed. This behaviour is the source of the following dependency conflicts.\n",
      "pylibcugraph-cu12 24.12.0 requires pylibraft-cu12==24.12.*, but you have pylibraft-cu12 25.2.0 which is incompatible.\n",
      "pylibcugraph-cu12 24.12.0 requires rmm-cu12==24.12.*, but you have rmm-cu12 25.2.0 which is incompatible.\u001b[0m\u001b[31m\n",
      "\u001b[0mSuccessfully installed nvidia-cublas-cu12-12.4.5.8 nvidia-cudnn-cu12-9.1.0.70 nvidia-cufft-cu12-11.2.1.3 nvidia-curand-cu12-10.3.5.147 nvidia-cusolver-cu12-11.6.1.9 nvidia-cusparse-cu12-12.3.1.170 nvidia-nvjitlink-cu12-12.4.127 pytorch-tabnet-4.1.0\n"
     ]
    }
   ],
   "source": [
    "!pip install pytorch-tabnet"
   ]
  },
  {
   "cell_type": "code",
   "execution_count": 2,
   "metadata": {
    "execution": {
     "iopub.execute_input": "2025-04-19T08:20:12.107167Z",
     "iopub.status.busy": "2025-04-19T08:20:12.106915Z",
     "iopub.status.idle": "2025-04-19T08:20:18.688971Z",
     "shell.execute_reply": "2025-04-19T08:20:18.688127Z",
     "shell.execute_reply.started": "2025-04-19T08:20:12.107146Z"
    },
    "trusted": true
   },
   "outputs": [],
   "source": [
    "import pandas as pd \n",
    "import numpy as np\n",
    "import matplotlib.pyplot as plt\n",
    "import seaborn as sns\n",
    "import math\n",
    "\n",
    "import time\n",
    "import optuna\n",
    "from sklearn.metrics import mean_absolute_error, mean_squared_error, r2_score, mean_squared_log_error\n",
    "from sklearn.model_selection import train_test_split\n",
    "import time\n",
    "from scipy.special import inv_boxcox\n",
    "\n",
    "import torch\n",
    "from torch import nn\n",
    "from torch.utils.data import Dataset, DataLoader\n",
    "from torchinfo import summary\n",
    "\n",
    "from tqdm import tqdm\n",
    "from pytorch_tabnet.tab_model import TabNetRegressor\n"
   ]
  },
  {
   "cell_type": "markdown",
   "metadata": {},
   "source": [
    "## Data Preprocessing"
   ]
  },
  {
   "cell_type": "markdown",
   "metadata": {},
   "source": [
    "### Feature Engineering\n",
    "- From previous EDA notebook, we already knew that `feature_12` is time-related features, therefore, we would extract `day`, `month`, `year`, ... and create periodic features with sin and cos of month and day. \n",
    "- Then, we gotta drop the `id` and `feature_12` since these are no longer useful."
   ]
  },
  {
   "cell_type": "code",
   "execution_count": null,
   "metadata": {
    "execution": {
     "iopub.execute_input": "2025-04-19T08:20:18.690274Z",
     "iopub.status.busy": "2025-04-19T08:20:18.689817Z",
     "iopub.status.idle": "2025-04-19T08:20:29.830466Z",
     "shell.execute_reply": "2025-04-19T08:20:29.829857Z",
     "shell.execute_reply.started": "2025-04-19T08:20:18.690248Z"
    },
    "trusted": true
   },
   "outputs": [],
   "source": [
    "train = pd.read_csv('/kaggle/input/introml-clc-hk2-2425/train.csv')\n",
    "test = pd.read_csv('/kaggle/input/introml-clc-hk2-2425/test.csv')\n",
    "\n",
    "if 'target' in test.columns:\n",
    "    test['feature_16'] = test.pop('target')\n",
    "\n",
    "train['feature_12'] = pd.to_datetime(train['feature_12'])\n",
    "train['year'] = (train['feature_12']).dt.year\n",
    "train['month'] = (train['feature_12']).dt.month\n",
    "train['day'] = (train['feature_12']).dt.day\n",
    "train['dow'] = (train['feature_12']).dt.dayofweek\n",
    "train['week'] = train['feature_12'].dt.isocalendar().week\n",
    "\n",
    "train['month_sin'] = np.sin(2 * np.pi * (train['month'] - 1) / 12)\n",
    "train['month_cos'] = np.cos(2 * np.pi * (train['month'] - 1) / 12)\n",
    "train['day_sin'] = np.sin(2 * np.pi * (train['day'] - 1) / 31)\n",
    "train['day_cos'] = np.cos(2 * np.pi * (train['day'] - 1) / 31)\n",
    "\n",
    "test['feature_12'] = pd.to_datetime(test['feature_12'])\n",
    "test['year'] = (test['feature_12']).dt.year\n",
    "test['month'] = (test['feature_12']).dt.month\n",
    "test['day'] = (test['feature_12']).dt.day\n",
    "test['dow'] = (test['feature_12']).dt.dayofweek\n",
    "test['week'] = (test['feature_12']).dt.isocalendar().week\n",
    "\n",
    "test['month_sin'] = np.sin(2 * np.pi * (test['month'] - 1) / 12)\n",
    "test['month_cos'] = np.cos(2 * np.pi * (test['month'] - 1) / 12)\n",
    "test['day_sin'] = np.sin(2 * np.pi * (test['day'] - 1) / 31)\n",
    "test['day_cos'] = np.cos(2 * np.pi * (test['day'] - 1) / 31)\n",
    "\n",
    "train = train.drop(columns=['feature_12'])\n",
    "test = test.drop(columns=['feature_12'])\n",
    "train = train.drop(columns=['id'])\n",
    "test = test.drop(columns=['id'])\n",
    "\n"
   ]
  },
  {
   "cell_type": "markdown",
   "metadata": {},
   "source": [
    "### Handle Missing Values"
   ]
  },
  {
   "cell_type": "code",
   "execution_count": 4,
   "metadata": {
    "execution": {
     "iopub.execute_input": "2025-04-19T08:20:29.831487Z",
     "iopub.status.busy": "2025-04-19T08:20:29.831274Z",
     "iopub.status.idle": "2025-04-19T08:20:30.416276Z",
     "shell.execute_reply": "2025-04-19T08:20:30.415640Z",
     "shell.execute_reply.started": "2025-04-19T08:20:29.831470Z"
    },
    "trusted": true
   },
   "outputs": [
    {
     "data": {
      "text/html": [
       "<div>\n",
       "<style scoped>\n",
       "    .dataframe tbody tr th:only-of-type {\n",
       "        vertical-align: middle;\n",
       "    }\n",
       "\n",
       "    .dataframe tbody tr th {\n",
       "        vertical-align: top;\n",
       "    }\n",
       "\n",
       "    .dataframe thead th {\n",
       "        text-align: right;\n",
       "    }\n",
       "</style>\n",
       "<table border=\"1\" class=\"dataframe\">\n",
       "  <thead>\n",
       "    <tr style=\"text-align: right;\">\n",
       "      <th></th>\n",
       "      <th>Total</th>\n",
       "      <th>Ratio</th>\n",
       "    </tr>\n",
       "  </thead>\n",
       "  <tbody>\n",
       "    <tr>\n",
       "      <th>feature_11</th>\n",
       "      <td>1</td>\n",
       "      <td>0.000083</td>\n",
       "    </tr>\n",
       "    <tr>\n",
       "      <th>feature_9</th>\n",
       "      <td>6</td>\n",
       "      <td>0.000500</td>\n",
       "    </tr>\n",
       "    <tr>\n",
       "      <th>feature_1</th>\n",
       "      <td>18529</td>\n",
       "      <td>1.544083</td>\n",
       "    </tr>\n",
       "    <tr>\n",
       "      <th>Age</th>\n",
       "      <td>18705</td>\n",
       "      <td>1.558750</td>\n",
       "    </tr>\n",
       "    <tr>\n",
       "      <th>feature_0</th>\n",
       "      <td>44949</td>\n",
       "      <td>3.745750</td>\n",
       "    </tr>\n",
       "    <tr>\n",
       "      <th>feature_5</th>\n",
       "      <td>74076</td>\n",
       "      <td>6.173000</td>\n",
       "    </tr>\n",
       "    <tr>\n",
       "      <th>feature_13</th>\n",
       "      <td>77824</td>\n",
       "      <td>6.485333</td>\n",
       "    </tr>\n",
       "    <tr>\n",
       "      <th>feature_2</th>\n",
       "      <td>109672</td>\n",
       "      <td>9.139333</td>\n",
       "    </tr>\n",
       "    <tr>\n",
       "      <th>feature_10</th>\n",
       "      <td>137882</td>\n",
       "      <td>11.490167</td>\n",
       "    </tr>\n",
       "    <tr>\n",
       "      <th>feature_4</th>\n",
       "      <td>358075</td>\n",
       "      <td>29.839583</td>\n",
       "    </tr>\n",
       "    <tr>\n",
       "      <th>feature_8</th>\n",
       "      <td>364029</td>\n",
       "      <td>30.335750</td>\n",
       "    </tr>\n",
       "  </tbody>\n",
       "</table>\n",
       "</div>"
      ],
      "text/plain": [
       "             Total      Ratio\n",
       "feature_11       1   0.000083\n",
       "feature_9        6   0.000500\n",
       "feature_1    18529   1.544083\n",
       "Age          18705   1.558750\n",
       "feature_0    44949   3.745750\n",
       "feature_5    74076   6.173000\n",
       "feature_13   77824   6.485333\n",
       "feature_2   109672   9.139333\n",
       "feature_10  137882  11.490167\n",
       "feature_4   358075  29.839583\n",
       "feature_8   364029  30.335750"
      ]
     },
     "execution_count": 4,
     "metadata": {},
     "output_type": "execute_result"
    }
   ],
   "source": [
    "# Check for missing values\n",
    "missing_values = train.isnull().sum()\n",
    "missing_values = missing_values[missing_values > 0]\n",
    "missing_values.sort_values(inplace=True)\n",
    "missing_ratio = missing_values / len(train) * 100\n",
    "missing_values = pd.concat([missing_values, missing_ratio], axis=1, keys=['Total', 'Ratio'])\n",
    "missing_values"
   ]
  },
  {
   "cell_type": "markdown",
   "metadata": {},
   "source": [
    "Since from EDA notebook, we already knew that `nan` values has relationship with `target`, therefore we will try imputing `median` to fill missing values in numerical features and `Unknown` for categorical features."
   ]
  },
  {
   "cell_type": "code",
   "execution_count": 5,
   "metadata": {
    "execution": {
     "iopub.execute_input": "2025-04-19T08:20:30.417325Z",
     "iopub.status.busy": "2025-04-19T08:20:30.417054Z",
     "iopub.status.idle": "2025-04-19T08:20:32.798028Z",
     "shell.execute_reply": "2025-04-19T08:20:32.797118Z",
     "shell.execute_reply.started": "2025-04-19T08:20:30.417297Z"
    },
    "trusted": true
   },
   "outputs": [],
   "source": [
    "# Use simple imputer to fill missing values\n",
    "from sklearn.impute import SimpleImputer\n",
    "\n",
    "numerical_missing_vals = ['Age', 'feature_0', 'feature_2', 'feature_5', 'feature_8', 'feature_9', 'feature_10', 'feature_11']\n",
    "categorical_missing_vals = ['feature_1', 'feature_4', 'feature_13']\n",
    "\n",
    "numerical_imputer = SimpleImputer(strategy='median')\n",
    "\n",
    "\n",
    "train[numerical_missing_vals] = numerical_imputer.fit_transform(train[numerical_missing_vals])\n",
    "train[categorical_missing_vals] = train[categorical_missing_vals].fillna('Unknown')\n",
    "\n",
    "test[numerical_missing_vals] = numerical_imputer.transform(test[numerical_missing_vals])\n",
    "test[categorical_missing_vals] = test[categorical_missing_vals].fillna('Unknown')\n",
    "\n"
   ]
  },
  {
   "cell_type": "markdown",
   "metadata": {},
   "source": [
    "### Encoding\n",
    "- Since from the EDA, we already knew that which one should get one-hot encoded, label encoded and ordinal encoded."
   ]
  },
  {
   "cell_type": "code",
   "execution_count": 6,
   "metadata": {
    "execution": {
     "iopub.execute_input": "2025-04-19T08:20:32.800269Z",
     "iopub.status.busy": "2025-04-19T08:20:32.799876Z",
     "iopub.status.idle": "2025-04-19T08:20:39.019558Z",
     "shell.execute_reply": "2025-04-19T08:20:39.018550Z",
     "shell.execute_reply.started": "2025-04-19T08:20:32.800238Z"
    },
    "trusted": true
   },
   "outputs": [],
   "source": [
    "from sklearn.preprocessing import LabelEncoder, StandardScaler, RobustScaler, OneHotEncoder, OrdinalEncoder\n",
    "features_for_one_hot = ['Gender', 'feature_1', 'feature_4', 'feature_6', 'feature_16']\n",
    "features_for_label = ['feature_14']\n",
    "features_for_ordinal = ['feature_3', 'feature_7', 'feature_13', 'feature_15']\n",
    "\n",
    "ordinal_features = {\n",
    "    'feature_3':['High School', \"Bachelor's\", \"Master's\", 'PhD'],\n",
    "    'feature_7': ['Basic', 'Comprehensive', 'Premium'],\n",
    "    'feature_13': ['Poor', 'Average', 'Good'] ,\n",
    "    'feature_15': ['Rarely', 'Monthly', 'Weekly', 'Daily'],\n",
    "}\n",
    "\n",
    "train[features_for_one_hot] = train[features_for_one_hot].astype(str)\n",
    "test[features_for_one_hot] = test[features_for_one_hot].astype(str)\n",
    "\n",
    "ohe = OneHotEncoder(sparse_output=True, handle_unknown='ignore')\n",
    "ohe.fit(train[features_for_one_hot])\n",
    "\n",
    "ohe_array = ohe.transform(train[features_for_one_hot]).toarray()\n",
    "ohe_df = pd.DataFrame(ohe_array, columns=ohe.get_feature_names_out(features_for_one_hot), index=train.index)\n",
    "train = pd.concat([train.drop(columns=features_for_one_hot), ohe_df], axis=1)\n",
    "\n",
    "test_ohe_array = ohe.transform(test[features_for_one_hot]).toarray()\n",
    "test_ohe_df = pd.DataFrame(test_ohe_array, columns=ohe.get_feature_names_out(features_for_one_hot), index=test.index)\n",
    "test = pd.concat([test.drop(columns=features_for_one_hot), test_ohe_df], axis=1)\n",
    "\n",
    "for feature in features_for_label:\n",
    "    le = LabelEncoder()\n",
    "    train[feature] = le.fit_transform(train[feature])\n",
    "    test[feature] = le.transform(test[feature])\n",
    "    \n",
    "for feature, order in ordinal_features.items():\n",
    "    oe = OrdinalEncoder(categories=[order], handle_unknown='use_encoded_value', unknown_value=-1)\n",
    "    train[feature] = oe.fit_transform(train[[feature]]).flatten()\n",
    "    test[feature] = oe.transform(test[[feature]]).flatten()\n"
   ]
  },
  {
   "cell_type": "markdown",
   "metadata": {},
   "source": [
    "- For skewed feature like `feature_0`, we also used log-transformation (although we tried other methods like `box-cox` and `sqrt-transformation` but the result is not quite good therefore, we still sticked to `log-transformation`)."
   ]
  },
  {
   "cell_type": "code",
   "execution_count": 7,
   "metadata": {
    "execution": {
     "iopub.execute_input": "2025-04-19T08:20:39.022281Z",
     "iopub.status.busy": "2025-04-19T08:20:39.021959Z",
     "iopub.status.idle": "2025-04-19T08:20:39.038334Z",
     "shell.execute_reply": "2025-04-19T08:20:39.037521Z",
     "shell.execute_reply.started": "2025-04-19T08:20:39.022260Z"
    },
    "trusted": true
   },
   "outputs": [],
   "source": [
    "features_for_robust = ['feature_0']\n",
    "for feature in features_for_robust:\n",
    "    train[feature] = np.log1p(train[feature])\n",
    "    test[feature] = np.log1p(test[feature])\n"
   ]
  },
  {
   "cell_type": "code",
   "execution_count": 8,
   "metadata": {
    "execution": {
     "iopub.execute_input": "2025-04-19T08:20:39.039677Z",
     "iopub.status.busy": "2025-04-19T08:20:39.039353Z",
     "iopub.status.idle": "2025-04-19T08:20:39.718717Z",
     "shell.execute_reply": "2025-04-19T08:20:39.718118Z",
     "shell.execute_reply.started": "2025-04-19T08:20:39.039651Z"
    },
    "trusted": true
   },
   "outputs": [],
   "source": [
    "X = train.drop(columns=['target'])\n",
    "y = train['target']"
   ]
  },
  {
   "cell_type": "markdown",
   "metadata": {},
   "source": [
    "### Distribution of Target"
   ]
  },
  {
   "cell_type": "code",
   "execution_count": 9,
   "metadata": {
    "execution": {
     "iopub.execute_input": "2025-04-19T08:20:39.720164Z",
     "iopub.status.busy": "2025-04-19T08:20:39.719936Z",
     "iopub.status.idle": "2025-04-19T08:20:45.087469Z",
     "shell.execute_reply": "2025-04-19T08:20:45.086710Z",
     "shell.execute_reply.started": "2025-04-19T08:20:39.720141Z"
    },
    "trusted": true
   },
   "outputs": [
    {
     "name": "stderr",
     "output_type": "stream",
     "text": [
      "/usr/local/lib/python3.11/dist-packages/seaborn/_oldcore.py:1119: FutureWarning: use_inf_as_na option is deprecated and will be removed in a future version. Convert inf values to NaN before operating instead.\n",
      "  with pd.option_context('mode.use_inf_as_na', True):\n"
     ]
    },
    {
     "data": {
      "image/png": "[encoded data removed]",
      "text/plain": [
       "<Figure size 1200x600 with 1 Axes>"
      ]
     },
     "metadata": {},
     "output_type": "display_data"
    }
   ],
   "source": [
    "# Plot the distribution of the target variable\n",
    "plt.figure(figsize=(12, 6))\n",
    "sns.histplot(y, kde=True)\n",
    "plt.show()"
   ]
  },
  {
   "cell_type": "markdown",
   "metadata": {},
   "source": [
    "Since we already knew that the metric was evaluated is `RMSLE`, therefore using `log-transformation` on target is the best:\n",
    "- Alignment with the Metric: RMSLE measures errors in the log space (log(1+y)). By taking the mean in the log space and exponentiating back, you’re finding the value that minimizes the squared logarithmic differences, which is exactly what RMSLE evaluates.\n",
    "- Relative Errors: RMSLE cares about relative errors (e.g., a 10% error is the same whether the true value is 100 or 10,000). The log transformation converts relative errors into additive differences, and the mean in this space corresponds to the geometric mean in the original space, which aligns with RMSLE’s focus on relative errors."
   ]
  },
  {
   "cell_type": "code",
   "execution_count": 10,
   "metadata": {
    "execution": {
     "iopub.execute_input": "2025-04-19T08:20:45.088623Z",
     "iopub.status.busy": "2025-04-19T08:20:45.088357Z",
     "iopub.status.idle": "2025-04-19T08:20:45.096784Z",
     "shell.execute_reply": "2025-04-19T08:20:45.095954Z",
     "shell.execute_reply.started": "2025-04-19T08:20:45.088596Z"
    },
    "trusted": true
   },
   "outputs": [
    {
     "data": {
      "text/plain": [
       "0          7.962067\n",
       "1          7.302496\n",
       "2          6.342121\n",
       "3          6.641182\n",
       "4          7.612337\n",
       "             ...   \n",
       "1199995    7.173192\n",
       "1199996    6.711740\n",
       "1199997    5.918894\n",
       "1199998    6.391917\n",
       "1199999    7.816417\n",
       "Name: target, Length: 1200000, dtype: float64"
      ]
     },
     "execution_count": 10,
     "metadata": {},
     "output_type": "execute_result"
    }
   ],
   "source": [
    "y_log = np.log1p(y)\n",
    "y_log"
   ]
  },
  {
   "cell_type": "markdown",
   "metadata": {},
   "source": [
    "### Feature Selection"
   ]
  },
  {
   "cell_type": "markdown",
   "metadata": {},
   "source": [
    "Use RandomForest algorithm for selecting 15 most important features, which can help:\n",
    "- Speed up training.\n",
    "- Improve generalization (reduce overfitting).\n",
    "- Make the model easier to interpret."
   ]
  },
  {
   "cell_type": "code",
   "execution_count": 11,
   "metadata": {
    "execution": {
     "iopub.execute_input": "2025-04-19T08:20:45.098000Z",
     "iopub.status.busy": "2025-04-19T08:20:45.097617Z",
     "iopub.status.idle": "2025-04-19T08:20:45.572538Z",
     "shell.execute_reply": "2025-04-19T08:20:45.571649Z",
     "shell.execute_reply.started": "2025-04-19T08:20:45.097959Z"
    },
    "trusted": true
   },
   "outputs": [],
   "source": [
    "X_temp, X_fs, y_train, y_fs = train_test_split(X, y , test_size = 0.05)"
   ]
  },
  {
   "cell_type": "code",
   "execution_count": 12,
   "metadata": {
    "execution": {
     "iopub.execute_input": "2025-04-19T08:20:45.573760Z",
     "iopub.status.busy": "2025-04-19T08:20:45.573464Z",
     "iopub.status.idle": "2025-04-19T08:22:10.383476Z",
     "shell.execute_reply": "2025-04-19T08:22:10.382698Z",
     "shell.execute_reply.started": "2025-04-19T08:20:45.573734Z"
    },
    "trusted": true
   },
   "outputs": [
    {
     "name": "stdout",
     "output_type": "stream",
     "text": [
      "Selected top features:  Index(['feature_5', 'feature_0', 'feature_10', 'Age', 'feature_9', 'day_sin',\n",
      "       'week', 'feature_11', 'year', 'day', 'day_cos', 'dow', 'feature_13',\n",
      "       'feature_2', 'feature_15'],\n",
      "      dtype='object')\n"
     ]
    }
   ],
   "source": [
    "from sklearn.ensemble import RandomForestRegressor\n",
    "import pandas as pd\n",
    "\n",
    "model = RandomForestRegressor(random_state = 1)\n",
    "model.fit(X_fs, y_fs)\n",
    "\n",
    "# Lấy importance\n",
    "importances = model.feature_importances_\n",
    "feature_importance = pd.Series(importances, index=X_fs.columns)\n",
    "top_features = feature_importance.nlargest(15).index\n",
    "print(\"Selected top features: \",top_features)\n",
    "\n",
    "X = train[top_features]\n",
    "test = test[top_features]"
   ]
  },
  {
   "cell_type": "markdown",
   "metadata": {},
   "source": [
    "### Data Retyping"
   ]
  },
  {
   "cell_type": "code",
   "execution_count": 13,
   "metadata": {
    "execution": {
     "iopub.execute_input": "2025-04-19T08:22:10.384882Z",
     "iopub.status.busy": "2025-04-19T08:22:10.384341Z",
     "iopub.status.idle": "2025-04-19T08:22:10.407324Z",
     "shell.execute_reply": "2025-04-19T08:22:10.406727Z",
     "shell.execute_reply.started": "2025-04-19T08:22:10.384855Z"
    },
    "trusted": true
   },
   "outputs": [],
   "source": [
    "X = X.astype(np.float32)"
   ]
  },
  {
   "cell_type": "markdown",
   "metadata": {},
   "source": [
    "### Train Test Validation Split"
   ]
  },
  {
   "cell_type": "code",
   "execution_count": 14,
   "metadata": {
    "execution": {
     "iopub.execute_input": "2025-04-19T08:22:10.408174Z",
     "iopub.status.busy": "2025-04-19T08:22:10.407932Z",
     "iopub.status.idle": "2025-04-19T08:22:10.872535Z",
     "shell.execute_reply": "2025-04-19T08:22:10.871962Z",
     "shell.execute_reply.started": "2025-04-19T08:22:10.408158Z"
    },
    "trusted": true
   },
   "outputs": [],
   "source": [
    "X_train, X_test, y_train, y_test = train_test_split(X, y_log, test_size=0.2, random_state=42)\n",
    "X_temp, X_optuna, y_temp, y_optuna = train_test_split(X_train, y_train, test_size = 0.05, random_state = 42)\n",
    "X_train, X_val, y_train, y_val = train_test_split(X_train, y_train, test_size=0.05, random_state=42)\n",
    "X_optuna, X_val_optuna, y_optuna, y_val_optuna = train_test_split(X_optuna, y_optuna, test_size = 0.2, random_state = 42)\n"
   ]
  },
  {
   "cell_type": "markdown",
   "metadata": {},
   "source": [
    "## Modeling"
   ]
  },
  {
   "cell_type": "markdown",
   "metadata": {},
   "source": [
    "### Helper Functions"
   ]
  },
  {
   "cell_type": "code",
   "execution_count": 15,
   "metadata": {
    "execution": {
     "iopub.execute_input": "2025-04-19T08:22:10.873454Z",
     "iopub.status.busy": "2025-04-19T08:22:10.873262Z",
     "iopub.status.idle": "2025-04-19T08:22:10.879838Z",
     "shell.execute_reply": "2025-04-19T08:22:10.879109Z",
     "shell.execute_reply.started": "2025-04-19T08:22:10.873439Z"
    },
    "trusted": true
   },
   "outputs": [],
   "source": [
    "\n",
    "models_performance = {\n",
    "    'mae' : [],\n",
    "    'mse' : [],\n",
    "    'r2' : [],\n",
    "    'rmsle' : [],\n",
    "    'train_time' : [],\n",
    "    'model' : []\n",
    "}\n",
    "\n",
    "def root_mean_squared_log_error(y_true, y_pred):\n",
    "    return np.sqrt(mean_squared_log_error(y_true, y_pred))\n",
    "\n",
    "def make_prediction_loader(model, test_loader, device):\n",
    "    model.eval()\n",
    "    y_true_list = []\n",
    "    y_pred_list = []\n",
    "\n",
    "    with torch.inference_mode():\n",
    "        for X_test, y_test in test_loader:\n",
    "            X_test, y_test = X_test.to(device), y_test.to(device)\n",
    "\n",
    "            y_pred = model(X_test)\n",
    "\n",
    "            y_test = y_test.unsqueeze(1) if y_test.dim() == 1 else y_test\n",
    "            y_pred = y_pred.unsqueeze(1) if y_pred.dim() == 1 else y_pred\n",
    "\n",
    "            y_true_list.append(y_test.detach().cpu().numpy())\n",
    "            y_pred_list.append(y_pred.detach().cpu().numpy())\n",
    "\n",
    "    y_true = np.concatenate(y_true_list, axis=0)\n",
    "    y_pred = np.concatenate(y_pred_list, axis=0)\n",
    "\n",
    "    return y_true, y_pred"
   ]
  },
  {
   "cell_type": "markdown",
   "metadata": {},
   "source": [
    "### Setup Device Agnostic Code"
   ]
  },
  {
   "cell_type": "markdown",
   "metadata": {},
   "source": [
    "+ GPU decrease the training time dramastically.\n",
    "+ Change device into GPU (cuda) if a GPU is availble. "
   ]
  },
  {
   "cell_type": "code",
   "execution_count": 16,
   "metadata": {
    "execution": {
     "iopub.execute_input": "2025-04-19T08:22:10.880888Z",
     "iopub.status.busy": "2025-04-19T08:22:10.880668Z",
     "iopub.status.idle": "2025-04-19T08:22:11.270235Z",
     "shell.execute_reply": "2025-04-19T08:22:11.269431Z",
     "shell.execute_reply.started": "2025-04-19T08:22:10.880864Z"
    },
    "trusted": true
   },
   "outputs": [
    {
     "name": "stdout",
     "output_type": "stream",
     "text": [
      "| NVIDIA-SMI 560.35.03              Driver Version: 560.35.03      CUDA Version: 12.6     |\n"
     ]
    },
    {
     "data": {
      "text/plain": [
       "'cuda'"
      ]
     },
     "execution_count": 16,
     "metadata": {},
     "output_type": "execute_result"
    }
   ],
   "source": [
    "!nvidia-smi 2>&1 | grep -i \"cuda\"\n",
    "\n",
    "DEVICE = 'cuda' if torch.cuda.is_available() else 'cpu'\n",
    "DEVICE"
   ]
  },
  {
   "cell_type": "markdown",
   "metadata": {},
   "source": [
    "### Dataset"
   ]
  },
  {
   "cell_type": "markdown",
   "metadata": {},
   "source": [
    "+ PyTorch provides two data primitives: `torch.utils.data.DataLoader` and `torch.utils.data.Dataset` that allow you to use pre-loaded datasets as well as your own data. Dataset stores the samples and their corresponding labels, and DataLoader wraps an iterable around the Dataset to enable easy access to the samples.\n",
    "\n",
    "Reference:\n",
    "+ https://pytorch.org/tutorials/beginner/basics/data_tutorial.html 4/4/2025"
   ]
  },
  {
   "cell_type": "markdown",
   "metadata": {},
   "source": [
    "The custom dataset that take DataFrame and Labels, to organize and feed into DataLoader"
   ]
  },
  {
   "cell_type": "code",
   "execution_count": 17,
   "metadata": {
    "execution": {
     "iopub.execute_input": "2025-04-19T08:22:11.271532Z",
     "iopub.status.busy": "2025-04-19T08:22:11.271299Z",
     "iopub.status.idle": "2025-04-19T08:22:11.277834Z",
     "shell.execute_reply": "2025-04-19T08:22:11.277109Z",
     "shell.execute_reply.started": "2025-04-19T08:22:11.271509Z"
    },
    "trusted": true
   },
   "outputs": [],
   "source": [
    "class MyDataset(Dataset):\n",
    "    def __init__(self, dataframe : pd.DataFrame, labels : pd.Series):\n",
    "        self.data_frame = dataframe\n",
    "        self.labels = labels\n",
    "\n",
    "    def __len__(self) :\n",
    "        return len(self.labels)\n",
    "\n",
    "    def __getitem__(self, idx):\n",
    "        \n",
    "        feature = self.data_frame.iloc[idx].values\n",
    "        label = self.labels.iloc[idx]\n",
    "\n",
    "        feature_tensor = torch.tensor(feature, dtype=torch.float32)\n",
    "        label_tensor = torch.tensor(label, dtype=torch.float32)\n",
    "\n",
    "        return feature_tensor, label_tensor\n",
    "\n",
    "train_dataset = MyDataset(X_train, y_train)\n",
    "test_dataset = MyDataset(X_test, y_test)\n",
    "val_dataset = MyDataset(X_val, y_val)\n",
    "                       \n",
    "tune_dataset = MyDataset(X_optuna, y_optuna)\n",
    "val_optuna_dataset = MyDataset(X_val_optuna, y_val_optuna)"
   ]
  },
  {
   "cell_type": "markdown",
   "metadata": {},
   "source": [
    "### DataLoader"
   ]
  },
  {
   "cell_type": "markdown",
   "metadata": {},
   "source": [
    "Load data to feed into the model"
   ]
  },
  {
   "cell_type": "code",
   "execution_count": 18,
   "metadata": {
    "execution": {
     "iopub.execute_input": "2025-04-19T08:22:11.279192Z",
     "iopub.status.busy": "2025-04-19T08:22:11.278844Z",
     "iopub.status.idle": "2025-04-19T08:22:11.298010Z",
     "shell.execute_reply": "2025-04-19T08:22:11.297430Z",
     "shell.execute_reply.started": "2025-04-19T08:22:11.279168Z"
    },
    "trusted": true
   },
   "outputs": [],
   "source": [
    "BATCH_SIZE = 128\n",
    "train_loader = DataLoader(train_dataset, batch_size=BATCH_SIZE, shuffle=True, pin_memory=True, num_workers = 4)\n",
    "test_loader = DataLoader(test_dataset, batch_size=BATCH_SIZE, shuffle=True, pin_memory=True,num_workers = 4)\n",
    "tune_loader = DataLoader(tune_dataset, batch_size=BATCH_SIZE, shuffle=True,pin_memory=True,num_workers = 4)\n",
    "val_optuna= DataLoader(val_optuna_dataset, batch_size=BATCH_SIZE, shuffle=True,pin_memory=True,num_workers = 4)\n",
    "val_loader = DataLoader(val_dataset, batch_size=BATCH_SIZE, shuffle=True,pin_memory=True,num_workers = 4)\n"
   ]
  },
  {
   "cell_type": "code",
   "execution_count": 19,
   "metadata": {
    "execution": {
     "iopub.execute_input": "2025-04-19T08:22:11.298906Z",
     "iopub.status.busy": "2025-04-19T08:22:11.298701Z",
     "iopub.status.idle": "2025-04-19T08:22:12.049206Z",
     "shell.execute_reply": "2025-04-19T08:22:12.048101Z",
     "shell.execute_reply.started": "2025-04-19T08:22:11.298881Z"
    },
    "trusted": true
   },
   "outputs": [],
   "source": [
    "X_sample, y_sample = next(iter(train_loader))\n",
    "\n",
    "INPUT_SIZE = X_sample.shape[1]"
   ]
  },
  {
   "cell_type": "markdown",
   "metadata": {},
   "source": [
    "### Train Loop"
   ]
  },
  {
   "cell_type": "markdown",
   "metadata": {},
   "source": [
    "Training process consists of 3 parts :\n",
    "+ Train step:\n",
    "  + This is the main training process for 1 epoch\n",
    "  + For every batch in train DataLoader :\n",
    "    + Move data into device (cpu or gpu)\n",
    "    + Perform forward propagation\n",
    "    + Calculate loss\n",
    "    + Perform backward propagation\n",
    "  + After an ammount of batches, perform validate on the validation DataLoader\n",
    "  + Update scheduler if necessary\n",
    "  + Return average MAE, MSE and R2 of the validation data\n",
    "+ Validation step and Test step:\n",
    "    + Perform calculating the metrics : MAE, MSE, R2\n",
    "+ Train model :\n",
    "     + Loop through every step and perform training for a certain ammount of epochs\n",
    "\n",
    "Rererence:\n",
    "+ https://youtu.be/V_xro1bcAuA?si=qd6FYTIyGrIxIvAL 4/4/2025\n",
    "    "
   ]
  },
  {
   "cell_type": "code",
   "execution_count": 20,
   "metadata": {
    "execution": {
     "iopub.execute_input": "2025-04-19T08:22:12.051939Z",
     "iopub.status.busy": "2025-04-19T08:22:12.051675Z",
     "iopub.status.idle": "2025-04-19T08:22:12.075035Z",
     "shell.execute_reply": "2025-04-19T08:22:12.074187Z",
     "shell.execute_reply.started": "2025-04-19T08:22:12.051913Z"
    },
    "trusted": true
   },
   "outputs": [],
   "source": [
    "def train_step(model, train_loader, loss_fn, optimizer, device, scheduler=None, log_period=None, val_loader=None):\n",
    "\n",
    "    model.to(device)\n",
    "    model.train()\n",
    "    train_data = tqdm(train_loader, leave=True, desc=\"Training\")\n",
    "\n",
    "    avg_mae = 0\n",
    "    avg_mse = 0\n",
    "    avg_r2 = 0\n",
    "    \n",
    "    for batch_idx, (X_train, y_train) in enumerate(train_data, start=1):\n",
    "        \n",
    "        X_train, y_train = X_train.to(device), y_train.to(device)\n",
    "\n",
    "        if log_period is not None:\n",
    "          if batch_idx % log_period == 0:\n",
    "              model.eval()\n",
    "              with torch.no_grad():\n",
    "                  if val_loader:\n",
    "                      mae, mse, r2 = validation_step(model, val_loader, device)\n",
    "                  else:\n",
    "                      mae, mse, r2 = validation_step(model, train_loader, device)\n",
    "\n",
    "                  train_data.set_postfix({\"Loss\": loss.item(), \"MAE\": mae, \"MSE\": mse, \"R2\": r2})\n",
    "                  avg_mae += mae\n",
    "                  avg_mse += mse\n",
    "                  avg_r2 += r2\n",
    "              model.train()\n",
    "\n",
    "        y_pred = model(X_train)\n",
    "        y_pred = y_pred.squeeze()\n",
    "        loss = loss_fn(y_pred, y_train)\n",
    "\n",
    "        optimizer.zero_grad()\n",
    "        loss.backward()\n",
    "        optimizer.step()\n",
    "\n",
    "    if scheduler:\n",
    "        scheduler.step(loss.item())\n",
    "        \n",
    "    if log_period is not None:\n",
    "        num_logs = len(train_loader) // log_period\n",
    "        avg_mae /= num_logs\n",
    "        avg_mse /= num_logs\n",
    "        avg_r2 /= num_logs\n",
    "\n",
    "    return avg_mae, avg_mse, avg_r2\n",
    "\n",
    "def validation_step(model, val_loader, device):\n",
    "    model.to(device)\n",
    "    model.eval()\n",
    "\n",
    "    y_true_list = []\n",
    "    y_pred_list = []\n",
    "\n",
    "    with torch.inference_mode():\n",
    "        for X_val, y_val in val_loader:\n",
    "            X_val, y_val = X_val.to(device), y_val.to(device)\n",
    "            y_pred = model(X_val).squeeze()\n",
    "\n",
    "            if torch.isnan(y_pred).any():\n",
    "                continue\n",
    "\n",
    "            y_true_list.extend(y_val.cpu().detach().numpy())\n",
    "            y_pred_list.extend(y_pred.cpu().detach().numpy())\n",
    "\n",
    "    if not y_true_list or not y_pred_list:\n",
    "        print(\"NaN values detected during prediction. Validation step skipped.\")\n",
    "        return math.inf, math.inf, 0\n",
    "\n",
    "    y_true_array = np.array(y_true_list)\n",
    "    y_pred_array = np.array(y_pred_list)\n",
    "\n",
    "    mae = mean_absolute_error(y_true_array, y_pred_array)\n",
    "    mse = mean_squared_error(y_true_array, y_pred_array)\n",
    "    r2 = r2_score(y_true_array, y_pred_array)\n",
    "\n",
    "    return mae, mse, r2\n",
    "\n",
    "def test_step(model, test_loader, device):\n",
    "    model.to(device)\n",
    "    model.eval()\n",
    "\n",
    "    y_true_list, y_pred_list = [], []\n",
    "    test_data = tqdm(test_loader, leave=True, desc=\"Testing\")\n",
    "\n",
    "    with torch.inference_mode():\n",
    "        for X_test, y_test in test_data:\n",
    "            X_test, y_test = X_test.to(device), y_test.to(device)\n",
    "\n",
    "            y_pred = model(X_test)\n",
    "\n",
    "            y_test = y_test.unsqueeze(1) if len(y_test.shape) == 1 else y_test\n",
    "            y_pred = y_pred.unsqueeze(1) if len(y_pred.shape) == 1 else y_pred\n",
    "\n",
    "            if torch.isnan(y_pred).any():\n",
    "                continue\n",
    "\n",
    "            y_true_list.append(y_test.cpu().numpy())\n",
    "            y_pred_list.append(y_pred.cpu().numpy())\n",
    "\n",
    "    if not y_true_list or not y_pred_list:\n",
    "        print(\"Nan values detected while predicting, consider skipping this test result\")\n",
    "        return math.inf, math.inf, 0\n",
    "        \n",
    "    y_true = np.concatenate(y_true_list, axis=0)\n",
    "    y_pred = np.concatenate(y_pred_list, axis=0)\n",
    "\n",
    "    mae = mean_absolute_error(y_true, y_pred)\n",
    "    mse = mean_squared_error(y_true, y_pred)\n",
    "    r2 = r2_score(y_true, y_pred)\n",
    "\n",
    "    return mae, mse, r2\n",
    "\n",
    "\n",
    "def train_model(model, train_loader, test_loader, loss_fn, optimizer, device, scheduler = None, epochs=3, val_loader = None, log_period=None):\n",
    "\n",
    "    metrics = {\n",
    "    'train_mae': [],\n",
    "    'train_mse': [],\n",
    "    'train_r2': [],\n",
    "    'test_mae': [],\n",
    "    'test_mse': [],\n",
    "    'test_r2': [],\n",
    "    }\n",
    "    \n",
    "    for epoch in range(epochs):\n",
    "        print(f\"\\nEpoch {epoch+1}/{epochs}:\")\n",
    "        train_mae, train_mse, train_r2 = train_step(model, train_loader, loss_fn, optimizer, device, scheduler, log_period=log_period, val_loader=val_loader)\n",
    "        test_mae, test_mse, test_r2 = test_step(model, test_loader, device)\n",
    "        print(f\"MAE : {test_mae:.5f} | MSE : {test_mse:.5f} | R2 : {test_r2:.5f}\")\n",
    "\n",
    "        metrics['train_mae'].append(train_mae)\n",
    "        metrics['train_mse'].append(train_mse)\n",
    "        metrics['train_r2'].append(train_r2)\n",
    "        metrics['test_mae'].append(test_mae)\n",
    "        metrics['test_mse'].append(test_mse)\n",
    "        metrics['test_r2'].append(test_r2)\n",
    "    return metrics"
   ]
  },
  {
   "cell_type": "markdown",
   "metadata": {},
   "source": [
    "### Linear Model"
   ]
  },
  {
   "cell_type": "markdown",
   "metadata": {},
   "source": [
    "First model is a simple feed forward Neural Network, it consists of :\n",
    "+ Input layer with input dim equal to the number of the input features.\n",
    "+ Fully connected layers, they are connected linearly, might help detect linear relationship.\n",
    "+ No activation function.\n",
    "+ Output layer consists of 1 single neuron, designed for regression problem."
   ]
  },
  {
   "cell_type": "code",
   "execution_count": 21,
   "metadata": {
    "execution": {
     "iopub.execute_input": "2025-04-19T08:22:12.076244Z",
     "iopub.status.busy": "2025-04-19T08:22:12.075940Z",
     "iopub.status.idle": "2025-04-19T08:22:12.102311Z",
     "shell.execute_reply": "2025-04-19T08:22:12.101725Z",
     "shell.execute_reply.started": "2025-04-19T08:22:12.076226Z"
    },
    "trusted": true
   },
   "outputs": [],
   "source": [
    "class LinearModel(nn.Module):\n",
    "  def __init__(self, input_size, hidden_size, n_layers = 5):\n",
    "    super().__init__()\n",
    "\n",
    "    layers = [nn.Linear(in_features=input_size, out_features=hidden_size)]\n",
    "    for i in range(n_layers):\n",
    "      layers.append(nn.Linear(in_features=hidden_size, out_features=hidden_size))\n",
    "    layers.append(nn.Linear(in_features=hidden_size, out_features=1))\n",
    "\n",
    "    self.fc_layer = nn.Sequential(*layers)\n",
    "  def forward(self, X):\n",
    "    return self.fc_layer(X)"
   ]
  },
  {
   "cell_type": "markdown",
   "metadata": {},
   "source": [
    "#### Hyperparameters Tunning"
   ]
  },
  {
   "cell_type": "markdown",
   "metadata": {},
   "source": [
    "Hyperparameters tunning for the LinearModel, including:\n",
    "+ `lr` : Learning rate, float value from 0.00001 to 0.01\n",
    "+ `hidden_size` : Number of neurons in each layer of the model, value range from 16, 32, 64 to 128\n",
    "+ `n_layers` : Number of hidden layers, the more layer the deeper model but more risk of overfitting, vanishing gradients, slower training.\n",
    "+ `weight_decay` : L2 regularization strength; discourages large weights. Float value from 0.000001 to 0.01\n",
    "+ `optimizer` : Trial between SGD, Adam, AdamW, are popular optimizer in deep learning\n",
    "+ `loss function` : Between MAE or MSE\n",
    "\n",
    "There are 15 trials in total, each trial will run through the hypertune dataset for 5 epochs to find the best params dict"
   ]
  },
  {
   "cell_type": "code",
   "execution_count": 22,
   "metadata": {
    "execution": {
     "iopub.execute_input": "2025-04-19T08:22:12.107461Z",
     "iopub.status.busy": "2025-04-19T08:22:12.107254Z",
     "iopub.status.idle": "2025-04-19T08:22:12.123623Z",
     "shell.execute_reply": "2025-04-19T08:22:12.122856Z",
     "shell.execute_reply.started": "2025-04-19T08:22:12.107445Z"
    },
    "trusted": true
   },
   "outputs": [],
   "source": [
    "# def objective(trial):\n",
    "#     lr = trial.suggest_float(\"lr\", 1e-5, 1e-2, log=True)\n",
    "#     hidden_size = trial.suggest_categorical(\"hidden_size\", [16, 32, 64, 128])\n",
    "#     n_layers = trial.suggest_int(\"n_layers\", 1, 10)\n",
    "#     weight_decay = trial.suggest_float(\"weight_decay\", 1e-6, 1e-2, log=True)\n",
    "\n",
    "#     optimizer_name = trial.suggest_categorical(\"optimizer\", [\"Adam\", \"AdamW\", \"SGD\"])\n",
    "#     loss_name = trial.suggest_categorical(\"loss function\", ['MSE', 'MAE'])\n",
    "\n",
    "#     model = LinearModel(input_size=INPUT_SIZE, hidden_size=hidden_size, n_layers=n_layers).to(DEVICE)\n",
    "\n",
    "#     if loss_name == 'MSE':\n",
    "#         loss_fn = nn.MSELoss()\n",
    "#     else:\n",
    "#         loss_fn = nn.L1Loss()\n",
    "\n",
    "#     if optimizer_name == \"Adam\":\n",
    "#         optimizer = torch.optim.Adam(model.parameters(), lr=lr, weight_decay=weight_decay)\n",
    "#     elif optimizer_name == 'AdamW':\n",
    "#         optimizer = torch.optim.AdamW(model.parameters(), lr=lr, weight_decay=weight_decay)\n",
    "#     else:\n",
    "#         optimizer = torch.optim.SGD(model.parameters(), lr=lr, weight_decay=weight_decay)\n",
    "\n",
    "#     scheduler = torch.optim.lr_scheduler.ReduceLROnPlateau(optimizer, mode='min', factor=0.1, patience=5)\n",
    "\n",
    "#     metrics = train_model(\n",
    "#         model=model,\n",
    "#         train_loader=tune_loader,\n",
    "#         test_loader=val_optuna,\n",
    "#         loss_fn=loss_fn,\n",
    "#         optimizer=optimizer,\n",
    "#         device=DEVICE,\n",
    "#         scheduler=scheduler,\n",
    "#         epochs=5,\n",
    "#         val_loader=None,\n",
    "#         log_period=None\n",
    "#     )\n",
    "\n",
    "#     final_mae = metrics['test_mae'][-1]\n",
    "#     return final_mae\n",
    "\n",
    "# study = optuna.create_study(direction=\"minimize\")\n",
    "# study.optimize(objective, n_trials=15)\n",
    "\n",
    "# print(\"Best trial:\")\n",
    "# trial = study.best_trial\n",
    "# print(f\"  Value (MAE): {trial.value}\")\n",
    "# print(\"  Params: \")\n",
    "# for key, value in trial.params.items():\n",
    "#     print(f\"    {key}: {value}\")"
   ]
  },
  {
   "cell_type": "markdown",
   "metadata": {},
   "source": [
    "#### Model Summary"
   ]
  },
  {
   "cell_type": "markdown",
   "metadata": {},
   "source": [
    "Best parameters after optuna"
   ]
  },
  {
   "cell_type": "code",
   "execution_count": 23,
   "metadata": {
    "execution": {
     "iopub.execute_input": "2025-04-19T08:22:12.124556Z",
     "iopub.status.busy": "2025-04-19T08:22:12.124340Z",
     "iopub.status.idle": "2025-04-19T08:22:12.149851Z",
     "shell.execute_reply": "2025-04-19T08:22:12.149119Z",
     "shell.execute_reply.started": "2025-04-19T08:22:12.124540Z"
    },
    "trusted": true
   },
   "outputs": [],
   "source": [
    "best_params = {'lr': 0.0016227458233876132,\n",
    " 'hidden_size': 64,\n",
    " 'n_layers': 6,\n",
    " 'weight_decay': 0.00939272168792363,\n",
    " 'optimizer': 'Adam',\n",
    " 'loss function': 'MSE'}\n"
   ]
  },
  {
   "cell_type": "markdown",
   "metadata": {},
   "source": [
    "Call a model instance, setup loss and optimizer"
   ]
  },
  {
   "cell_type": "code",
   "execution_count": 24,
   "metadata": {
    "execution": {
     "iopub.execute_input": "2025-04-19T08:22:12.151055Z",
     "iopub.status.busy": "2025-04-19T08:22:12.150752Z",
     "iopub.status.idle": "2025-04-19T08:22:15.355805Z",
     "shell.execute_reply": "2025-04-19T08:22:15.355111Z",
     "shell.execute_reply.started": "2025-04-19T08:22:12.151031Z"
    },
    "trusted": true
   },
   "outputs": [
    {
     "data": {
      "text/plain": [
       "LinearModel(\n",
       "  (fc_layer): Sequential(\n",
       "    (0): Linear(in_features=15, out_features=64, bias=True)\n",
       "    (1): Linear(in_features=64, out_features=64, bias=True)\n",
       "    (2): Linear(in_features=64, out_features=64, bias=True)\n",
       "    (3): Linear(in_features=64, out_features=64, bias=True)\n",
       "    (4): Linear(in_features=64, out_features=64, bias=True)\n",
       "    (5): Linear(in_features=64, out_features=64, bias=True)\n",
       "    (6): Linear(in_features=64, out_features=64, bias=True)\n",
       "    (7): Linear(in_features=64, out_features=1, bias=True)\n",
       "  )\n",
       ")"
      ]
     },
     "execution_count": 24,
     "metadata": {},
     "output_type": "execute_result"
    }
   ],
   "source": [
    "linear_model = LinearModel(input_size = INPUT_SIZE, hidden_size = 64, n_layers = 6).to(DEVICE)\n",
    "criterion = nn.MSELoss()\n",
    "optimizer = torch.optim.Adam(linear_model.parameters(), lr= 0.0016227458233876132, weight_decay=0.00939272168792363)\n",
    "scheduler = torch.optim.lr_scheduler.ReduceLROnPlateau(optimizer, mode='min', factor=0.1, patience=5)\n",
    "linear_model\n"
   ]
  },
  {
   "cell_type": "markdown",
   "metadata": {},
   "source": [
    "Summary of the first model : 1 input layer, 1 output layer and 6 linear layers"
   ]
  },
  {
   "cell_type": "code",
   "execution_count": 25,
   "metadata": {
    "execution": {
     "iopub.execute_input": "2025-04-19T08:22:15.357180Z",
     "iopub.status.busy": "2025-04-19T08:22:15.356651Z",
     "iopub.status.idle": "2025-04-19T08:22:15.363213Z",
     "shell.execute_reply": "2025-04-19T08:22:15.362650Z",
     "shell.execute_reply.started": "2025-04-19T08:22:15.357161Z"
    },
    "trusted": true
   },
   "outputs": [
    {
     "data": {
      "text/plain": [
       "=================================================================\n",
       "Layer (type:depth-idx)                   Param #\n",
       "=================================================================\n",
       "LinearModel                              --\n",
       "├─Sequential: 1-1                        --\n",
       "│    └─Linear: 2-1                       1,024\n",
       "│    └─Linear: 2-2                       4,160\n",
       "│    └─Linear: 2-3                       4,160\n",
       "│    └─Linear: 2-4                       4,160\n",
       "│    └─Linear: 2-5                       4,160\n",
       "│    └─Linear: 2-6                       4,160\n",
       "│    └─Linear: 2-7                       4,160\n",
       "│    └─Linear: 2-8                       65\n",
       "=================================================================\n",
       "Total params: 26,049\n",
       "Trainable params: 26,049\n",
       "Non-trainable params: 0\n",
       "================================================================="
      ]
     },
     "execution_count": 25,
     "metadata": {},
     "output_type": "execute_result"
    }
   ],
   "source": [
    "summary(linear_model)"
   ]
  },
  {
   "cell_type": "markdown",
   "metadata": {},
   "source": [
    "#### Train The Model"
   ]
  },
  {
   "cell_type": "code",
   "execution_count": 26,
   "metadata": {
    "execution": {
     "iopub.execute_input": "2025-04-19T08:22:15.364296Z",
     "iopub.status.busy": "2025-04-19T08:22:15.364054Z",
     "iopub.status.idle": "2025-04-19T08:33:02.192834Z",
     "shell.execute_reply": "2025-04-19T08:33:02.192015Z",
     "shell.execute_reply.started": "2025-04-19T08:22:15.364273Z"
    },
    "trusted": true
   },
   "outputs": [
    {
     "name": "stdout",
     "output_type": "stream",
     "text": [
      "\n",
      "Epoch 1/10:\n"
     ]
    },
    {
     "name": "stderr",
     "output_type": "stream",
     "text": [
      "Training: 100%|██████████| 7125/7125 [00:54<00:00, 130.41it/s, Loss=0.916, MAE=0.791, MSE=1.22, R2=-0.00344]\n",
      "Testing: 100%|██████████| 1875/1875 [00:10<00:00, 179.04it/s]\n"
     ]
    },
    {
     "name": "stdout",
     "output_type": "stream",
     "text": [
      "MAE : 0.78832 | MSE : 1.20518 | R2 : -0.00255\n",
      "\n",
      "Epoch 2/10:\n"
     ]
    },
    {
     "name": "stderr",
     "output_type": "stream",
     "text": [
      "Training: 100%|██████████| 7125/7125 [00:53<00:00, 133.16it/s, Loss=1.49, MAE=0.821, MSE=1.22, R2=-0.00223]\n",
      "Testing: 100%|██████████| 1875/1875 [00:10<00:00, 179.70it/s]\n"
     ]
    },
    {
     "name": "stdout",
     "output_type": "stream",
     "text": [
      "MAE : 0.82010 | MSE : 1.20869 | R2 : -0.00547\n",
      "\n",
      "Epoch 3/10:\n"
     ]
    },
    {
     "name": "stderr",
     "output_type": "stream",
     "text": [
      "Training: 100%|██████████| 7125/7125 [00:53<00:00, 132.09it/s, Loss=1.25, MAE=0.811, MSE=1.21, R2=0.00191]  \n",
      "Testing: 100%|██████████| 1875/1875 [00:10<00:00, 178.55it/s]\n"
     ]
    },
    {
     "name": "stdout",
     "output_type": "stream",
     "text": [
      "MAE : 0.82517 | MSE : 1.21254 | R2 : -0.00867\n",
      "\n",
      "Epoch 4/10:\n"
     ]
    },
    {
     "name": "stderr",
     "output_type": "stream",
     "text": [
      "Training: 100%|██████████| 7125/7125 [00:53<00:00, 132.04it/s, Loss=1.17, MAE=0.792, MSE=1.21, R2=-0.00156]\n",
      "Testing: 100%|██████████| 1875/1875 [00:10<00:00, 179.12it/s]\n"
     ]
    },
    {
     "name": "stdout",
     "output_type": "stream",
     "text": [
      "MAE : 0.78689 | MSE : 1.20832 | R2 : -0.00516\n",
      "\n",
      "Epoch 5/10:\n"
     ]
    },
    {
     "name": "stderr",
     "output_type": "stream",
     "text": [
      "Training: 100%|██████████| 7125/7125 [00:53<00:00, 132.51it/s, Loss=0.938, MAE=0.807, MSE=1.21, R2=0.00315]\n",
      "Testing: 100%|██████████| 1875/1875 [00:10<00:00, 177.15it/s]\n"
     ]
    },
    {
     "name": "stdout",
     "output_type": "stream",
     "text": [
      "MAE : 0.78446 | MSE : 1.24742 | R2 : -0.03768\n",
      "\n",
      "Epoch 6/10:\n"
     ]
    },
    {
     "name": "stderr",
     "output_type": "stream",
     "text": [
      "Training: 100%|██████████| 7125/7125 [00:53<00:00, 132.12it/s, Loss=1.36, MAE=0.788, MSE=1.23, R2=-0.0116]\n",
      "Testing: 100%|██████████| 1875/1875 [00:10<00:00, 176.21it/s]\n"
     ]
    },
    {
     "name": "stdout",
     "output_type": "stream",
     "text": [
      "MAE : 0.79543 | MSE : 1.19929 | R2 : 0.00235\n",
      "\n",
      "Epoch 7/10:\n"
     ]
    },
    {
     "name": "stderr",
     "output_type": "stream",
     "text": [
      "Training: 100%|██████████| 7125/7125 [00:54<00:00, 130.62it/s, Loss=1.45, MAE=0.791, MSE=1.22, R2=-0.00386]\n",
      "Testing: 100%|██████████| 1875/1875 [00:10<00:00, 173.13it/s]\n"
     ]
    },
    {
     "name": "stdout",
     "output_type": "stream",
     "text": [
      "MAE : 0.78515 | MSE : 1.21099 | R2 : -0.00738\n",
      "\n",
      "Epoch 8/10:\n"
     ]
    },
    {
     "name": "stderr",
     "output_type": "stream",
     "text": [
      "Training: 100%|██████████| 7125/7125 [00:54<00:00, 131.08it/s, Loss=1.19, MAE=0.787, MSE=1.23, R2=-0.0155]\n",
      "Testing: 100%|██████████| 1875/1875 [00:10<00:00, 177.31it/s]\n"
     ]
    },
    {
     "name": "stdout",
     "output_type": "stream",
     "text": [
      "MAE : 0.81562 | MSE : 1.20549 | R2 : -0.00281\n",
      "\n",
      "Epoch 9/10:\n"
     ]
    },
    {
     "name": "stderr",
     "output_type": "stream",
     "text": [
      "Training: 100%|██████████| 7125/7125 [00:54<00:00, 131.09it/s, Loss=1.31, MAE=0.846, MSE=1.24, R2=-0.0192]\n",
      "Testing: 100%|██████████| 1875/1875 [00:10<00:00, 178.15it/s]\n"
     ]
    },
    {
     "name": "stdout",
     "output_type": "stream",
     "text": [
      "MAE : 0.81112 | MSE : 1.20284 | R2 : -0.00060\n",
      "\n",
      "Epoch 10/10:\n"
     ]
    },
    {
     "name": "stderr",
     "output_type": "stream",
     "text": [
      "Training: 100%|██████████| 7125/7125 [00:54<00:00, 131.83it/s, Loss=1.29, MAE=0.787, MSE=1.25, R2=-0.0325] \n",
      "Testing: 100%|██████████| 1875/1875 [00:10<00:00, 177.82it/s]"
     ]
    },
    {
     "name": "stdout",
     "output_type": "stream",
     "text": [
      "MAE : 0.78858 | MSE : 1.20417 | R2 : -0.00170\n"
     ]
    },
    {
     "name": "stderr",
     "output_type": "stream",
     "text": [
      "\n"
     ]
    }
   ],
   "source": [
    "N_EPOCH = 10\n",
    "\n",
    "start_time = time.time()\n",
    "metrics = train_model(\n",
    "        model=linear_model,\n",
    "        train_loader=train_loader,\n",
    "        test_loader=test_loader,\n",
    "        loss_fn=criterion,\n",
    "        optimizer=optimizer,\n",
    "        scheduler=scheduler,\n",
    "        epochs=N_EPOCH,\n",
    "        device = DEVICE,\n",
    "        val_loader=val_loader,\n",
    "        log_period=2000\n",
    "    )\n",
    "end_time = time.time()\n",
    "training_time = end_time - start_time\n"
   ]
  },
  {
   "cell_type": "markdown",
   "metadata": {},
   "source": [
    "#### Model Performance"
   ]
  },
  {
   "cell_type": "markdown",
   "metadata": {},
   "source": [
    "Evaluate model performace after each epoch"
   ]
  },
  {
   "cell_type": "code",
   "execution_count": 27,
   "metadata": {
    "execution": {
     "iopub.execute_input": "2025-04-19T08:33:02.194710Z",
     "iopub.status.busy": "2025-04-19T08:33:02.194099Z",
     "iopub.status.idle": "2025-04-19T08:33:02.817073Z",
     "shell.execute_reply": "2025-04-19T08:33:02.816250Z",
     "shell.execute_reply.started": "2025-04-19T08:33:02.194684Z"
    },
    "trusted": true
   },
   "outputs": [
    {
     "data": {
      "image/png": "[encoded data removed]",
      "text/plain": [
       "<Figure size 2000x500 with 3 Axes>"
      ]
     },
     "metadata": {},
     "output_type": "display_data"
    }
   ],
   "source": [
    "metrics_df = pd.DataFrame(metrics)\n",
    "metrics_df['epochs'] = np.arange(1,N_EPOCH + 1)\n",
    "\n",
    "fig, axs = plt.subplots(1, 3, figsize=(20, 5), sharex=True)\n",
    "\n",
    "axs[0].plot(metrics_df['epochs'], metrics_df['train_mae'], marker='o', label='Train MAE')\n",
    "axs[0].plot(metrics_df['epochs'], metrics_df['test_mae'], marker='o', label='Test MAE')\n",
    "axs[2].set_xlabel('Epochs')\n",
    "axs[0].set_ylabel('MAE')\n",
    "axs[0].legend()\n",
    "axs[0].set_title('MAE per Epoch')\n",
    "\n",
    "axs[1].plot(metrics_df['epochs'], metrics_df['train_mse'], marker='o', label='Train MSE')\n",
    "axs[1].plot(metrics_df['epochs'], metrics_df['test_mse'], marker='o', label='Test MSE')\n",
    "axs[2].set_xlabel('Epochs')\n",
    "axs[1].set_ylabel('MSE')\n",
    "axs[1].legend()\n",
    "axs[1].set_title('MSE per Epoch')\n",
    "\n",
    "axs[2].plot(metrics_df['epochs'], metrics_df['train_r2'], marker='o', label='Train R²')\n",
    "axs[2].plot(metrics_df['epochs'], metrics_df['test_r2'], marker='o', label='Test R²')\n",
    "axs[2].set_xlabel('Epochs')\n",
    "axs[2].set_ylabel('R² Score')\n",
    "axs[2].legend()\n",
    "axs[2].set_title('R² Score per Epoch')\n",
    "\n",
    "plt.tight_layout()\n",
    "plt.show()"
   ]
  },
  {
   "cell_type": "markdown",
   "metadata": {},
   "source": [
    "Key observation :\n",
    "+ MAE :\n",
    "    + Both Train and Test MAE fluctuate around 0.8 without a clear downward trend.\n",
    "    + Many epochs show spikes in MAE, indicating instability or poor generalization.\n",
    "\n",
    "+ MSE : \n",
    "    + Shows similar behavior — unstable test MSE, sometimes increasing.\n",
    "    + This suggests the model may be underfitting or not learning meaningful patterns.\n",
    "\n",
    "+ R2 :\n",
    "    + R² scores hover around 0 or below, which means the model fails to explain variance better than a simple mean predictor.\n",
    "    + Negative R² is a strong indicator of poor model performance."
   ]
  },
  {
   "cell_type": "markdown",
   "metadata": {},
   "source": [
    "#### Make Prediction"
   ]
  },
  {
   "cell_type": "markdown",
   "metadata": {},
   "source": [
    "Predict and calculate metrics on test set"
   ]
  },
  {
   "cell_type": "code",
   "execution_count": 28,
   "metadata": {
    "execution": {
     "iopub.execute_input": "2025-04-19T08:33:02.818250Z",
     "iopub.status.busy": "2025-04-19T08:33:02.817987Z",
     "iopub.status.idle": "2025-04-19T08:33:13.625456Z",
     "shell.execute_reply": "2025-04-19T08:33:13.624751Z",
     "shell.execute_reply.started": "2025-04-19T08:33:02.818233Z"
    },
    "trusted": true
   },
   "outputs": [
    {
     "data": {
      "text/plain": [
       "240000"
      ]
     },
     "execution_count": 28,
     "metadata": {},
     "output_type": "execute_result"
    }
   ],
   "source": [
    "linear_model.eval()\n",
    "y_true_log, y_pred_log = make_prediction_loader(linear_model, test_loader, DEVICE)\n",
    "y_true = np.expm1(y_true_log)\n",
    "y_pred = np.expm1(y_pred_log)\n",
    "len(y_pred)"
   ]
  },
  {
   "cell_type": "code",
   "execution_count": 29,
   "metadata": {
    "execution": {
     "iopub.execute_input": "2025-04-19T08:33:13.626694Z",
     "iopub.status.busy": "2025-04-19T08:33:13.626446Z",
     "iopub.status.idle": "2025-04-19T08:33:13.646350Z",
     "shell.execute_reply": "2025-04-19T08:33:13.645821Z",
     "shell.execute_reply.started": "2025-04-19T08:33:13.626669Z"
    },
    "trusted": true
   },
   "outputs": [],
   "source": [
    "mae = mean_absolute_error(y_true, y_pred)\n",
    "mse = mean_squared_error(y_true, y_pred)\n",
    "r2 = r2_score(y_true, y_pred)\n",
    "rmsle = root_mean_squared_log_error(y_true, y_pred)\n",
    "\n",
    "models_performance['mae'].append(mae)\n",
    "models_performance['mse'].append(mse)\n",
    "models_performance['r2'].append(r2)\n",
    "models_performance['rmsle'].append(rmsle)\n",
    "models_performance['train_time'].append(training_time)\n",
    "models_performance['model'].append('Linear Model')"
   ]
  },
  {
   "cell_type": "markdown",
   "metadata": {},
   "source": [
    "### Neural Network With Activation"
   ]
  },
  {
   "cell_type": "markdown",
   "metadata": {},
   "source": [
    "The second model architecture is a more popular architecture, it consists of :\n",
    "+ Input layer with input dim equal to the number of the input features.\n",
    "+ Fully connected layers, with GELU activation function (smoother activation).\n",
    "+ Batch normalization and drop out technique.\n",
    "+ Output layer consists of 1 single neuron, designed for regression problem."
   ]
  },
  {
   "cell_type": "code",
   "execution_count": 30,
   "metadata": {
    "execution": {
     "iopub.execute_input": "2025-04-19T08:33:13.647412Z",
     "iopub.status.busy": "2025-04-19T08:33:13.647189Z",
     "iopub.status.idle": "2025-04-19T08:33:13.663214Z",
     "shell.execute_reply": "2025-04-19T08:33:13.662590Z",
     "shell.execute_reply.started": "2025-04-19T08:33:13.647397Z"
    },
    "trusted": true
   },
   "outputs": [],
   "source": [
    "class RegressionModel(nn.Module):\n",
    "    def __init__(self, input_size, hidden_size, n_layers):\n",
    "        super().__init__()\n",
    "        layers = [nn.Linear(input_size, hidden_size), nn.BatchNorm1d(hidden_size), nn.GELU()]\n",
    "    \n",
    "        for i in range(n_layers):\n",
    "          layers.append(nn.Linear(in_features=hidden_size, out_features=hidden_size))\n",
    "          layers.append(nn.BatchNorm1d(hidden_size))\n",
    "          layers.append(nn.GELU())\n",
    "          if i % 3 == 0:\n",
    "            layers.append(nn.Dropout(0.15))\n",
    "    \n",
    "    \n",
    "        layers.append(nn.Linear(in_features=hidden_size, out_features=1))\n",
    "    \n",
    "        self.fc_layer = nn.Sequential(*layers)\n",
    "\n",
    "    def forward(self, X):\n",
    "        return self.fc_layer(X)\n"
   ]
  },
  {
   "cell_type": "markdown",
   "metadata": {},
   "source": [
    "#### Hyperparameters Tunning"
   ]
  },
  {
   "cell_type": "markdown",
   "metadata": {},
   "source": [
    "Hyperparameters tunning for the RegressionModel, including:\n",
    "+ `lr` : Learning rate, float value from 0.00001 to 0.01\n",
    "+ `hidden_size` : Number of neurons in each layer of the model, value range from 16, 32, 64 to 128\n",
    "+ `n_layers` : Number of hidden layers, the more layer the deeper model but more risk of overfitting, vanishing gradients, slower training.\n",
    "+ `weight_decay` : L2 regularization strength; discourages large weights. Float value from 0.000001 to 0.01\n",
    "+ `optimizer` : Trial between SGD, Adam, AdamW, are popular optimizer in deep learning\n",
    "+ `loss function` : Between MAE or MSE\n",
    "\n",
    "There are 15 trials in total, each trial will run through the hypertune dataset for 5 epochs to find the best params dict"
   ]
  },
  {
   "cell_type": "code",
   "execution_count": 31,
   "metadata": {
    "execution": {
     "iopub.execute_input": "2025-04-19T08:33:13.664318Z",
     "iopub.status.busy": "2025-04-19T08:33:13.664045Z",
     "iopub.status.idle": "2025-04-19T08:33:13.688661Z",
     "shell.execute_reply": "2025-04-19T08:33:13.688037Z",
     "shell.execute_reply.started": "2025-04-19T08:33:13.664295Z"
    },
    "trusted": true
   },
   "outputs": [],
   "source": [
    "# def objective(trial):\n",
    "#     lr = trial.suggest_float(\"lr\", 1e-5, 1e-2, log=True)\n",
    "#     hidden_size = trial.suggest_categorical(\"hidden_size\", [16, 32, 64, 128])\n",
    "#     n_layers = trial.suggest_int(\"n_layers\", 1, 10)\n",
    "#     weight_decay = trial.suggest_float(\"weight_decay\", 1e-6, 1e-2, log=True)\n",
    "\n",
    "#     optimizer_name = trial.suggest_categorical(\"optimizer\", [\"Adam\", \"AdamW\", \"SGD\"])\n",
    "#     loss_name = trial.suggest_categorical(\"loss_function\", ['MSE', 'MAE'])\n",
    "\n",
    "#     model = RegressionModel(input_size=INPUT_SIZE, hidden_size=hidden_size, n_layers=n_layers).to(DEVICE)\n",
    "\n",
    "#     if loss_name == 'MSE':\n",
    "#         loss_fn = nn.MSELoss()\n",
    "#     else:\n",
    "#         loss_fn = nn.L1Loss()\n",
    "\n",
    "#     if optimizer_name == \"Adam\":\n",
    "#         optimizer = torch.optim.Adam(model.parameters(), lr=lr, weight_decay=weight_decay)\n",
    "#     elif optimizer_name == 'AdamW':\n",
    "#         optimizer = torch.optim.AdamW(model.parameters(), lr=lr, weight_decay=weight_decay)\n",
    "#     else:\n",
    "#         optimizer = torch.optim.SGD(model.parameters(), lr=lr, weight_decay=weight_decay)\n",
    "\n",
    "#     scheduler = torch.optim.lr_scheduler.ReduceLROnPlateau(optimizer, mode='min', factor=0.1, patience=5)\n",
    "\n",
    "#     metrics = train_model(\n",
    "#         model=model,\n",
    "#         train_loader=tune_loader,\n",
    "#         test_loader=val_optuna,\n",
    "#         loss_fn=loss_fn,\n",
    "#         optimizer=optimizer,\n",
    "#         device=DEVICE,\n",
    "#         scheduler=scheduler,\n",
    "#         epochs=5,\n",
    "#         val_loader=None,\n",
    "#         log_period=None\n",
    "#     )\n",
    "\n",
    "#     final_mae = metrics['test_mae'][-1]\n",
    "#     return final_mae\n",
    "\n",
    "\n",
    "# study = optuna.create_study(direction=\"minimize\")\n",
    "# study.optimize(objective, n_trials=15)\n",
    "\n",
    "# print(\"Best trial:\")\n",
    "# trial = study.best_trial\n",
    "# print(f\"  Value (MAE): {trial.value}\")\n",
    "# print(\"  Params: \")\n",
    "# for key, value in trial.params.items():\n",
    "#     print(f\"    {key}: {value}\")"
   ]
  },
  {
   "cell_type": "markdown",
   "metadata": {},
   "source": [
    "Best parameters, activation and loss function after optuna"
   ]
  },
  {
   "cell_type": "code",
   "execution_count": 32,
   "metadata": {
    "execution": {
     "iopub.execute_input": "2025-04-19T08:33:13.689697Z",
     "iopub.status.busy": "2025-04-19T08:33:13.689486Z",
     "iopub.status.idle": "2025-04-19T08:33:13.709372Z",
     "shell.execute_reply": "2025-04-19T08:33:13.708792Z",
     "shell.execute_reply.started": "2025-04-19T08:33:13.689682Z"
    },
    "trusted": true
   },
   "outputs": [],
   "source": [
    "best_params = {'lr': 0.0010912138727819272,\n",
    " 'hidden_size': 16,\n",
    " 'n_layers': 9,\n",
    " 'weight_decay': 0.0006363355086413182,\n",
    " 'optimizer': 'AdamW',\n",
    " 'loss_function': 'MAE'}"
   ]
  },
  {
   "cell_type": "markdown",
   "metadata": {},
   "source": [
    "#### Model Summary"
   ]
  },
  {
   "cell_type": "markdown",
   "metadata": {},
   "source": [
    "Call a model instance and setup loss function, optimizer"
   ]
  },
  {
   "cell_type": "code",
   "execution_count": 33,
   "metadata": {
    "execution": {
     "iopub.execute_input": "2025-04-19T08:33:13.710430Z",
     "iopub.status.busy": "2025-04-19T08:33:13.710222Z",
     "iopub.status.idle": "2025-04-19T08:33:13.771606Z",
     "shell.execute_reply": "2025-04-19T08:33:13.770895Z",
     "shell.execute_reply.started": "2025-04-19T08:33:13.710411Z"
    },
    "trusted": true
   },
   "outputs": [
    {
     "data": {
      "text/plain": [
       "RegressionModel(\n",
       "  (fc_layer): Sequential(\n",
       "    (0): Linear(in_features=15, out_features=16, bias=True)\n",
       "    (1): BatchNorm1d(16, eps=1e-05, momentum=0.1, affine=True, track_running_stats=True)\n",
       "    (2): GELU(approximate='none')\n",
       "    (3): Linear(in_features=16, out_features=16, bias=True)\n",
       "    (4): BatchNorm1d(16, eps=1e-05, momentum=0.1, affine=True, track_running_stats=True)\n",
       "    (5): GELU(approximate='none')\n",
       "    (6): Dropout(p=0.15, inplace=False)\n",
       "    (7): Linear(in_features=16, out_features=16, bias=True)\n",
       "    (8): BatchNorm1d(16, eps=1e-05, momentum=0.1, affine=True, track_running_stats=True)\n",
       "    (9): GELU(approximate='none')\n",
       "    (10): Linear(in_features=16, out_features=16, bias=True)\n",
       "    (11): BatchNorm1d(16, eps=1e-05, momentum=0.1, affine=True, track_running_stats=True)\n",
       "    (12): GELU(approximate='none')\n",
       "    (13): Linear(in_features=16, out_features=16, bias=True)\n",
       "    (14): BatchNorm1d(16, eps=1e-05, momentum=0.1, affine=True, track_running_stats=True)\n",
       "    (15): GELU(approximate='none')\n",
       "    (16): Dropout(p=0.15, inplace=False)\n",
       "    (17): Linear(in_features=16, out_features=16, bias=True)\n",
       "    (18): BatchNorm1d(16, eps=1e-05, momentum=0.1, affine=True, track_running_stats=True)\n",
       "    (19): GELU(approximate='none')\n",
       "    (20): Linear(in_features=16, out_features=16, bias=True)\n",
       "    (21): BatchNorm1d(16, eps=1e-05, momentum=0.1, affine=True, track_running_stats=True)\n",
       "    (22): GELU(approximate='none')\n",
       "    (23): Linear(in_features=16, out_features=16, bias=True)\n",
       "    (24): BatchNorm1d(16, eps=1e-05, momentum=0.1, affine=True, track_running_stats=True)\n",
       "    (25): GELU(approximate='none')\n",
       "    (26): Dropout(p=0.15, inplace=False)\n",
       "    (27): Linear(in_features=16, out_features=16, bias=True)\n",
       "    (28): BatchNorm1d(16, eps=1e-05, momentum=0.1, affine=True, track_running_stats=True)\n",
       "    (29): GELU(approximate='none')\n",
       "    (30): Linear(in_features=16, out_features=16, bias=True)\n",
       "    (31): BatchNorm1d(16, eps=1e-05, momentum=0.1, affine=True, track_running_stats=True)\n",
       "    (32): GELU(approximate='none')\n",
       "    (33): Linear(in_features=16, out_features=1, bias=True)\n",
       "  )\n",
       ")"
      ]
     },
     "execution_count": 33,
     "metadata": {},
     "output_type": "execute_result"
    }
   ],
   "source": [
    "regression_model = RegressionModel(input_size = INPUT_SIZE, hidden_size = 16, n_layers = 9).to(DEVICE)\n",
    "criterion = nn.L1Loss()\n",
    "optimizer = torch.optim.AdamW(regression_model.parameters(), lr=  0.0010912138727819272, weight_decay=0.0006363355086413182)\n",
    "scheduler = torch.optim.lr_scheduler.ReduceLROnPlateau(optimizer, mode='min', factor=0.1, patience=5)\n",
    "regression_model\n"
   ]
  },
  {
   "cell_type": "markdown",
   "metadata": {},
   "source": [
    "Summary of the second model : Contain 1 input layer, 1 output layer and 9 block of Linear, Activation and Batch normalization"
   ]
  },
  {
   "cell_type": "code",
   "execution_count": 34,
   "metadata": {
    "execution": {
     "iopub.execute_input": "2025-04-19T08:33:13.772687Z",
     "iopub.status.busy": "2025-04-19T08:33:13.772425Z",
     "iopub.status.idle": "2025-04-19T08:33:13.779795Z",
     "shell.execute_reply": "2025-04-19T08:33:13.779204Z",
     "shell.execute_reply.started": "2025-04-19T08:33:13.772663Z"
    },
    "trusted": true
   },
   "outputs": [
    {
     "data": {
      "text/plain": [
       "=================================================================\n",
       "Layer (type:depth-idx)                   Param #\n",
       "=================================================================\n",
       "RegressionModel                          --\n",
       "├─Sequential: 1-1                        --\n",
       "│    └─Linear: 2-1                       256\n",
       "│    └─BatchNorm1d: 2-2                  32\n",
       "│    └─GELU: 2-3                         --\n",
       "│    └─Linear: 2-4                       272\n",
       "│    └─BatchNorm1d: 2-5                  32\n",
       "│    └─GELU: 2-6                         --\n",
       "│    └─Dropout: 2-7                      --\n",
       "│    └─Linear: 2-8                       272\n",
       "│    └─BatchNorm1d: 2-9                  32\n",
       "│    └─GELU: 2-10                        --\n",
       "│    └─Linear: 2-11                      272\n",
       "│    └─BatchNorm1d: 2-12                 32\n",
       "│    └─GELU: 2-13                        --\n",
       "│    └─Linear: 2-14                      272\n",
       "│    └─BatchNorm1d: 2-15                 32\n",
       "│    └─GELU: 2-16                        --\n",
       "│    └─Dropout: 2-17                     --\n",
       "│    └─Linear: 2-18                      272\n",
       "│    └─BatchNorm1d: 2-19                 32\n",
       "│    └─GELU: 2-20                        --\n",
       "│    └─Linear: 2-21                      272\n",
       "│    └─BatchNorm1d: 2-22                 32\n",
       "│    └─GELU: 2-23                        --\n",
       "│    └─Linear: 2-24                      272\n",
       "│    └─BatchNorm1d: 2-25                 32\n",
       "│    └─GELU: 2-26                        --\n",
       "│    └─Dropout: 2-27                     --\n",
       "│    └─Linear: 2-28                      272\n",
       "│    └─BatchNorm1d: 2-29                 32\n",
       "│    └─GELU: 2-30                        --\n",
       "│    └─Linear: 2-31                      272\n",
       "│    └─BatchNorm1d: 2-32                 32\n",
       "│    └─GELU: 2-33                        --\n",
       "│    └─Linear: 2-34                      17\n",
       "=================================================================\n",
       "Total params: 3,041\n",
       "Trainable params: 3,041\n",
       "Non-trainable params: 0\n",
       "================================================================="
      ]
     },
     "execution_count": 34,
     "metadata": {},
     "output_type": "execute_result"
    }
   ],
   "source": [
    "summary(regression_model)"
   ]
  },
  {
   "cell_type": "markdown",
   "metadata": {},
   "source": [
    "#### Train The Model"
   ]
  },
  {
   "cell_type": "code",
   "execution_count": 35,
   "metadata": {
    "execution": {
     "iopub.execute_input": "2025-04-19T08:33:13.780740Z",
     "iopub.status.busy": "2025-04-19T08:33:13.780503Z",
     "iopub.status.idle": "2025-04-19T08:46:33.157830Z",
     "shell.execute_reply": "2025-04-19T08:46:33.157120Z",
     "shell.execute_reply.started": "2025-04-19T08:33:13.780719Z"
    },
    "trusted": true
   },
   "outputs": [
    {
     "name": "stdout",
     "output_type": "stream",
     "text": [
      "\n",
      "Epoch 1/10:\n"
     ]
    },
    {
     "name": "stderr",
     "output_type": "stream",
     "text": [
      "Training: 100%|██████████| 7125/7125 [01:08<00:00, 103.51it/s, Loss=0.683, MAE=0.791, MSE=1.22, R2=-0.00618]\n",
      "Testing: 100%|██████████| 1875/1875 [00:11<00:00, 162.34it/s]\n"
     ]
    },
    {
     "name": "stdout",
     "output_type": "stream",
     "text": [
      "MAE : 0.78376 | MSE : 1.22093 | R2 : -0.01565\n",
      "\n",
      "Epoch 2/10:\n"
     ]
    },
    {
     "name": "stderr",
     "output_type": "stream",
     "text": [
      "Training: 100%|██████████| 7125/7125 [01:08<00:00, 104.42it/s, Loss=0.793, MAE=0.787, MSE=1.23, R2=-0.0174]\n",
      "Testing: 100%|██████████| 1875/1875 [00:11<00:00, 158.65it/s]\n"
     ]
    },
    {
     "name": "stdout",
     "output_type": "stream",
     "text": [
      "MAE : 0.78489 | MSE : 1.21274 | R2 : -0.00883\n",
      "\n",
      "Epoch 3/10:\n"
     ]
    },
    {
     "name": "stderr",
     "output_type": "stream",
     "text": [
      "Training: 100%|██████████| 7125/7125 [01:08<00:00, 104.00it/s, Loss=0.95, MAE=0.789, MSE=1.26, R2=-0.0414] \n",
      "Testing: 100%|██████████| 1875/1875 [00:11<00:00, 162.87it/s]\n"
     ]
    },
    {
     "name": "stdout",
     "output_type": "stream",
     "text": [
      "MAE : 0.78372 | MSE : 1.21900 | R2 : -0.01404\n",
      "\n",
      "Epoch 4/10:\n"
     ]
    },
    {
     "name": "stderr",
     "output_type": "stream",
     "text": [
      "Training: 100%|██████████| 7125/7125 [01:08<00:00, 104.22it/s, Loss=0.864, MAE=0.792, MSE=1.29, R2=-0.0601]\n",
      "Testing: 100%|██████████| 1875/1875 [00:11<00:00, 157.02it/s]\n"
     ]
    },
    {
     "name": "stdout",
     "output_type": "stream",
     "text": [
      "MAE : 0.77495 | MSE : 1.20972 | R2 : -0.00632\n",
      "\n",
      "Epoch 5/10:\n"
     ]
    },
    {
     "name": "stderr",
     "output_type": "stream",
     "text": [
      "Training: 100%|██████████| 7125/7125 [01:09<00:00, 103.15it/s, Loss=0.82, MAE=0.785, MSE=1.24, R2=-0.0262] \n",
      "Testing: 100%|██████████| 1875/1875 [00:11<00:00, 162.47it/s]\n"
     ]
    },
    {
     "name": "stdout",
     "output_type": "stream",
     "text": [
      "MAE : 0.78931 | MSE : 1.27433 | R2 : -0.06007\n",
      "\n",
      "Epoch 6/10:\n"
     ]
    },
    {
     "name": "stderr",
     "output_type": "stream",
     "text": [
      "Training: 100%|██████████| 7125/7125 [01:08<00:00, 104.64it/s, Loss=0.777, MAE=0.781, MSE=1.23, R2=-0.0156]\n",
      "Testing: 100%|██████████| 1875/1875 [00:11<00:00, 159.77it/s]\n"
     ]
    },
    {
     "name": "stdout",
     "output_type": "stream",
     "text": [
      "MAE : 0.96578 | MSE : 1.51315 | R2 : -0.25873\n",
      "\n",
      "Epoch 7/10:\n"
     ]
    },
    {
     "name": "stderr",
     "output_type": "stream",
     "text": [
      "Training: 100%|██████████| 7125/7125 [01:08<00:00, 104.37it/s, Loss=0.785, MAE=0.885, MSE=1.38, R2=-0.135] \n",
      "Testing: 100%|██████████| 1875/1875 [00:11<00:00, 164.09it/s]\n"
     ]
    },
    {
     "name": "stdout",
     "output_type": "stream",
     "text": [
      "MAE : 0.89787 | MSE : 1.37599 | R2 : -0.14463\n",
      "\n",
      "Epoch 8/10:\n"
     ]
    },
    {
     "name": "stderr",
     "output_type": "stream",
     "text": [
      "Training: 100%|██████████| 7125/7125 [01:07<00:00, 105.04it/s, Loss=0.695, MAE=0.771, MSE=1.21, R2=0.00217]\n",
      "Testing: 100%|██████████| 1875/1875 [00:11<00:00, 163.76it/s]\n"
     ]
    },
    {
     "name": "stdout",
     "output_type": "stream",
     "text": [
      "MAE : 0.76965 | MSE : 1.19799 | R2 : 0.00344\n",
      "\n",
      "Epoch 9/10:\n"
     ]
    },
    {
     "name": "stderr",
     "output_type": "stream",
     "text": [
      "Training: 100%|██████████| 7125/7125 [01:08<00:00, 104.55it/s, Loss=0.716, MAE=0.778, MSE=1.22, R2=-0.00905]\n",
      "Testing: 100%|██████████| 1875/1875 [00:11<00:00, 163.78it/s]\n"
     ]
    },
    {
     "name": "stdout",
     "output_type": "stream",
     "text": [
      "MAE : 0.77217 | MSE : 1.21408 | R2 : -0.00995\n",
      "\n",
      "Epoch 10/10:\n"
     ]
    },
    {
     "name": "stderr",
     "output_type": "stream",
     "text": [
      "Training: 100%|██████████| 7125/7125 [01:07<00:00, 104.93it/s, Loss=0.775, MAE=0.771, MSE=1.21, R2=0.00545]\n",
      "Testing: 100%|██████████| 1875/1875 [00:11<00:00, 163.40it/s]"
     ]
    },
    {
     "name": "stdout",
     "output_type": "stream",
     "text": [
      "MAE : 0.76664 | MSE : 1.19365 | R2 : 0.00704\n"
     ]
    },
    {
     "name": "stderr",
     "output_type": "stream",
     "text": [
      "\n"
     ]
    }
   ],
   "source": [
    "start_time = time.time()\n",
    "metrics = train_model(\n",
    "        model=regression_model,\n",
    "        train_loader=train_loader,\n",
    "        test_loader=test_loader,\n",
    "        loss_fn=criterion,\n",
    "        optimizer=optimizer,\n",
    "        scheduler=scheduler,\n",
    "        epochs=N_EPOCH,\n",
    "        device = DEVICE,\n",
    "        val_loader=val_loader,\n",
    "        log_period=2000\n",
    "    )\n",
    "end_time = time.time()\n",
    "training_time = end_time - start_time\n"
   ]
  },
  {
   "cell_type": "markdown",
   "metadata": {},
   "source": [
    "#### Model Performance"
   ]
  },
  {
   "cell_type": "markdown",
   "metadata": {},
   "source": [
    "Evaluate after each epoch"
   ]
  },
  {
   "cell_type": "code",
   "execution_count": 36,
   "metadata": {
    "execution": {
     "iopub.execute_input": "2025-04-19T08:46:33.159357Z",
     "iopub.status.busy": "2025-04-19T08:46:33.159090Z",
     "iopub.status.idle": "2025-04-19T08:46:33.723762Z",
     "shell.execute_reply": "2025-04-19T08:46:33.722992Z",
     "shell.execute_reply.started": "2025-04-19T08:46:33.159333Z"
    },
    "trusted": true
   },
   "outputs": [
    {
     "data": {
      "image/png": "[encoded data removed]",
      "text/plain": [
       "<Figure size 2000x500 with 3 Axes>"
      ]
     },
     "metadata": {},
     "output_type": "display_data"
    }
   ],
   "source": [
    "metrics_df = pd.DataFrame(metrics)\n",
    "metrics_df['epochs'] = np.arange(1,N_EPOCH + 1)\n",
    "\n",
    "fig, axs = plt.subplots(1, 3, figsize=(20, 5), sharex=True)\n",
    "\n",
    "axs[0].plot(metrics_df['epochs'], metrics_df['train_mae'], marker='o', label='Train MAE')\n",
    "axs[0].plot(metrics_df['epochs'], metrics_df['test_mae'], marker='o', label='Test MAE')\n",
    "axs[2].set_xlabel('Epochs')\n",
    "axs[0].set_ylabel('MAE')\n",
    "axs[0].legend()\n",
    "axs[0].set_title('MAE per Epoch')\n",
    "\n",
    "axs[1].plot(metrics_df['epochs'], metrics_df['train_mse'], marker='o', label='Train MSE')\n",
    "axs[1].plot(metrics_df['epochs'], metrics_df['test_mse'], marker='o', label='Test MSE')\n",
    "axs[2].set_xlabel('Epochs')\n",
    "axs[1].set_ylabel('MSE')\n",
    "axs[1].legend()\n",
    "axs[1].set_title('MSE per Epoch')\n",
    "\n",
    "axs[2].plot(metrics_df['epochs'], metrics_df['train_r2'], marker='o', label='Train R²')\n",
    "axs[2].plot(metrics_df['epochs'], metrics_df['test_r2'], marker='o', label='Test R²')\n",
    "axs[2].set_xlabel('Epochs')\n",
    "axs[2].set_ylabel('R² Score')\n",
    "axs[2].legend()\n",
    "axs[2].set_title('R² Score per Epoch')\n",
    "\n",
    "plt.tight_layout()\n",
    "plt.show()"
   ]
  },
  {
   "cell_type": "markdown",
   "metadata": {},
   "source": [
    "Key observation :\n",
    "+ MAE:\n",
    "    + Much smoother than the previous version, with a clear downtrend on train data\n",
    "    + Both train and test MAE show a generally low and stable trend\n",
    "    + There a huge spike at epoch 6,7, but the model quickly recover\n",
    "+ MSE:\n",
    "    + Also improved, aside from a jump at epoch 6 (same as in MAE), both curves are stable and quite low.\n",
    "+ R2:\n",
    "    + Better than the previous model, but still not highly positive, which means the model could be improved further.\n",
    "\n",
    "In general, this model perform better as it capture non linear relationship"
   ]
  },
  {
   "cell_type": "markdown",
   "metadata": {},
   "source": [
    "#### Make Prediction"
   ]
  },
  {
   "cell_type": "markdown",
   "metadata": {},
   "source": [
    "Predict and calculate metrics on test set"
   ]
  },
  {
   "cell_type": "code",
   "execution_count": 37,
   "metadata": {
    "execution": {
     "iopub.execute_input": "2025-04-19T08:46:33.725077Z",
     "iopub.status.busy": "2025-04-19T08:46:33.724754Z",
     "iopub.status.idle": "2025-04-19T08:46:45.439436Z",
     "shell.execute_reply": "2025-04-19T08:46:45.438566Z",
     "shell.execute_reply.started": "2025-04-19T08:46:33.725056Z"
    },
    "trusted": true
   },
   "outputs": [
    {
     "data": {
      "text/plain": [
       "240000"
      ]
     },
     "execution_count": 37,
     "metadata": {},
     "output_type": "execute_result"
    }
   ],
   "source": [
    "regression_model.eval()\n",
    "y_true_log, y_pred_log = make_prediction_loader(regression_model, test_loader, DEVICE)\n",
    "y_true = np.expm1(y_true_log)\n",
    "y_pred = np.expm1(y_pred_log)\n",
    "len(y_pred)"
   ]
  },
  {
   "cell_type": "code",
   "execution_count": 38,
   "metadata": {
    "execution": {
     "iopub.execute_input": "2025-04-19T08:46:45.440859Z",
     "iopub.status.busy": "2025-04-19T08:46:45.440549Z",
     "iopub.status.idle": "2025-04-19T08:46:45.454243Z",
     "shell.execute_reply": "2025-04-19T08:46:45.453670Z",
     "shell.execute_reply.started": "2025-04-19T08:46:45.440825Z"
    },
    "trusted": true
   },
   "outputs": [],
   "source": [
    "mae = mean_absolute_error(y_true, y_pred)\n",
    "mse = mean_squared_error(y_true, y_pred)\n",
    "r2 = r2_score(y_true, y_pred)\n",
    "rmsle = root_mean_squared_log_error(y_true, y_pred)\n",
    "\n",
    "models_performance['mae'].append(mae)\n",
    "models_performance['mse'].append(mse)\n",
    "models_performance['r2'].append(r2)\n",
    "models_performance['rmsle'].append(rmsle)\n",
    "models_performance['train_time'].append(training_time)\n",
    "models_performance['model'].append('Regression Model')"
   ]
  },
  {
   "cell_type": "markdown",
   "metadata": {},
   "source": [
    "### Neural Network With Skip Connection"
   ]
  },
  {
   "cell_type": "markdown",
   "metadata": {},
   "source": [
    "Inspired by ResNet architecture, using skip connection technique. The model architecture consists of:\n",
    "+ Input layer with the input dim equal to number of input features\n",
    "+ Multiple hidden layer made of Residual block, each block consists of ReLu activation function, skip connection and batch normalization technique.\n",
    "+ Ouptut layer with 1 neuron for regression problem\n",
    "\n",
    "Benefit of this architecture:\n",
    "+ Improve gradient flow and help train deeper networks.\n",
    "+ Helps reduce the vanishing gradient problem in deep networks.\n",
    "+ Allows the model to learn identity mappings when needed (if the block learns nothing, it can just pass the input through)\n",
    "\n",
    "Reference:\n",
    "+ https://viblo.asia/p/paper-explain-hieu-ve-skip-connection-mot-ki-thuat-nho-ma-co-vo-trong-cac-kien-truc-residual-networks-3Q75w7bQ5Wb 10/4/2025\n"
   ]
  },
  {
   "cell_type": "code",
   "execution_count": 39,
   "metadata": {
    "execution": {
     "iopub.execute_input": "2025-04-19T08:46:45.455364Z",
     "iopub.status.busy": "2025-04-19T08:46:45.455108Z",
     "iopub.status.idle": "2025-04-19T08:46:45.464609Z",
     "shell.execute_reply": "2025-04-19T08:46:45.464078Z",
     "shell.execute_reply.started": "2025-04-19T08:46:45.455343Z"
    },
    "trusted": true
   },
   "outputs": [],
   "source": [
    "class ResidualBlock(nn.Module):\n",
    "  def __init__(self, hidden_size):\n",
    "    super().__init__()\n",
    "    self.fc_layer = nn.Sequential(\n",
    "        nn.Linear(in_features=hidden_size, out_features=hidden_size),\n",
    "        nn.BatchNorm1d(hidden_size),\n",
    "        nn.ReLU(),\n",
    "    )\n",
    "  def forward(self, X):\n",
    "    return X + self.fc_layer(X)\n",
    "\n",
    "class ResidualNetwork(nn.Module):\n",
    "    def __init__(self, input_size, hidden_size, n_layers):\n",
    "      super().__init__()\n",
    "      layers = [nn.Linear(input_size, hidden_size), nn.BatchNorm1d(hidden_size), nn.ReLU()]\n",
    "      for i in range(n_layers):\n",
    "        layers.append(ResidualBlock(hidden_size))\n",
    "      layers.append(nn.Linear(hidden_size, 1))\n",
    "\n",
    "      self.fc_layer = nn.Sequential(*layers)\n",
    "\n",
    "\n",
    "    def forward(self, X):\n",
    "      return self.fc_layer(X)"
   ]
  },
  {
   "cell_type": "markdown",
   "metadata": {},
   "source": [
    "#### Hyperparameters Tunning"
   ]
  },
  {
   "cell_type": "markdown",
   "metadata": {},
   "source": [
    "Hyperparameters tunning for ResidualNetwork, including:\n",
    "+ `lr` : Learning rate, float value from 0.00001 to 0.01\n",
    "+ `hidden_size` : Number of neurons in each layer of the model, value range from 16, 32, 64 to 128\n",
    "+ `n_layers` : Number of residual block, the more the deeper model.\n",
    "+ `weight_decay` : L2 regularization strength; discourages large weights. Float value from 0.000001 to 0.01\n",
    "+ `optimizer` : Trial between SGD, Adam, AdamW, are popular optimizer in deep learning\n",
    "+ `loss function` : Between MAE or MSE\n",
    "\n",
    "There are 15 trials in total, each trial will run through the hypertune dataset for 5 epochs to find the best params dict"
   ]
  },
  {
   "cell_type": "code",
   "execution_count": 40,
   "metadata": {
    "execution": {
     "iopub.execute_input": "2025-04-19T08:46:45.465544Z",
     "iopub.status.busy": "2025-04-19T08:46:45.465310Z",
     "iopub.status.idle": "2025-04-19T08:46:45.486541Z",
     "shell.execute_reply": "2025-04-19T08:46:45.485971Z",
     "shell.execute_reply.started": "2025-04-19T08:46:45.465529Z"
    },
    "trusted": true
   },
   "outputs": [],
   "source": [
    "# def objective(trial):\n",
    "#     lr = trial.suggest_float(\"lr\", 1e-5, 1e-2, log=True)\n",
    "#     hidden_size = trial.suggest_categorical(\"hidden_size\", [16, 32, 64, 128])\n",
    "#     n_layers = trial.suggest_int(\"n_layers\", 1, 10)\n",
    "#     weight_decay = trial.suggest_float(\"weight_decay\", 1e-6, 1e-2, log=True)\n",
    "\n",
    "#     optimizer_name = trial.suggest_categorical(\"optimizer\", [\"Adam\", \"AdamW\", \"SGD\"])\n",
    "#     loss_name = trial.suggest_categorical(\"loss_function\", ['MSE', 'MAE'])\n",
    "\n",
    "#     model = ResidualNetwork(input_size=INPUT_SIZE, hidden_size=hidden_size, n_layers=n_layers).to(DEVICE)\n",
    "\n",
    "#     if loss_name == 'MSE':\n",
    "#         loss_fn = nn.MSELoss()\n",
    "#     else:\n",
    "#         loss_fn = nn.L1Loss()\n",
    "\n",
    "#     if optimizer_name == \"Adam\":\n",
    "#         optimizer = torch.optim.Adam(model.parameters(), lr=lr, weight_decay=weight_decay)\n",
    "#     elif optimizer_name == 'AdamW':\n",
    "#         optimizer = torch.optim.AdamW(model.parameters(), lr=lr, weight_decay=weight_decay)\n",
    "#     else:\n",
    "#         optimizer = torch.optim.SGD(model.parameters(), lr=lr, weight_decay=weight_decay)\n",
    "\n",
    "#     scheduler = torch.optim.lr_scheduler.ReduceLROnPlateau(optimizer, mode='min', factor=0.1, patience=5)\n",
    "\n",
    "#     metrics = train_model(\n",
    "#         model=model,\n",
    "#         train_loader=tune_loader,\n",
    "#         test_loader=val_optuna,\n",
    "#         loss_fn=loss_fn,\n",
    "#         optimizer=optimizer,\n",
    "#         device=DEVICE,\n",
    "#         scheduler=scheduler,\n",
    "#         epochs=5,\n",
    "#         val_loader=None,\n",
    "#         log_period=None\n",
    "#     )\n",
    "\n",
    "#     final_mae = metrics['test_mae'][-1]\n",
    "#     return final_mae\n",
    "\n",
    "\n",
    "# study = optuna.create_study(direction=\"minimize\")\n",
    "# study.optimize(objective, n_trials=15)\n",
    "\n",
    "# print(\"Best trial:\")\n",
    "# trial = study.best_trial\n",
    "# print(f\"  Value (MAE): {trial.value}\")\n",
    "# print(\"  Params: \")\n",
    "# for key, value in trial.params.items():\n",
    "#     print(f\"    {key}: {value}\")"
   ]
  },
  {
   "cell_type": "markdown",
   "metadata": {},
   "source": [
    "Best parameters after optuna"
   ]
  },
  {
   "cell_type": "code",
   "execution_count": 41,
   "metadata": {
    "execution": {
     "iopub.execute_input": "2025-04-19T08:46:45.487511Z",
     "iopub.status.busy": "2025-04-19T08:46:45.487296Z",
     "iopub.status.idle": "2025-04-19T08:46:45.514935Z",
     "shell.execute_reply": "2025-04-19T08:46:45.514210Z",
     "shell.execute_reply.started": "2025-04-19T08:46:45.487496Z"
    },
    "trusted": true
   },
   "outputs": [],
   "source": [
    "best_params = {'lr': 7.565922798900313e-05,\n",
    " 'hidden_size': 64,\n",
    " 'n_layers': 7,\n",
    " 'weight_decay': 3.145502891757865e-05,\n",
    " 'optimizer': 'Adam',\n",
    " 'loss_function': 'MAE'}"
   ]
  },
  {
   "cell_type": "markdown",
   "metadata": {},
   "source": [
    "#### Model Summary"
   ]
  },
  {
   "cell_type": "markdown",
   "metadata": {},
   "source": [
    "Call a model instance and setup loss function, optimizer"
   ]
  },
  {
   "cell_type": "code",
   "execution_count": 42,
   "metadata": {
    "execution": {
     "iopub.execute_input": "2025-04-19T08:46:45.516151Z",
     "iopub.status.busy": "2025-04-19T08:46:45.515904Z",
     "iopub.status.idle": "2025-04-19T08:46:45.540318Z",
     "shell.execute_reply": "2025-04-19T08:46:45.539748Z",
     "shell.execute_reply.started": "2025-04-19T08:46:45.516127Z"
    },
    "trusted": true
   },
   "outputs": [
    {
     "data": {
      "text/plain": [
       "ResidualNetwork(\n",
       "  (fc_layer): Sequential(\n",
       "    (0): Linear(in_features=15, out_features=64, bias=True)\n",
       "    (1): BatchNorm1d(64, eps=1e-05, momentum=0.1, affine=True, track_running_stats=True)\n",
       "    (2): ReLU()\n",
       "    (3): ResidualBlock(\n",
       "      (fc_layer): Sequential(\n",
       "        (0): Linear(in_features=64, out_features=64, bias=True)\n",
       "        (1): BatchNorm1d(64, eps=1e-05, momentum=0.1, affine=True, track_running_stats=True)\n",
       "        (2): ReLU()\n",
       "      )\n",
       "    )\n",
       "    (4): ResidualBlock(\n",
       "      (fc_layer): Sequential(\n",
       "        (0): Linear(in_features=64, out_features=64, bias=True)\n",
       "        (1): BatchNorm1d(64, eps=1e-05, momentum=0.1, affine=True, track_running_stats=True)\n",
       "        (2): ReLU()\n",
       "      )\n",
       "    )\n",
       "    (5): ResidualBlock(\n",
       "      (fc_layer): Sequential(\n",
       "        (0): Linear(in_features=64, out_features=64, bias=True)\n",
       "        (1): BatchNorm1d(64, eps=1e-05, momentum=0.1, affine=True, track_running_stats=True)\n",
       "        (2): ReLU()\n",
       "      )\n",
       "    )\n",
       "    (6): ResidualBlock(\n",
       "      (fc_layer): Sequential(\n",
       "        (0): Linear(in_features=64, out_features=64, bias=True)\n",
       "        (1): BatchNorm1d(64, eps=1e-05, momentum=0.1, affine=True, track_running_stats=True)\n",
       "        (2): ReLU()\n",
       "      )\n",
       "    )\n",
       "    (7): ResidualBlock(\n",
       "      (fc_layer): Sequential(\n",
       "        (0): Linear(in_features=64, out_features=64, bias=True)\n",
       "        (1): BatchNorm1d(64, eps=1e-05, momentum=0.1, affine=True, track_running_stats=True)\n",
       "        (2): ReLU()\n",
       "      )\n",
       "    )\n",
       "    (8): ResidualBlock(\n",
       "      (fc_layer): Sequential(\n",
       "        (0): Linear(in_features=64, out_features=64, bias=True)\n",
       "        (1): BatchNorm1d(64, eps=1e-05, momentum=0.1, affine=True, track_running_stats=True)\n",
       "        (2): ReLU()\n",
       "      )\n",
       "    )\n",
       "    (9): ResidualBlock(\n",
       "      (fc_layer): Sequential(\n",
       "        (0): Linear(in_features=64, out_features=64, bias=True)\n",
       "        (1): BatchNorm1d(64, eps=1e-05, momentum=0.1, affine=True, track_running_stats=True)\n",
       "        (2): ReLU()\n",
       "      )\n",
       "    )\n",
       "    (10): Linear(in_features=64, out_features=1, bias=True)\n",
       "  )\n",
       ")"
      ]
     },
     "execution_count": 42,
     "metadata": {},
     "output_type": "execute_result"
    }
   ],
   "source": [
    "residual_network = ResidualNetwork(input_size = INPUT_SIZE, hidden_size = 64, n_layers = 7).to(DEVICE)\n",
    "criterion = nn.L1Loss()\n",
    "optimizer = torch.optim.Adam(residual_network.parameters(), lr= 7.565922798900313e-05, weight_decay=3.145502891757865e-05)\n",
    "scheduler = torch.optim.lr_scheduler.ReduceLROnPlateau(optimizer, mode='min', factor=0.1, patience=5)\n",
    "residual_network\n"
   ]
  },
  {
   "cell_type": "markdown",
   "metadata": {},
   "source": [
    "Summary of the third model: 1 input layer, 1 output layer and 7 residual block"
   ]
  },
  {
   "cell_type": "markdown",
   "metadata": {},
   "source": [
    "#### Train The Model"
   ]
  },
  {
   "cell_type": "code",
   "execution_count": 43,
   "metadata": {
    "execution": {
     "iopub.execute_input": "2025-04-19T08:46:45.541664Z",
     "iopub.status.busy": "2025-04-19T08:46:45.541359Z",
     "iopub.status.idle": "2025-04-19T08:59:24.932142Z",
     "shell.execute_reply": "2025-04-19T08:59:24.931186Z",
     "shell.execute_reply.started": "2025-04-19T08:46:45.541647Z"
    },
    "trusted": true
   },
   "outputs": [
    {
     "name": "stdout",
     "output_type": "stream",
     "text": [
      "\n",
      "Epoch 1/10:\n"
     ]
    },
    {
     "name": "stderr",
     "output_type": "stream",
     "text": [
      "Training: 100%|██████████| 7125/7125 [01:03<00:00, 111.47it/s, Loss=0.752, MAE=0.794, MSE=1.26, R2=-0.0399]\n",
      "Testing: 100%|██████████| 1875/1875 [00:11<00:00, 165.87it/s]\n"
     ]
    },
    {
     "name": "stdout",
     "output_type": "stream",
     "text": [
      "MAE : 0.78361 | MSE : 1.22904 | R2 : -0.02240\n",
      "\n",
      "Epoch 2/10:\n"
     ]
    },
    {
     "name": "stderr",
     "output_type": "stream",
     "text": [
      "Training: 100%|██████████| 7125/7125 [01:04<00:00, 111.27it/s, Loss=0.783, MAE=0.787, MSE=1.23, R2=-0.0119]\n",
      "Testing: 100%|██████████| 1875/1875 [00:11<00:00, 163.80it/s]\n"
     ]
    },
    {
     "name": "stdout",
     "output_type": "stream",
     "text": [
      "MAE : 0.78328 | MSE : 1.21795 | R2 : -0.01317\n",
      "\n",
      "Epoch 3/10:\n"
     ]
    },
    {
     "name": "stderr",
     "output_type": "stream",
     "text": [
      "Training: 100%|██████████| 7125/7125 [01:03<00:00, 111.36it/s, Loss=0.688, MAE=0.791, MSE=1.22, R2=-0.00777]\n",
      "Testing: 100%|██████████| 1875/1875 [00:11<00:00, 161.16it/s]\n"
     ]
    },
    {
     "name": "stdout",
     "output_type": "stream",
     "text": [
      "MAE : 0.78479 | MSE : 1.20431 | R2 : -0.00182\n",
      "\n",
      "Epoch 4/10:\n"
     ]
    },
    {
     "name": "stderr",
     "output_type": "stream",
     "text": [
      "Training: 100%|██████████| 7125/7125 [01:03<00:00, 111.42it/s, Loss=0.696, MAE=0.781, MSE=1.23, R2=-0.0166]\n",
      "Testing: 100%|██████████| 1875/1875 [00:11<00:00, 165.67it/s]\n"
     ]
    },
    {
     "name": "stdout",
     "output_type": "stream",
     "text": [
      "MAE : 0.78252 | MSE : 1.19925 | R2 : 0.00239\n",
      "\n",
      "Epoch 5/10:\n"
     ]
    },
    {
     "name": "stderr",
     "output_type": "stream",
     "text": [
      "Training: 100%|██████████| 7125/7125 [01:04<00:00, 110.93it/s, Loss=0.876, MAE=0.779, MSE=1.22, R2=-0.00503]\n",
      "Testing: 100%|██████████| 1875/1875 [00:11<00:00, 159.12it/s]\n"
     ]
    },
    {
     "name": "stdout",
     "output_type": "stream",
     "text": [
      "MAE : 0.78510 | MSE : 1.20973 | R2 : -0.00633\n",
      "\n",
      "Epoch 6/10:\n"
     ]
    },
    {
     "name": "stderr",
     "output_type": "stream",
     "text": [
      "Training: 100%|██████████| 7125/7125 [01:04<00:00, 110.56it/s, Loss=0.776, MAE=0.787, MSE=1.21, R2=0.00204] \n",
      "Testing: 100%|██████████| 1875/1875 [00:11<00:00, 157.42it/s]\n"
     ]
    },
    {
     "name": "stdout",
     "output_type": "stream",
     "text": [
      "MAE : 0.77464 | MSE : 1.20012 | R2 : 0.00166\n",
      "\n",
      "Epoch 7/10:\n"
     ]
    },
    {
     "name": "stderr",
     "output_type": "stream",
     "text": [
      "Training: 100%|██████████| 7125/7125 [01:04<00:00, 110.23it/s, Loss=0.788, MAE=0.806, MSE=1.24, R2=-0.0222] \n",
      "Testing: 100%|██████████| 1875/1875 [00:11<00:00, 166.82it/s]\n"
     ]
    },
    {
     "name": "stdout",
     "output_type": "stream",
     "text": [
      "MAE : 0.77736 | MSE : 1.20822 | R2 : -0.00507\n",
      "\n",
      "Epoch 8/10:\n"
     ]
    },
    {
     "name": "stderr",
     "output_type": "stream",
     "text": [
      "Training: 100%|██████████| 7125/7125 [01:05<00:00, 109.58it/s, Loss=0.749, MAE=0.774, MSE=1.21, R2=-0.000515]\n",
      "Testing: 100%|██████████| 1875/1875 [00:11<00:00, 158.81it/s]\n"
     ]
    },
    {
     "name": "stdout",
     "output_type": "stream",
     "text": [
      "MAE : 0.76970 | MSE : 1.19351 | R2 : 0.00716\n",
      "\n",
      "Epoch 9/10:\n"
     ]
    },
    {
     "name": "stderr",
     "output_type": "stream",
     "text": [
      "Training: 100%|██████████| 7125/7125 [01:04<00:00, 110.33it/s, Loss=0.722, MAE=0.773, MSE=1.21, R2=0.00392]\n",
      "Testing: 100%|██████████| 1875/1875 [00:11<00:00, 163.29it/s]\n"
     ]
    },
    {
     "name": "stdout",
     "output_type": "stream",
     "text": [
      "MAE : 0.76970 | MSE : 1.19435 | R2 : 0.00646\n",
      "\n",
      "Epoch 10/10:\n"
     ]
    },
    {
     "name": "stderr",
     "output_type": "stream",
     "text": [
      "Training: 100%|██████████| 7125/7125 [01:05<00:00, 109.34it/s, Loss=0.72, MAE=0.773, MSE=1.21, R2=0.00192] \n",
      "Testing: 100%|██████████| 1875/1875 [00:11<00:00, 165.75it/s]"
     ]
    },
    {
     "name": "stdout",
     "output_type": "stream",
     "text": [
      "MAE : 0.76972 | MSE : 1.19855 | R2 : 0.00297\n"
     ]
    },
    {
     "name": "stderr",
     "output_type": "stream",
     "text": [
      "\n"
     ]
    }
   ],
   "source": [
    "start_time = time.time()\n",
    "metrics = train_model(\n",
    "        model=residual_network,\n",
    "        train_loader=train_loader,\n",
    "        test_loader=test_loader,\n",
    "        loss_fn=criterion,\n",
    "        optimizer=optimizer,\n",
    "        scheduler=scheduler,\n",
    "        epochs=N_EPOCH,\n",
    "        device = DEVICE,\n",
    "        val_loader=val_loader,\n",
    "        log_period=2000\n",
    "    )\n",
    "end_time = time.time()\n",
    "training_time = end_time - start_time\n"
   ]
  },
  {
   "cell_type": "markdown",
   "metadata": {},
   "source": [
    "#### Model Performance"
   ]
  },
  {
   "cell_type": "markdown",
   "metadata": {},
   "source": [
    "Evaluate the training process"
   ]
  },
  {
   "cell_type": "code",
   "execution_count": 44,
   "metadata": {
    "execution": {
     "iopub.execute_input": "2025-04-19T08:59:24.933514Z",
     "iopub.status.busy": "2025-04-19T08:59:24.933268Z",
     "iopub.status.idle": "2025-04-19T08:59:25.465055Z",
     "shell.execute_reply": "2025-04-19T08:59:25.464344Z",
     "shell.execute_reply.started": "2025-04-19T08:59:24.933493Z"
    },
    "trusted": true
   },
   "outputs": [
    {
     "data": {
      "image/png": "[encoded data removed]",
      "text/plain": [
       "<Figure size 2000x500 with 3 Axes>"
      ]
     },
     "metadata": {},
     "output_type": "display_data"
    }
   ],
   "source": [
    "metrics_df = pd.DataFrame(metrics)\n",
    "metrics_df['epochs'] = np.arange(1,N_EPOCH+1)\n",
    "\n",
    "fig, axs = plt.subplots(1, 3, figsize=(20, 5), sharex=True)\n",
    "\n",
    "axs[0].plot(metrics_df['epochs'], metrics_df['train_mae'], marker='o', label='Train MAE')\n",
    "axs[0].plot(metrics_df['epochs'], metrics_df['test_mae'], marker='o', label='Test MAE')\n",
    "axs[2].set_xlabel('Epochs')\n",
    "axs[0].set_ylabel('MAE')\n",
    "axs[0].legend()\n",
    "axs[0].set_title('MAE per Epoch')\n",
    "\n",
    "axs[1].plot(metrics_df['epochs'], metrics_df['train_mse'], marker='o', label='Train MSE')\n",
    "axs[1].plot(metrics_df['epochs'], metrics_df['test_mse'], marker='o', label='Test MSE')\n",
    "axs[2].set_xlabel('Epochs')\n",
    "axs[1].set_ylabel('MSE')\n",
    "axs[1].legend()\n",
    "axs[1].set_title('MSE per Epoch')\n",
    "\n",
    "axs[2].plot(metrics_df['epochs'], metrics_df['train_r2'], marker='o', label='Train R²')\n",
    "axs[2].plot(metrics_df['epochs'], metrics_df['test_r2'], marker='o', label='Test R²')\n",
    "axs[2].set_xlabel('Epochs')\n",
    "axs[2].set_ylabel('R² Score')\n",
    "axs[2].legend()\n",
    "axs[2].set_title('R² Score per Epoch')\n",
    "\n",
    "plt.tight_layout()\n",
    "plt.show()"
   ]
  },
  {
   "cell_type": "markdown",
   "metadata": {},
   "source": [
    "Key observation :\n",
    "+ MAE:\n",
    "    + Very smooth on the train data, occasional spikes on the test data, but show a clear down trend of loss.\n",
    "    + The model is generalizing well without significant overfitting.\n",
    "    + Spike on test data also reflect train data (increasing and decreasing loss).\n",
    "+ MSE:\n",
    "    + Same performace as MAE.\n",
    "    + Spikes in test MSE (decreasing or increasing error) mirror those in MAE.\n",
    "+ R2:\n",
    "    + R2 show a clear up trend on bot train and test data\n",
    "    + Train and test R2 are improving steadily, crossing above 0 in several epochs.\n",
    "\n",
    "In general : This ResidualNetwork is the best-performing model so far — smoother, more stable, and generalizes well."
   ]
  },
  {
   "cell_type": "markdown",
   "metadata": {},
   "source": [
    "#### Make Prediction"
   ]
  },
  {
   "cell_type": "markdown",
   "metadata": {},
   "source": [
    "Make prediction and calculate metrics"
   ]
  },
  {
   "cell_type": "code",
   "execution_count": 45,
   "metadata": {
    "execution": {
     "iopub.execute_input": "2025-04-19T08:59:25.466069Z",
     "iopub.status.busy": "2025-04-19T08:59:25.465790Z",
     "iopub.status.idle": "2025-04-19T08:59:37.115514Z",
     "shell.execute_reply": "2025-04-19T08:59:37.114749Z",
     "shell.execute_reply.started": "2025-04-19T08:59:25.466050Z"
    },
    "trusted": true
   },
   "outputs": [
    {
     "data": {
      "text/plain": [
       "240000"
      ]
     },
     "execution_count": 45,
     "metadata": {},
     "output_type": "execute_result"
    }
   ],
   "source": [
    "residual_network.eval()\n",
    "y_true_log, y_pred_log = make_prediction_loader(residual_network, test_loader, DEVICE)\n",
    "y_true = np.expm1(y_true_log)\n",
    "y_pred = np.expm1(y_pred_log)\n",
    "len(y_pred)"
   ]
  },
  {
   "cell_type": "code",
   "execution_count": 46,
   "metadata": {
    "execution": {
     "iopub.execute_input": "2025-04-19T08:59:37.116774Z",
     "iopub.status.busy": "2025-04-19T08:59:37.116506Z",
     "iopub.status.idle": "2025-04-19T08:59:37.130971Z",
     "shell.execute_reply": "2025-04-19T08:59:37.130468Z",
     "shell.execute_reply.started": "2025-04-19T08:59:37.116751Z"
    },
    "trusted": true
   },
   "outputs": [],
   "source": [
    "mae = mean_absolute_error(y_true, y_pred)\n",
    "mse = mean_squared_error(y_true, y_pred)\n",
    "r2 = r2_score(y_true, y_pred)\n",
    "rmsle = root_mean_squared_log_error(y_true, y_pred)\n",
    "\n",
    "models_performance['mae'].append(mae)\n",
    "models_performance['mse'].append(mse)\n",
    "models_performance['r2'].append(r2)\n",
    "models_performance['rmsle'].append(rmsle)\n",
    "models_performance['train_time'].append(training_time)\n",
    "models_performance['model'].append('Residual Network')"
   ]
  },
  {
   "cell_type": "markdown",
   "metadata": {},
   "source": [
    "### TabNet Regressor"
   ]
  },
  {
   "cell_type": "markdown",
   "metadata": {},
   "source": [
    "Attentive Interpretable Tabular Learning. Neural network architecture developed by Google AI, designed specifically for tabular data, module `TabNetRegressor` handle simple and and multi-task regression problems\n",
    "\n",
    "Reference: \n",
    "+ https://dreamquark-ai.github.io/tabnet/generated_docs/README.html# 12/4/2025\n",
    "+ https://www.kaggle.com/code/carlmcbrideellis/tabnet-a-very-simple-regression-example 12/4/2025\n"
   ]
  },
  {
   "cell_type": "markdown",
   "metadata": {},
   "source": [
    "#### Hyperparameters Tunning"
   ]
  },
  {
   "cell_type": "markdown",
   "metadata": {},
   "source": [
    "Hyperparameters tunning for TabNetRegressor, including:\n",
    "+ `n_steps` : The number of decision steps in the TabNet model. Each step allows the model to learn different representations of the data. \n",
    "+ `gamma` : The gamma parameter for the attention mechanism. It controls how diverse each decision step is. A higher value encourages each step to focus on different features (stronger regularization).\n",
    "+ `lambda_sparse` : The coefficient for sparse regularization. This controls how strongly the model is encouraged to attend to only the most important features. Smaller values apply less regularization.\n",
    "+ `weight_decay` : L2 regularization strength; discourages large weights. Float value from 0.000001 to 0.01\n",
    "+ `optimizer` : Trial between SGD, Adam, AdamW, are popular optimizer in deep learning\n",
    "+ `lr` : Learning rate, float value from 0.00001 to 0.01\n",
    "\n",
    "There are 15 trials in total, each trial will run through the hypertune dataset for 5 epochs to find the best params dict"
   ]
  },
  {
   "cell_type": "code",
   "execution_count": 47,
   "metadata": {
    "execution": {
     "iopub.execute_input": "2025-04-19T08:59:37.131971Z",
     "iopub.status.busy": "2025-04-19T08:59:37.131702Z",
     "iopub.status.idle": "2025-04-19T08:59:37.154372Z",
     "shell.execute_reply": "2025-04-19T08:59:37.153785Z",
     "shell.execute_reply.started": "2025-04-19T08:59:37.131948Z"
    },
    "trusted": true
   },
   "outputs": [],
   "source": [
    "# def objective(trial):\n",
    "#     n_steps = trial.suggest_int(\"n_steps\", 3, 10)\n",
    "#     gamma = trial.suggest_float(\"gamma\", 1.0, 2.0)\n",
    "#     lambda_sparse = trial.suggest_float(\"lambda_sparse\", 1e-6, 1e-3, log=True)\n",
    "#     optimizer_name = trial.suggest_categorical(\"optimizer\", [\"adam\", \"adamw\", \"sgd\"])\n",
    "#     lr = trial.suggest_float(\"lr\", 1e-4, 1e-2, log=True)\n",
    "\n",
    "#     model = TabNetRegressor(\n",
    "#         n_steps=n_steps,\n",
    "#         gamma=gamma,\n",
    "#         lambda_sparse=lambda_sparse,\n",
    "#         optimizer_fn={\"adam\": torch.optim.Adam, \n",
    "#                       \"adamw\": torch.optim.AdamW, \n",
    "#                       \"sgd\": torch.optim.SGD}[optimizer_name],\n",
    "#         optimizer_params=dict(lr=lr),\n",
    "#         device_name=DEVICE\n",
    "#     )\n",
    "\n",
    "#     model.fit(\n",
    "#         X_train=X_optuna.values, y_train=y_optuna.values.reshape(-1,1),\n",
    "#         eval_set=[(X_val_optuna.values, y_val_optuna.values.reshape(-1,1))],\n",
    "#         eval_metric=['mae','mse','rmsle'],\n",
    "#         max_epochs=5,\n",
    "#         patience=5,\n",
    "#         batch_size=128,\n",
    "#         virtual_batch_size=128,\n",
    "#         num_workers=0,\n",
    "#         drop_last=False,\n",
    "#     )\n",
    "\n",
    "#     preds = model.predict(X_val.values)\n",
    "#     mae = mean_absolute_error(y_val, preds)\n",
    "#     return mae\n",
    "\n",
    "# study = optuna.create_study(direction=\"minimize\")\n",
    "# study.optimize(objective, n_trials=15)\n",
    "\n",
    "# print(\"Best trial:\")\n",
    "# trial = study.best_trial\n",
    "# print(f\"  Value (MAE): {trial.value}\")\n",
    "# print(\"  Params: \")\n",
    "# for key, value in trial.params.items():\n",
    "#     print(f\"    {key}: {value}\")"
   ]
  },
  {
   "cell_type": "markdown",
   "metadata": {},
   "source": [
    "Best parameters after optuna"
   ]
  },
  {
   "cell_type": "code",
   "execution_count": 48,
   "metadata": {
    "execution": {
     "iopub.execute_input": "2025-04-19T08:59:37.155445Z",
     "iopub.status.busy": "2025-04-19T08:59:37.155192Z",
     "iopub.status.idle": "2025-04-19T08:59:37.176723Z",
     "shell.execute_reply": "2025-04-19T08:59:37.176179Z",
     "shell.execute_reply.started": "2025-04-19T08:59:37.155422Z"
    },
    "trusted": true
   },
   "outputs": [],
   "source": [
    "best_params = {\n",
    " 'n_steps': 3,\n",
    " 'gamma': 1.8902737866171124,\n",
    " 'lambda_sparse': 0.00019309404989365227,\n",
    " 'optimizer': 'adam',\n",
    " 'lr': 0.001061408877556731}"
   ]
  },
  {
   "cell_type": "markdown",
   "metadata": {},
   "source": [
    "#### Model Summary"
   ]
  },
  {
   "cell_type": "markdown",
   "metadata": {},
   "source": [
    "Call and setup model instance"
   ]
  },
  {
   "cell_type": "code",
   "execution_count": 49,
   "metadata": {
    "execution": {
     "iopub.execute_input": "2025-04-19T08:59:37.177767Z",
     "iopub.status.busy": "2025-04-19T08:59:37.177511Z",
     "iopub.status.idle": "2025-04-19T08:59:37.204242Z",
     "shell.execute_reply": "2025-04-19T08:59:37.203576Z",
     "shell.execute_reply.started": "2025-04-19T08:59:37.177744Z"
    },
    "trusted": true
   },
   "outputs": [
    {
     "name": "stderr",
     "output_type": "stream",
     "text": [
      "/usr/local/lib/python3.11/dist-packages/pytorch_tabnet/abstract_model.py:82: UserWarning: Device used : cuda\n",
      "  warnings.warn(f\"Device used : {self.device}\")\n"
     ]
    },
    {
     "data": {
      "text/html": [
       "<style>#sk-container-id-1 {color: black;background-color: white;}#sk-container-id-1 pre{padding: 0;}#sk-container-id-1 div.sk-toggleable {background-color: white;}#sk-container-id-1 label.sk-toggleable__label {cursor: pointer;display: block;width: 100%;margin-bottom: 0;padding: 0.3em;box-sizing: border-box;text-align: center;}#sk-container-id-1 label.sk-toggleable__label-arrow:before {content: \"▸\";float: left;margin-right: 0.25em;color: #696969;}#sk-container-id-1 label.sk-toggleable__label-arrow:hover:before {color: black;}#sk-container-id-1 div.sk-estimator:hover label.sk-toggleable__label-arrow:before {color: black;}#sk-container-id-1 div.sk-toggleable__content {max-height: 0;max-width: 0;overflow: hidden;text-align: left;background-color: #f0f8ff;}#sk-container-id-1 div.sk-toggleable__content pre {margin: 0.2em;color: black;border-radius: 0.25em;background-color: #f0f8ff;}#sk-container-id-1 input.sk-toggleable__control:checked~div.sk-toggleable__content {max-height: 200px;max-width: 100%;overflow: auto;}#sk-container-id-1 input.sk-toggleable__control:checked~label.sk-toggleable__label-arrow:before {content: \"▾\";}#sk-container-id-1 div.sk-estimator input.sk-toggleable__control:checked~label.sk-toggleable__label {background-color: #d4ebff;}#sk-container-id-1 div.sk-label input.sk-toggleable__control:checked~label.sk-toggleable__label {background-color: #d4ebff;}#sk-container-id-1 input.sk-hidden--visually {border: 0;clip: rect(1px 1px 1px 1px);clip: rect(1px, 1px, 1px, 1px);height: 1px;margin: -1px;overflow: hidden;padding: 0;position: absolute;width: 1px;}#sk-container-id-1 div.sk-estimator {font-family: monospace;background-color: #f0f8ff;border: 1px dotted black;border-radius: 0.25em;box-sizing: border-box;margin-bottom: 0.5em;}#sk-container-id-1 div.sk-estimator:hover {background-color: #d4ebff;}#sk-container-id-1 div.sk-parallel-item::after {content: \"\";width: 100%;border-bottom: 1px solid gray;flex-grow: 1;}#sk-container-id-1 div.sk-label:hover label.sk-toggleable__label {background-color: #d4ebff;}#sk-container-id-1 div.sk-serial::before {content: \"\";position: absolute;border-left: 1px solid gray;box-sizing: border-box;top: 0;bottom: 0;left: 50%;z-index: 0;}#sk-container-id-1 div.sk-serial {display: flex;flex-direction: column;align-items: center;background-color: white;padding-right: 0.2em;padding-left: 0.2em;position: relative;}#sk-container-id-1 div.sk-item {position: relative;z-index: 1;}#sk-container-id-1 div.sk-parallel {display: flex;align-items: stretch;justify-content: center;background-color: white;position: relative;}#sk-container-id-1 div.sk-item::before, #sk-container-id-1 div.sk-parallel-item::before {content: \"\";position: absolute;border-left: 1px solid gray;box-sizing: border-box;top: 0;bottom: 0;left: 50%;z-index: -1;}#sk-container-id-1 div.sk-parallel-item {display: flex;flex-direction: column;z-index: 1;position: relative;background-color: white;}#sk-container-id-1 div.sk-parallel-item:first-child::after {align-self: flex-end;width: 50%;}#sk-container-id-1 div.sk-parallel-item:last-child::after {align-self: flex-start;width: 50%;}#sk-container-id-1 div.sk-parallel-item:only-child::after {width: 0;}#sk-container-id-1 div.sk-dashed-wrapped {border: 1px dashed gray;margin: 0 0.4em 0.5em 0.4em;box-sizing: border-box;padding-bottom: 0.4em;background-color: white;}#sk-container-id-1 div.sk-label label {font-family: monospace;font-weight: bold;display: inline-block;line-height: 1.2em;}#sk-container-id-1 div.sk-label-container {text-align: center;}#sk-container-id-1 div.sk-container {/* jupyter's `normalize.less` sets `[hidden] { display: none; }` but bootstrap.min.css set `[hidden] { display: none !important; }` so we also need the `!important` here to be able to override the default hidden behavior on the sphinx rendered scikit-learn.org. See: https://github.com/scikit-learn/scikit-learn/issues/21755 */display: inline-block !important;position: relative;}#sk-container-id-1 div.sk-text-repr-fallback {display: none;}</style><div id=\"sk-container-id-1\" class=\"sk-top-container\"><div class=\"sk-text-repr-fallback\"><pre>TabNetRegressor(n_d=8, n_a=8, n_steps=3, gamma=1.8902737866171124, cat_idxs=[], cat_dims=[], cat_emb_dim=[], n_independent=2, n_shared=2, epsilon=1e-15, momentum=0.02, lambda_sparse=0.00019309404989365227, seed=0, clip_value=1, verbose=1, optimizer_fn=&lt;class &#x27;torch.optim.adam.Adam&#x27;&gt;, optimizer_params={&#x27;lr&#x27;: 0.001061408877556731}, scheduler_fn=None, scheduler_params={}, mask_type=&#x27;sparsemax&#x27;, input_dim=None, output_dim=None, device_name=&#x27;cuda&#x27;, n_shared_decoder=1, n_indep_decoder=1, grouped_features=[])</pre><b>In a Jupyter environment, please rerun this cell to show the HTML representation or trust the notebook. <br />On GitHub, the HTML representation is unable to render, please try loading this page with nbviewer.org.</b></div><div class=\"sk-container\" hidden><div class=\"sk-item\"><div class=\"sk-estimator sk-toggleable\"><input class=\"sk-toggleable__control sk-hidden--visually\" id=\"sk-estimator-id-1\" type=\"checkbox\" checked><label for=\"sk-estimator-id-1\" class=\"sk-toggleable__label sk-toggleable__label-arrow\">TabNetRegressor</label><div class=\"sk-toggleable__content\"><pre>TabNetRegressor(n_d=8, n_a=8, n_steps=3, gamma=1.8902737866171124, cat_idxs=[], cat_dims=[], cat_emb_dim=[], n_independent=2, n_shared=2, epsilon=1e-15, momentum=0.02, lambda_sparse=0.00019309404989365227, seed=0, clip_value=1, verbose=1, optimizer_fn=&lt;class &#x27;torch.optim.adam.Adam&#x27;&gt;, optimizer_params={&#x27;lr&#x27;: 0.001061408877556731}, scheduler_fn=None, scheduler_params={}, mask_type=&#x27;sparsemax&#x27;, input_dim=None, output_dim=None, device_name=&#x27;cuda&#x27;, n_shared_decoder=1, n_indep_decoder=1, grouped_features=[])</pre></div></div></div></div></div>"
      ],
      "text/plain": [
       "TabNetRegressor(n_d=8, n_a=8, n_steps=3, gamma=1.8902737866171124, cat_idxs=[], cat_dims=[], cat_emb_dim=[], n_independent=2, n_shared=2, epsilon=1e-15, momentum=0.02, lambda_sparse=0.00019309404989365227, seed=0, clip_value=1, verbose=1, optimizer_fn=<class 'torch.optim.adam.Adam'>, optimizer_params={'lr': 0.001061408877556731}, scheduler_fn=None, scheduler_params={}, mask_type='sparsemax', input_dim=None, output_dim=None, device_name='cuda', n_shared_decoder=1, n_indep_decoder=1, grouped_features=[])"
      ]
     },
     "execution_count": 49,
     "metadata": {},
     "output_type": "execute_result"
    }
   ],
   "source": [
    "tabnet_model = TabNetRegressor(\n",
    "    gamma=1.8902737866171124,\n",
    "    lambda_sparse=0.00019309404989365227,\n",
    "    optimizer_fn=torch.optim.Adam,\n",
    "    optimizer_params=dict(lr=0.001061408877556731),\n",
    "    device_name=DEVICE\n",
    ")\n",
    "tabnet_model"
   ]
  },
  {
   "cell_type": "markdown",
   "metadata": {},
   "source": [
    "Parameters:\n",
    "+ `gamma` : This controls the feature selection sharpness in the TabNet architecture. A higher `gamma` encourages the model to make more decisive feature selection\n",
    "+ `lambda_sparse`: This is the sparsity regularization coefficient. It encourages the model to use fewer features by penalizing the use of too many.\n",
    "+ `optimizer` and `optimizer_params` : This sets the optimizer function and learning rate. Adam is a popular choice in deep learning.\n",
    "+ `device_name` : current device (cpu or gpu)"
   ]
  },
  {
   "cell_type": "markdown",
   "metadata": {},
   "source": [
    "#### Train The Model"
   ]
  },
  {
   "cell_type": "code",
   "execution_count": 50,
   "metadata": {
    "execution": {
     "iopub.execute_input": "2025-04-19T08:59:37.205292Z",
     "iopub.status.busy": "2025-04-19T08:59:37.205073Z",
     "iopub.status.idle": "2025-04-19T09:17:54.221840Z",
     "shell.execute_reply": "2025-04-19T09:17:54.221109Z",
     "shell.execute_reply.started": "2025-04-19T08:59:37.205277Z"
    },
    "trusted": true
   },
   "outputs": [
    {
     "name": "stdout",
     "output_type": "stream",
     "text": [
      "epoch 0  | loss: 2.18275 | val_0_mae: 0.80347 | val_0_mse: 1.2223  | val_0_rmse: 1.10558 | val_0_rmsle: 0.16708 |  0:01:28s\n",
      "epoch 1  | loss: 1.20885 | val_0_mae: 0.80871 | val_0_mse: 1.2149  | val_0_rmse: 1.10223 | val_0_rmsle: 0.16621 |  0:02:56s\n",
      "epoch 2  | loss: 1.20464 | val_0_mae: 0.80055 | val_0_mse: 1.20942 | val_0_rmse: 1.09974 | val_0_rmsle: 0.16619 |  0:04:24s\n",
      "epoch 3  | loss: 1.19988 | val_0_mae: 0.79416 | val_0_mse: 1.20669 | val_0_rmse: 1.09849 | val_0_rmsle: 0.1662  |  0:05:52s\n",
      "epoch 4  | loss: 1.19106 | val_0_mae: 0.79366 | val_0_mse: 1.19385 | val_0_rmse: 1.09263 | val_0_rmsle: 0.16503 |  0:07:20s\n",
      "epoch 5  | loss: 1.18521 | val_0_mae: 0.78566 | val_0_mse: 1.18797 | val_0_rmse: 1.08994 | val_0_rmsle: 0.16477 |  0:08:48s\n",
      "epoch 6  | loss: 1.18062 | val_0_mae: 0.78681 | val_0_mse: 1.18972 | val_0_rmse: 1.09074 | val_0_rmsle: 0.16497 |  0:10:16s\n",
      "epoch 7  | loss: 1.17825 | val_0_mae: 0.78449 | val_0_mse: 1.18348 | val_0_rmse: 1.08788 | val_0_rmsle: 0.16444 |  0:11:44s\n",
      "epoch 8  | loss: 1.17527 | val_0_mae: 0.7824  | val_0_mse: 1.17799 | val_0_rmse: 1.08535 | val_0_rmsle: 0.1639  |  0:13:12s\n",
      "epoch 9  | loss: 1.17341 | val_0_mae: 0.77622 | val_0_mse: 1.17999 | val_0_rmse: 1.08627 | val_0_rmsle: 0.16453 |  0:14:40s\n",
      "Stop training because you reached max_epochs = 10 with best_epoch = 8 and best_val_0_rmsle = 0.1639\n"
     ]
    },
    {
     "name": "stderr",
     "output_type": "stream",
     "text": [
      "/usr/local/lib/python3.11/dist-packages/pytorch_tabnet/callbacks.py:172: UserWarning: Best weights from best epoch are automatically used!\n",
      "  warnings.warn(wrn_msg)\n"
     ]
    }
   ],
   "source": [
    "start_time = time.time()\n",
    "tabnet_model.fit(\n",
    "    X_train=X_train.values, y_train=y_train.values.reshape(-1,1),\n",
    "    eval_set=[(X_val.values, y_val.values.reshape(-1,1))],\n",
    "    eval_metric=['mae','mse','rmse', 'rmsle'],\n",
    "    max_epochs=N_EPOCH,\n",
    "    patience=3,\n",
    "    batch_size = 256,\n",
    "    num_workers=4,\n",
    "    drop_last=False,\n",
    ")\n",
    "end_time = time.time()\n",
    "training_time = end_time - start_time"
   ]
  },
  {
   "cell_type": "markdown",
   "metadata": {},
   "source": [
    "#### Make Prediction"
   ]
  },
  {
   "cell_type": "markdown",
   "metadata": {},
   "source": [
    "Make prediction and calculate metrics"
   ]
  },
  {
   "cell_type": "code",
   "execution_count": 51,
   "metadata": {
    "execution": {
     "iopub.execute_input": "2025-04-19T09:17:54.223114Z",
     "iopub.status.busy": "2025-04-19T09:17:54.222869Z",
     "iopub.status.idle": "2025-04-19T09:18:03.938747Z",
     "shell.execute_reply": "2025-04-19T09:18:03.938201Z",
     "shell.execute_reply.started": "2025-04-19T09:17:54.223092Z"
    },
    "trusted": true
   },
   "outputs": [],
   "source": [
    "y_pred = tabnet_model.predict(X_test.values)\n",
    "y_pred = np.expm1(y_pred)\n",
    "y_true = np.expm1(y_test)\n",
    "\n",
    "mae = mean_absolute_error(y_true, y_pred)\n",
    "mse = mean_squared_error(y_true, y_pred)\n",
    "r2 = r2_score(y_true, y_pred)\n",
    "rmsle = root_mean_squared_log_error(y_true, y_pred)\n",
    "\n"
   ]
  },
  {
   "cell_type": "code",
   "execution_count": 52,
   "metadata": {
    "execution": {
     "iopub.execute_input": "2025-04-19T09:18:03.939725Z",
     "iopub.status.busy": "2025-04-19T09:18:03.939501Z",
     "iopub.status.idle": "2025-04-19T09:18:03.944062Z",
     "shell.execute_reply": "2025-04-19T09:18:03.943300Z",
     "shell.execute_reply.started": "2025-04-19T09:18:03.939710Z"
    },
    "trusted": true
   },
   "outputs": [],
   "source": [
    "models_performance['mae'].append(mae)\n",
    "models_performance['mse'].append(mse)\n",
    "models_performance['r2'].append(r2)\n",
    "models_performance['rmsle'].append(rmsle)\n",
    "models_performance['train_time'].append(training_time)\n",
    "models_performance['model'].append('TabNet')"
   ]
  },
  {
   "cell_type": "markdown",
   "metadata": {},
   "source": [
    "## Evaluation"
   ]
  },
  {
   "cell_type": "code",
   "execution_count": 53,
   "metadata": {
    "execution": {
     "iopub.execute_input": "2025-04-19T09:18:03.945173Z",
     "iopub.status.busy": "2025-04-19T09:18:03.944873Z",
     "iopub.status.idle": "2025-04-19T09:18:03.971726Z",
     "shell.execute_reply": "2025-04-19T09:18:03.971186Z",
     "shell.execute_reply.started": "2025-04-19T09:18:03.945147Z"
    },
    "trusted": true
   },
   "outputs": [
    {
     "data": {
      "text/html": [
       "<div>\n",
       "<style scoped>\n",
       "    .dataframe tbody tr th:only-of-type {\n",
       "        vertical-align: middle;\n",
       "    }\n",
       "\n",
       "    .dataframe tbody tr th {\n",
       "        vertical-align: top;\n",
       "    }\n",
       "\n",
       "    .dataframe thead th {\n",
       "        text-align: right;\n",
       "    }\n",
       "</style>\n",
       "<table border=\"1\" class=\"dataframe\">\n",
       "  <thead>\n",
       "    <tr style=\"text-align: right;\">\n",
       "      <th></th>\n",
       "      <th>mae</th>\n",
       "      <th>mse</th>\n",
       "      <th>r2</th>\n",
       "      <th>rmsle</th>\n",
       "      <th>train_time</th>\n",
       "      <th>model</th>\n",
       "    </tr>\n",
       "  </thead>\n",
       "  <tbody>\n",
       "    <tr>\n",
       "      <th>0</th>\n",
       "      <td>645.190063</td>\n",
       "      <td>847928.687500</td>\n",
       "      <td>-0.134678</td>\n",
       "      <td>1.097347</td>\n",
       "      <td>646.807431</td>\n",
       "      <td>Linear Model</td>\n",
       "    </tr>\n",
       "    <tr>\n",
       "      <th>1</th>\n",
       "      <td>630.493347</td>\n",
       "      <td>817649.812500</td>\n",
       "      <td>-0.094160</td>\n",
       "      <td>1.092545</td>\n",
       "      <td>799.357147</td>\n",
       "      <td>Regression Model</td>\n",
       "    </tr>\n",
       "    <tr>\n",
       "      <th>2</th>\n",
       "      <td>632.231140</td>\n",
       "      <td>814636.812500</td>\n",
       "      <td>-0.090128</td>\n",
       "      <td>1.094783</td>\n",
       "      <td>759.382577</td>\n",
       "      <td>Residual Network</td>\n",
       "    </tr>\n",
       "    <tr>\n",
       "      <th>3</th>\n",
       "      <td>640.116527</td>\n",
       "      <td>880998.638758</td>\n",
       "      <td>-0.178932</td>\n",
       "      <td>1.081567</td>\n",
       "      <td>1097.001399</td>\n",
       "      <td>TabNet</td>\n",
       "    </tr>\n",
       "  </tbody>\n",
       "</table>\n",
       "</div>"
      ],
      "text/plain": [
       "          mae            mse        r2     rmsle   train_time  \\\n",
       "0  645.190063  847928.687500 -0.134678  1.097347   646.807431   \n",
       "1  630.493347  817649.812500 -0.094160  1.092545   799.357147   \n",
       "2  632.231140  814636.812500 -0.090128  1.094783   759.382577   \n",
       "3  640.116527  880998.638758 -0.178932  1.081567  1097.001399   \n",
       "\n",
       "              model  \n",
       "0      Linear Model  \n",
       "1  Regression Model  \n",
       "2  Residual Network  \n",
       "3            TabNet  "
      ]
     },
     "execution_count": 53,
     "metadata": {},
     "output_type": "execute_result"
    }
   ],
   "source": [
    "performance_df = pd.DataFrame(models_performance)\n",
    "performance_df"
   ]
  },
  {
   "cell_type": "code",
   "execution_count": 54,
   "metadata": {
    "execution": {
     "iopub.execute_input": "2025-04-19T09:18:03.972510Z",
     "iopub.status.busy": "2025-04-19T09:18:03.972345Z",
     "iopub.status.idle": "2025-04-19T09:18:04.770439Z",
     "shell.execute_reply": "2025-04-19T09:18:04.769646Z",
     "shell.execute_reply.started": "2025-04-19T09:18:03.972497Z"
    },
    "trusted": true
   },
   "outputs": [
    {
     "data": {
      "image/png": "[encoded data removed]",
      "text/plain": [
       "<Figure size 1000x2000 with 5 Axes>"
      ]
     },
     "metadata": {},
     "output_type": "display_data"
    }
   ],
   "source": [
    "metrics = ['mae', 'mse', 'r2', 'rmsle', 'train_time']\n",
    "fig, axes = plt.subplots(5, 1, figsize=(10, 20))\n",
    "\n",
    "for i, metric in enumerate(metrics):\n",
    "    ax = axes[i]\n",
    "    sns.barplot(x='model', y=metric, data=performance_df, ax=ax, palette='Set2')\n",
    "    ax.set_title(metric.upper())\n",
    "    ax.tick_params(axis='x')\n",
    "    ax.set_xlabel('')\n",
    "    ax.set_ylabel('')\n",
    "\n",
    "    for p in ax.patches:\n",
    "        value = p.get_height()\n",
    "        ax.annotate(f'{value:.2f}', \n",
    "                    (p.get_x() + p.get_width() / 2., value),\n",
    "                    ha='center', va='bottom', fontsize=9)\n",
    "\n",
    "plt.tight_layout()\n",
    "plt.show()"
   ]
  },
  {
   "cell_type": "markdown",
   "metadata": {},
   "source": [
    "Key Observation:\n",
    "+ MAE :\n",
    "    + The RegressionModel ResidualNetwork has the lowest MAE in general,  likely due to its deep architecture allowing it to learn more complex relationships in the data.\n",
    "    + Simple linear model have the highest MAE, too simplistic for the problem\n",
    "\n",
    "+ MSE:\n",
    "    + ResidualNetwork also have the lowest MSE, probably captures general trends \n",
    "    + TabNetRegressor other models perform decently\n",
    "\n",
    "+ R2:\n",
    "    + All models have relative low R2\n",
    "    + ResidualNetwork learns better variance structure, even if not perfect. Still good overall\n",
    "    + LinearModel and TabNetRegressor still perform the worst, barely explains any variance, poor fit for complex data.\n",
    "\n",
    "+ RMSLE :\n",
    "    + TabNetRegressor have a good RMSLE, indicating the model good at handling skewed distributions and avoiding large proportional errors.\n",
    "    + Other model perform similarly, neural networks are often solid for this metric, especially with well-scaled data.\n",
    "\n",
    "+ Training Time:\n",
    "    + LinearModel train the fastest for it simple and fast forward architect\n",
    "    + ResidualNetwork and RegressionModel train relatively faster\n",
    "    + TabNetRegressor train the slowest with heavy computation per epoch\n",
    "\n",
    "+ Summary:\n",
    "    + ResidualNetwork give the most consistente and balanced performance\n",
    "    + TabNetRegressor shows promise, but slow training time make the model take longer to converge\n",
    "    + LinearModel is not suitable for this problem, due to underfitting and poor variance capture\n"
   ]
  },
  {
   "cell_type": "markdown",
   "metadata": {},
   "source": [
    "## Final Model Submission"
   ]
  },
  {
   "cell_type": "markdown",
   "metadata": {},
   "source": [
    "Since we know the metric is RMSLE, we choose the model with best RMSLE score as our candidate for submission : TabNetRegressor"
   ]
  },
  {
   "cell_type": "code",
   "execution_count": null,
   "metadata": {
    "execution": {
     "iopub.execute_input": "2025-04-19T09:18:04.771465Z",
     "iopub.status.busy": "2025-04-19T09:18:04.771262Z",
     "iopub.status.idle": "2025-04-19T09:18:41.404509Z",
     "shell.execute_reply": "2025-04-19T09:18:41.403868Z",
     "shell.execute_reply.started": "2025-04-19T09:18:04.771449Z"
    },
    "trusted": true
   },
   "outputs": [],
   "source": [
    "y_submit = tabnet_model.predict(np.array(test.values, dtype = np.float32))\n",
    "y_submit = np.expm1(y_submit)\n",
    "df_submit = pd.read_csv(\"/kaggle/input/introml-clc-hk2-2425/test.csv\")[['id']].copy()\n",
    "df_submit['target'] = y_submit\n",
    "\n",
    "df_submit.to_csv(\"tabnet_regressor.csv\", index = False)\n"
   ]
  },
  {
   "cell_type": "markdown",
   "metadata": {},
   "source": [
    "We also choose the best model that balance between all metrics : Residual Network"
   ]
  },
  {
   "cell_type": "code",
   "execution_count": 56,
   "metadata": {
    "execution": {
     "iopub.execute_input": "2025-04-19T09:18:41.405621Z",
     "iopub.status.busy": "2025-04-19T09:18:41.405347Z",
     "iopub.status.idle": "2025-04-19T09:18:42.461797Z",
     "shell.execute_reply": "2025-04-19T09:18:42.461211Z",
     "shell.execute_reply.started": "2025-04-19T09:18:41.405597Z"
    },
    "trusted": true
   },
   "outputs": [],
   "source": [
    "submit_input = torch.from_numpy(np.array(test.values, dtype = np.float32)).to(DEVICE)\n",
    "\n",
    "residual_network.eval()\n",
    "with torch.inference_mode():\n",
    "    y_submit = residual_network(submit_input).detach().cpu().numpy()\n",
    "    y_submit = np.expm1(y_submit)\n",
    "   "
   ]
  },
  {
   "cell_type": "code",
   "execution_count": null,
   "metadata": {
    "execution": {
     "iopub.execute_input": "2025-04-19T09:18:42.462678Z",
     "iopub.status.busy": "2025-04-19T09:18:42.462491Z",
     "iopub.status.idle": "2025-04-19T09:18:45.856724Z",
     "shell.execute_reply": "2025-04-19T09:18:45.855947Z",
     "shell.execute_reply.started": "2025-04-19T09:18:42.462664Z"
    },
    "trusted": true
   },
   "outputs": [],
   "source": [
    "df_submit = pd.read_csv(\"/kaggle/input/introml-clc-hk2-2425/test.csv\")[['id']].copy()\n",
    "df_submit['target'] = y_submit\n",
    "\n",
    "df_submit.to_csv(\"residual_net.csv\", index = False)"
   ]
  },
  {
   "cell_type": "markdown",
   "metadata": {},
   "source": [
    "## Limitation Analysis: Erroneous Cases and Their Properties\n",
    "\n",
    "1. **Properties of Erroneous Cases**\n",
    "- **Limited Data Representation**\n",
    "    - **Observation:**\n",
    "        - The dataset may lack sufficient representation of certain cases, such as rare categories or extreme target values.\n",
    "        - Frequency encoding and interaction features were added to address this, but they may not fully capture the underlying patterns.\n",
    "    - **Impact:**\n",
    "        - The models may underperform on underrepresented cases, leading to high errors for these instances.\n",
    "- **Missing Features Label**\n",
    "    - **Observation:**\n",
    "        - Columns name or features name in the dataset are missing, therefore we can't judge which feature is important to the target.\n",
    "    - **Impact:**\n",
    "        - We were forced to guess the labels and combine the features blindly without involvement of domain knowledge.\n",
    "- **Skewed Distribution**\n",
    "    - **Observation:**\n",
    "        - The distribution of the target variable is imbalance and focus on a specific lower range only \n",
    "    - **Impact:**\n",
    "        -  Some models (like TabNetRegressor) that were initially judged as \"not generalizing well\" acidentally achieved good RMSLE scores, likely because they tended to predict smaller values overall\n",
    "- **Too Much Data**\n",
    "    - **Observation:**\n",
    "          - The dataset contains an overwhelming number of features and entries, many of which may be irrelevant or redundant.\n",
    "    - **Impact:**\n",
    "        - The training process becomes significantly slower and more resource-intensive.\n",
    "        - It significantly impact the models's architecture, as number of hidden layers, number of neurons and number of epochs has to be reduced in order to manage computational demands, potentially affecting model performance and accuracy.\n",
    "- **Outliers**\n",
    "    - **Observation:**\n",
    "        - The dataset contains significant outliers in the target and other numerical features\n",
    "    - **Impact:**\n",
    "        - Unlike boosting and tree algorithm, Neural Network are sensitive to outliers, lead to bias and impact a model's accuracy.\n",
    "\n",
    "2. **Reasons for Inaccuracy**\n",
    "- **Model Architecture**\n",
    "    - **Observation:**\n",
    "        - Simpler architectures such as LinearModel tend to underfit the data due to their limited capacity to capture complex patterns.\n",
    "        - More advanced architectures like ResidualNetwork and TabNetRegressor are better suited to the task and demonstrate stronger representational power.\n",
    "        - However, the number of layers in these models was deliberately restricted to prevent excessive training time and computational cost.\n",
    "    - **Impact:**\n",
    "        - As mention above, the limited depth and number of training epochs constrained the models' ability to fully converge and learn fine-grained patterns in the data.\n",
    "        - As a result, the models may perform sub-optimally, especially on edge cases or instances requiring deeper feature interaction.\n",
    "- **Overfitting to Noise**\n",
    "    - **Observation:**\n",
    "        - The models may overfit to noise in the data, especially for features with low predictive power or high variability.\n",
    "        - Feature selection was performed to remove low-importance features, but some noise may still remain.\n",
    "    - **Impact:**\n",
    "        - Overfitting to noise can reduce the model's ability to generalize, leading to poor performance on the validation set.\n",
    "- **Metric Sensitivity**\n",
    "    - **Observation:**\n",
    "        - RMSLE penalizes large relative errors, making it sensitive to small target values.\n",
    "        - RMSE penalizes large absolute errors, making it sensitive to extreme target values.\n",
    "    - **Impact:**\n",
    "        - The combination of these metrics highlights the models' struggles with both small and extreme target values, reflecting their inability to balance predictions across the entire target range.\n"
   ]
  }
 ],
 "metadata": {
  "kaggle": {
   "accelerator": "nvidiaTeslaT4",
   "dataSources": [
    {
     "datasetId": 7037421,
     "sourceId": 11259948,
     "sourceType": "datasetVersion"
    }
   ],
   "dockerImageVersionId": 31012,
   "isGpuEnabled": true,
   "isInternetEnabled": true,
   "language": "python",
   "sourceType": "notebook"
  },
  "kernelspec": {
   "display_name": "Python 3",
   "language": "python",
   "name": "python3"
  },
  "language_info": {
   "codemirror_mode": {
    "name": "ipython",
    "version": 3
   },
   "file_extension": ".py",
   "mimetype": "text/x-python",
   "name": "python",
   "nbconvert_exporter": "python",
   "pygments_lexer": "ipython3",
   "version": "3.11.11"
  }
 },
 "nbformat": 4,
 "nbformat_minor": 4
}
